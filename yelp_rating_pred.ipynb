{
 "cells": [
  {
   "cell_type": "markdown",
   "metadata": {},
   "source": [
    "## Pre-Processing"
   ]
  },
  {
   "cell_type": "code",
   "execution_count": 161,
   "metadata": {
    "collapsed": false,
    "scrolled": true
   },
   "outputs": [
    {
     "name": "stdout",
     "output_type": "stream",
     "text": [
      "Populating the interactive namespace from numpy and matplotlib\n"
     ]
    },
    {
     "name": "stderr",
     "output_type": "stream",
     "text": [
      "/Users/piyushghai/anaconda/lib/python2.7/site-packages/IPython/core/magics/pylab.py:161: UserWarning: pylab import has clobbered these variables: ['colors', 'pylab']\n",
      "`%matplotlib` prevents importing * from pylab and numpy\n",
      "  \"\\n`%matplotlib` prevents importing * from pylab and numpy\"\n"
     ]
    }
   ],
   "source": [
    "%pylab inline"
   ]
  },
  {
   "cell_type": "code",
   "execution_count": 1,
   "metadata": {
    "collapsed": false
   },
   "outputs": [],
   "source": [
    "#This was run to convert the json to csv. The parser was supplied along with the dataset, obtained from : https://www.yelp.com/dataset_challenge\n",
    "\n",
    "#%#run json_to_csv_converter.py \"Data/yelp_academic_dataset_business.json\"\n",
    "#%run json_to_csv_converter.py \"Data/yelp_academic_dataset_review.json\""
   ]
  },
  {
   "cell_type": "code",
   "execution_count": 4,
   "metadata": {
    "collapsed": false
   },
   "outputs": [
    {
     "name": "stderr",
     "output_type": "stream",
     "text": [
      "/Users/piyushghai/anaconda/lib/python2.7/site-packages/matplotlib/font_manager.py:273: UserWarning: Matplotlib is building the font cache using fc-list. This may take a moment.\n",
      "  warnings.warn('Matplotlib is building the font cache using fc-list. This may take a moment.')\n",
      "/Users/piyushghai/anaconda/lib/python2.7/site-packages/gensim/utils.py:1015: UserWarning: Pattern library is not installed, lemmatization won't be available.\n",
      "  warnings.warn(\"Pattern library is not installed, lemmatization won't be available.\")\n",
      "/Users/piyushghai/anaconda/lib/python2.7/site-packages/sklearn/lda.py:4: DeprecationWarning: lda.LDA has been moved to discriminant_analysis.LinearDiscriminantAnalysis in 0.17 and will be removed in 0.19\n",
      "  \"in 0.17 and will be removed in 0.19\", DeprecationWarning)\n",
      "/Users/piyushghai/anaconda/lib/python2.7/site-packages/sklearn/qda.py:4: DeprecationWarning: qda.QDA has been moved to discriminant_analysis.QuadraticDiscriminantAnalysis in 0.17 and will be removed in 0.19.\n",
      "  \"in 0.17 and will be removed in 0.19.\", DeprecationWarning)\n"
     ]
    }
   ],
   "source": [
    "#All the imports in one place\n",
    "\n",
    "import time\n",
    "import datetime\n",
    "\n",
    "import cPickle as pickle\n",
    "import matplotlib.pyplot as plt\n",
    "import nltk\n",
    "import numpy as np\n",
    "import pandas as pd\n",
    "import pylab\n",
    "import re\n",
    "import scipy as sp\n",
    "import seaborn\n",
    "\n",
    "from gensim import corpora, models\n",
    "from nltk.corpus import stopwords\n",
    "from sklearn import metrics\n",
    "from sklearn.metrics import classification_report\n",
    "from sklearn.naive_bayes import MultinomialNB\n",
    "\n",
    "from sklearn.feature_extraction.text import TfidfVectorizer\n",
    "from sklearn.neighbors import KNeighborsClassifier\n",
    "from sklearn.linear_model import LogisticRegression\n",
    "from sklearn.lda import LDA\n",
    "from sklearn.qda import QDA\n",
    "from sklearn.ensemble import RandomForestClassifier, AdaBoostClassifier\n",
    "from sklearn.metrics import accuracy_score\n",
    "from sklearn.metrics import roc_curve, auc\n",
    "\n",
    "from sklearn.feature_extraction.text import CountVectorizer, TfidfVectorizer\n",
    "from sklearn.naive_bayes import *\n",
    "from sklearn.svm import SVC\n",
    "from sklearn.linear_model import LogisticRegression\n",
    "from sklearn.multiclass import OneVsRestClassifier\n",
    "from sklearn.ensemble import RandomForestClassifier, AdaBoostClassifier\n",
    "from sklearn import metrics\n",
    "from sklearn.metrics import confusion_matrix, classification_report, precision_score, recall_score, roc_auc_score\n",
    "\n",
    "\n",
    "plt.rc('figure', figsize=(10,6))\n",
    "seaborn.set()\n",
    "colors = seaborn.color_palette()"
   ]
  },
  {
   "cell_type": "code",
   "execution_count": 5,
   "metadata": {
    "collapsed": true
   },
   "outputs": [],
   "source": [
    "def getReducedDataFrame():\n",
    "    business_data = pd.read_csv(\"Data/yelp_academic_dataset_business.csv\", dtype=unicode)\n",
    "    review_data = pd.read_csv(\"Data/yelp_academic_dataset_review.csv\")\n",
    "    len(review_data)\n",
    "    len(business_data)\n",
    "    #We are targetting reviews related to restaurants only\n",
    "    resto_business_data = business_data[business_data['categories'].str.contains('Restaurants')]\n",
    "    len(resto_business_data)\n",
    "    #Merging review data along with business data based on business id.\n",
    "    resto_review_data = review_data.merge(resto_business_data,\n",
    "                                         left_on='business_id',\n",
    "                                         right_on='business_id',\n",
    "                                         suffixes=('_review', '_business'))\n",
    "    list(resto_review_data)\n",
    "    #Stripping out everything else and just keeping the text of reviews and star rating\n",
    "    resto_review_data = resto_review_data.ix[:,['text','stars_review']]\n",
    "    return resto_review_data"
   ]
  },
  {
   "cell_type": "code",
   "execution_count": 6,
   "metadata": {
    "collapsed": false
   },
   "outputs": [],
   "source": [
    "#Stripping out everything else and just keeping the text of reviews and star rating\n",
    "resto_review_data = getReducedDataFrame()"
   ]
  },
  {
   "cell_type": "code",
   "execution_count": 79,
   "metadata": {
    "collapsed": false
   },
   "outputs": [
    {
     "data": {
      "text/plain": [
       "<matplotlib.text.Text at 0x12637588>"
      ]
     },
     "execution_count": 79,
     "metadata": {},
     "output_type": "execute_result"
    },
    {
     "data": {
      "image/png": "[encoded data removed]",
      "text/plain": [
       "<matplotlib.figure.Figure at 0x1377a630>"
      ]
     },
     "metadata": {},
     "output_type": "display_data"
    }
   ],
   "source": [
    "resto_review_data.text.dropna().str.len().hist(bins=50)\n",
    "xlabel('Length of the review')\n",
    "ylabel('Number of reviews')"
   ]
  },
  {
   "cell_type": "code",
   "execution_count": 7,
   "metadata": {
    "collapsed": true
   },
   "outputs": [],
   "source": [
    "def reduceReviewBasedOnLength(resto_review_data, minReviewLen, maxReviewLen) :\n",
    "    resto_review_reduced = resto_review_data[resto_review_data.text.str.len() > minReviewLen]\n",
    "    len(resto_review_reduced)\n",
    "    resto_review_reduced = resto_review_reduced[resto_review_reduced.text.str.len() < maxReviewLen]\n",
    "    return resto_review_reduced\n",
    "    "
   ]
  },
  {
   "cell_type": "code",
   "execution_count": 9,
   "metadata": {
    "collapsed": false
   },
   "outputs": [
    {
     "data": {
      "text/plain": [
       "910340"
      ]
     },
     "execution_count": 9,
     "metadata": {},
     "output_type": "execute_result"
    }
   ],
   "source": [
    "resto_review = reduceReviewBasedOnLength(resto_review_data= resto_review_data, minReviewLen=50, maxReviewLen=500)\n",
    "len(resto_review)"
   ]
  },
  {
   "cell_type": "code",
   "execution_count": 10,
   "metadata": {
    "collapsed": true
   },
   "outputs": [],
   "source": [
    "### Optional :  Sampling : \n",
    "resto_review = resto_review.sample(100000)"
   ]
  },
  {
   "cell_type": "code",
   "execution_count": null,
   "metadata": {
    "collapsed": true
   },
   "outputs": [],
   "source": [
    "pickle.dump(resto_review, open(\"resto_review.p\", \"wb\"))"
   ]
  },
  {
   "cell_type": "code",
   "execution_count": 24,
   "metadata": {
    "collapsed": false
   },
   "outputs": [],
   "source": [
    "#Convert stars to float\n",
    "resto_review.stars_review = resto_review.stars_review.astype(float)"
   ]
  },
  {
   "cell_type": "code",
   "execution_count": 96,
   "metadata": {
    "collapsed": false
   },
   "outputs": [
    {
     "data": {
      "image/png": "[encoded data removed]",
      "text/plain": [
       "<matplotlib.figure.Figure at 0x10bb8dd8>"
      ]
     },
     "metadata": {},
     "output_type": "display_data"
    }
   ],
   "source": [
    "bins = [1, 2, 3 ,4, 5, 6]\n",
    "resto_review.stars_review.hist(bins=bins, align='left', width=0.93)\n",
    "xticks(bins)\n",
    "xlabel('Rating stars')\n",
    "ylabel('Number of reviews')\n",
    "plt.show()"
   ]
  },
  {
   "cell_type": "markdown",
   "metadata": {
    "collapsed": true
   },
   "source": [
    "## Baseline Model"
   ]
  },
  {
   "cell_type": "code",
   "execution_count": 11,
   "metadata": {
    "collapsed": false
   },
   "outputs": [
    {
     "name": "stdout",
     "output_type": "stream",
     "text": [
      "Baseline Rating: 3.0\n"
     ]
    }
   ],
   "source": [
    "## The baseline model will be a dumb model based purely on the averages\n",
    "review_data = resto_review\n",
    "review_data['predicted_rating'] = round(sum(review_data.stars_review)/len(review_data.index))\n"
   ]
  },
  {
   "cell_type": "code",
   "execution_count": null,
   "metadata": {
    "collapsed": true
   },
   "outputs": [],
   "source": [
    "print \"Baseline Rating:\", round(sum(review_data.stars_review)/len(review_data.index))"
   ]
  },
  {
   "cell_type": "code",
   "execution_count": 13,
   "metadata": {
    "collapsed": false,
    "scrolled": true
   },
   "outputs": [
    {
     "data": {
      "text/plain": [
       "100000"
      ]
     },
     "execution_count": 13,
     "metadata": {},
     "output_type": "execute_result"
    }
   ],
   "source": [
    "len(review_data)"
   ]
  },
  {
   "cell_type": "code",
   "execution_count": 14,
   "metadata": {
    "collapsed": false,
    "scrolled": true
   },
   "outputs": [
    {
     "name": "stderr",
     "output_type": "stream",
     "text": [
      "/Users/piyushghai/anaconda/lib/python2.7/site-packages/sklearn/metrics/classification.py:1203: DeprecationWarning: The default `weighted` averaging is deprecated, and from version 0.18, use of precision, recall or F-score with multiclass or multilabel data or pos_label=None will result in an exception. Please set an explicit value for `average`, one of (None, 'micro', 'macro', 'weighted', 'samples'). In cross validation use, for instance, scoring=\"f1_weighted\" instead of scoring=\"f1\".\n",
      "  sample_weight=sample_weight)\n",
      "/Users/piyushghai/anaconda/lib/python2.7/site-packages/sklearn/metrics/classification.py:1074: UndefinedMetricWarning: Precision is ill-defined and being set to 0.0 in labels with no predicted samples.\n",
      "  'precision', 'predicted', average, warn_for)\n",
      "/Users/piyushghai/anaconda/lib/python2.7/site-packages/sklearn/metrics/classification.py:1304: DeprecationWarning: The default `weighted` averaging is deprecated, and from version 0.18, use of precision, recall or F-score with multiclass or multilabel data or pos_label=None will result in an exception. Please set an explicit value for `average`, one of (None, 'micro', 'macro', 'weighted', 'samples'). In cross validation use, for instance, scoring=\"f1_weighted\" instead of scoring=\"f1\".\n",
      "  sample_weight=sample_weight)\n",
      "/Users/piyushghai/anaconda/lib/python2.7/site-packages/sklearn/metrics/classification.py:756: DeprecationWarning: The default `weighted` averaging is deprecated, and from version 0.18, use of precision, recall or F-score with multiclass or multilabel data or pos_label=None will result in an exception. Please set an explicit value for `average`, one of (None, 'micro', 'macro', 'weighted', 'samples'). In cross validation use, for instance, scoring=\"f1_weighted\" instead of scoring=\"f1\".\n",
      "  sample_weight=sample_weight)\n",
      "/Users/piyushghai/anaconda/lib/python2.7/site-packages/sklearn/metrics/classification.py:1074: UndefinedMetricWarning: F-score is ill-defined and being set to 0.0 in labels with no predicted samples.\n",
      "  'precision', 'predicted', average, warn_for)\n"
     ]
    },
    {
     "data": {
      "text/html": [
       "<div>\n",
       "<table border=\"1\" class=\"dataframe\">\n",
       "  <thead>\n",
       "    <tr style=\"text-align: right;\">\n",
       "      <th></th>\n",
       "      <th>accuracy</th>\n",
       "      <th>f1_score</th>\n",
       "      <th>precision</th>\n",
       "      <th>recall</th>\n",
       "    </tr>\n",
       "  </thead>\n",
       "  <tbody>\n",
       "    <tr>\n",
       "      <th>Baseline</th>\n",
       "      <td>0.11356</td>\n",
       "      <td>0.023162</td>\n",
       "      <td>0.012896</td>\n",
       "      <td>0.11356</td>\n",
       "    </tr>\n",
       "  </tbody>\n",
       "</table>\n",
       "</div>"
      ],
      "text/plain": [
       "          accuracy  f1_score  precision   recall\n",
       "Baseline   0.11356  0.023162   0.012896  0.11356"
      ]
     },
     "execution_count": 14,
     "metadata": {},
     "output_type": "execute_result"
    }
   ],
   "source": [
    "precision = metrics.precision_score(review_data.stars_review, review_data.predicted_rating)\n",
    "recall = metrics.recall_score(review_data.stars_review, review_data.predicted_rating)\n",
    "f1 = metrics.f1_score(review_data.stars_review, review_data.predicted_rating)\n",
    "accuracy = accuracy_score(review_data.stars_review, review_data.predicted_rating)\n",
    "\n",
    "baselineResult = {}\n",
    "\n",
    "data = {'precision':precision,\n",
    "        'recall':recall,\n",
    "        'f1_score':f1,\n",
    "        'accuracy':accuracy}\n",
    "\n",
    "baselineResult['Baseline'] = data\n",
    "pd.DataFrame(baselineResult).T"
   ]
  },
  {
   "cell_type": "markdown",
   "metadata": {},
   "source": [
    "## Model 1 - Rating prediction from Topics extracted from reviews using LDA"
   ]
  },
  {
   "cell_type": "code",
   "execution_count": 15,
   "metadata": {
    "collapsed": true
   },
   "outputs": [],
   "source": [
    "## Get the stopwords for preprocessing\n",
    "\n",
    "NLTK_STOPWORDS = set(stopwords.words('english'))\n",
    "MORE_STOPWORDS = set([line.strip() for line in open('more_stopwords.txt', 'r')])"
   ]
  },
  {
   "cell_type": "code",
   "execution_count": 17,
   "metadata": {
    "collapsed": true
   },
   "outputs": [],
   "source": [
    "## NLTK pipeline\n",
    "\n",
    "def lowercase(s):\n",
    "    return s.lower()\n",
    "\n",
    "def tokenize(s):\n",
    "    token_list = nltk.word_tokenize(s)\n",
    "    return token_list\n",
    "\n",
    "def remove_punctuation(s):\n",
    "    return s.translate(None, string.punctuation)\n",
    "\n",
    "def remove_numbers(s):\n",
    "    return s.translate(None, string.digits)\n",
    " \n",
    "def remove_stopwords(token_list):\n",
    "    exclude_stopwords = lambda token : token not in NLTK_STOPWORDS\n",
    "    return filter(lambda tok : tok not in MORE_STOPWORDS, filter(exclude_stopwords, token_list))\n",
    "\n",
    "def stemming_token_list(token_list):\n",
    "    STEMMER = PorterStemmer()\n",
    "    return [STEMMER.stem(tok.decode('utf-8')) for tok in token_list]\n",
    "\n",
    "def restring_tokens(token_list):\n",
    "    return ' '.join(token_list)"
   ]
  },
  {
   "cell_type": "code",
   "execution_count": 18,
   "metadata": {
    "collapsed": true
   },
   "outputs": [],
   "source": [
    "# Clean all the reviews by removing stop words as well as punctutation marks\n",
    "def process_reviews(data_set):\n",
    "    clean_data_set = []\n",
    "    for text in data_set:\n",
    "        text = lowercase(text)\n",
    "        text = remove_punctuation(text)\n",
    "        text = remove_numbers(text)\n",
    "\n",
    "        token_list = tokenize(text)\n",
    "        token_list = remove_stopwords(token_list)\n",
    "\n",
    "        token_list = stemming_token_list(token_list)\n",
    "        \n",
    "        try:\n",
    "            clean_data_set.append(restring_tokens(token_list))\n",
    "        except:\n",
    "            pass\n",
    "    return clean_data_set"
   ]
  },
  {
   "cell_type": "code",
   "execution_count": 19,
   "metadata": {
    "collapsed": true
   },
   "outputs": [],
   "source": [
    "# Function to create the LDA model from the training dataset.\n",
    "def perform_lda(train, totalTopics):\n",
    "    corpus = []\n",
    "    for text in train:\n",
    "        text_list = [word for word in text]\n",
    "        try:\n",
    "            corpus.apped(text_list)\n",
    "        except:\n",
    "            pass\n",
    "\n",
    "    # Build dictionary\n",
    "    dictionary = corpora.Dictionary(corpus)\n",
    "    # Save the dictionary\n",
    "    dictionary.save('restaurant_reviews.dict')\n",
    "        \n",
    "    # Build vectorized corpus\n",
    "    corpus_vector = [dictionary.doc2bow(text) for text in corpus]\n",
    "    \n",
    "    lda = models.LdaModel(corpus_vector, num_topics=totalTopics, id2word=dictionary)\n",
    "    return lda"
   ]
  },
  {
   "cell_type": "code",
   "execution_count": 20,
   "metadata": {
    "collapsed": true
   },
   "outputs": [],
   "source": [
    "# Generates a matrix of topic probabilities for each document in matrix\n",
    "# Returns topic_dist for the input corpus, and all_dist, a running sum of all the corpuses\n",
    "def getTopicDistMatrix(lda, totalTopics, corpus, all_dist, star):\n",
    "    topic_dist = [0] * totalTopics\n",
    "    # Load the dictionary\n",
    "    dictionary = corpora.Dictionary.load(\"restaurant_reviews.dict\")\n",
    "    # For every reviewDoc in the corpus, compute the prob dist matrix for each term\n",
    "    for review in corpus:\n",
    "        vec = dictionary.doc2bow(review.lower().split())\n",
    "        output = lda[vec]\n",
    "        highest_prob = 0\n",
    "        highest_topic = 0\n",
    "        temp = [0] * totalTopics    # List to keep track of topic distribution for each document\n",
    "        for topic in output:\n",
    "            this_topic, this_prob = topic\n",
    "            temp[this_topic] = this_prob\n",
    "            if this_prob > highest_prob:\n",
    "                highest_prob = this_prob \n",
    "                highest_topic = this_topic\n",
    "        temp.append(star)\n",
    "        all_dist.append(temp)\n",
    "        topic_dist[highest_topic] += 1\n",
    "    return topic_dist, all_dist"
   ]
  },
  {
   "cell_type": "code",
   "execution_count": 24,
   "metadata": {
    "collapsed": true
   },
   "outputs": [],
   "source": [
    "# Group all reviews per star rating and extract text out of them\n",
    "starsGroup = resto_review.groupby('stars_review')\n",
    "\n",
    "text_star_1 = starsGroup.get_group(1.0)['text']\n",
    "text_star_2 = starsGroup.get_group(2.0)['text']\n",
    "text_star_3 = starsGroup.get_group(3.0)['text']\n",
    "text_star_4 = starsGroup.get_group(4.0)['text']\n",
    "text_star_5 = starsGroup.get_group(5.0)['text']"
   ]
  },
  {
   "cell_type": "code",
   "execution_count": 25,
   "metadata": {
    "collapsed": false
   },
   "outputs": [],
   "source": [
    "# Optional : To reduce the dataset size and prevent laptop from frying, reduce the dataset size by sampling\n",
    "sampling = 1000 # No of rows to be sampled\n",
    "\n",
    "text_star_1 = text_star_1.sample(sampling)\n",
    "text_star_2 = text_star_2.sample(sampling)\n",
    "text_star_3 = text_star_3.sample(sampling)\n",
    "text_star_4 = text_star_4.sample(sampling)\n",
    "text_star_5 = text_star_5.sample(sampling)"
   ]
  },
  {
   "cell_type": "code",
   "execution_count": 26,
   "metadata": {
    "collapsed": true
   },
   "outputs": [],
   "source": [
    "# Add all the corresponding original labels to reviews\n",
    "label_star_1 = [1.0]*len(text_star_1)\n",
    "label_star_2 = [2.0]*len(text_star_2)\n",
    "label_star_3 = [3.0]*len(text_star_3)\n",
    "label_star_4 = [4.0]*len(text_star_4)\n",
    "label_star_5 = [5.0]*len(text_star_5)"
   ]
  },
  {
   "cell_type": "code",
   "execution_count": 27,
   "metadata": {
    "collapsed": true
   },
   "outputs": [],
   "source": [
    "from sklearn.cross_validation import train_test_split\n",
    "\n",
    "# Create test and training dataset. We use 80-20 sampling here. We can use 66-33 sampling too\n",
    "train_stars_1, test_stars_1, train_labels_stars_1, all_1stars_labels_test = train_test_split(text_star_1, label_star_1, test_size=0.30)\n",
    "train_stars_2, test_stars_2, train_labels_stars_2, all_2stars_labels_test = train_test_split(text_star_2, label_star_2, test_size=0.30)\n",
    "train_stars_3, test_stars_3, train_labels_stars_3, all_3stars_labels_test = train_test_split(text_star_3, label_star_3, test_size=0.30)\n",
    "train_stars_4, test_stars_4, train_labels_stars_4, all_4stars_labels_test = train_test_split(text_star_4, label_star_4, test_size=0.30)\n",
    "train_stars_5, test_stars_5, train_labels_stars_5, all_5stars_labels_test = train_test_split(text_star_5, label_star_5, test_size=0.30)"
   ]
  },
  {
   "cell_type": "code",
   "execution_count": 28,
   "metadata": {
    "collapsed": false
   },
   "outputs": [
    {
     "name": "stdout",
     "output_type": "stream",
     "text": [
      "700\n"
     ]
    }
   ],
   "source": [
    "print(len(train_labels_stars_1))"
   ]
  },
  {
   "cell_type": "code",
   "execution_count": 29,
   "metadata": {
    "collapsed": false
   },
   "outputs": [
    {
     "ename": "NameError",
     "evalue": "global name 'string' is not defined",
     "output_type": "error",
     "traceback": [
      "\u001b[0;31m---------------------------------------------------------------------------\u001b[0m",
      "\u001b[0;31mNameError\u001b[0m                                 Traceback (most recent call last)",
      "\u001b[0;32m<ipython-input-29-9680c7642a5a>\u001b[0m in \u001b[0;36m<module>\u001b[0;34m()\u001b[0m\n\u001b[1;32m      1\u001b[0m \u001b[0;31m## Cleaning all the reviews and building corpus out of them\u001b[0m\u001b[0;34m\u001b[0m\u001b[0;34m\u001b[0m\u001b[0m\n\u001b[0;32m----> 2\u001b[0;31m \u001b[0mcorpus_5stars\u001b[0m \u001b[0;34m=\u001b[0m \u001b[0mprocess_reviews\u001b[0m\u001b[0;34m(\u001b[0m\u001b[0mtrain_stars_5\u001b[0m\u001b[0;34m)\u001b[0m\u001b[0;34m\u001b[0m\u001b[0m\n\u001b[0m\u001b[1;32m      3\u001b[0m \u001b[0mcorpus_4stars\u001b[0m \u001b[0;34m=\u001b[0m \u001b[0mprocess_reviews\u001b[0m\u001b[0;34m(\u001b[0m\u001b[0mtrain_stars_4\u001b[0m\u001b[0;34m)\u001b[0m\u001b[0;34m\u001b[0m\u001b[0m\n\u001b[1;32m      4\u001b[0m \u001b[0mcorpus_3stars\u001b[0m \u001b[0;34m=\u001b[0m \u001b[0mprocess_reviews\u001b[0m\u001b[0;34m(\u001b[0m\u001b[0mtrain_stars_3\u001b[0m\u001b[0;34m)\u001b[0m\u001b[0;34m\u001b[0m\u001b[0m\n\u001b[1;32m      5\u001b[0m \u001b[0mcorpus_2stars\u001b[0m \u001b[0;34m=\u001b[0m \u001b[0mprocess_reviews\u001b[0m\u001b[0;34m(\u001b[0m\u001b[0mtrain_stars_2\u001b[0m\u001b[0;34m)\u001b[0m\u001b[0;34m\u001b[0m\u001b[0m\n",
      "\u001b[0;32m<ipython-input-18-66b9e00316cf>\u001b[0m in \u001b[0;36mprocess_reviews\u001b[0;34m(data_set)\u001b[0m\n\u001b[1;32m      4\u001b[0m     \u001b[0;32mfor\u001b[0m \u001b[0mtext\u001b[0m \u001b[0;32min\u001b[0m \u001b[0mdata_set\u001b[0m\u001b[0;34m:\u001b[0m\u001b[0;34m\u001b[0m\u001b[0m\n\u001b[1;32m      5\u001b[0m         \u001b[0mtext\u001b[0m \u001b[0;34m=\u001b[0m \u001b[0mlowercase\u001b[0m\u001b[0;34m(\u001b[0m\u001b[0mtext\u001b[0m\u001b[0;34m)\u001b[0m\u001b[0;34m\u001b[0m\u001b[0m\n\u001b[0;32m----> 6\u001b[0;31m         \u001b[0mtext\u001b[0m \u001b[0;34m=\u001b[0m \u001b[0mremove_punctuation\u001b[0m\u001b[0;34m(\u001b[0m\u001b[0mtext\u001b[0m\u001b[0;34m)\u001b[0m\u001b[0;34m\u001b[0m\u001b[0m\n\u001b[0m\u001b[1;32m      7\u001b[0m         \u001b[0mtext\u001b[0m \u001b[0;34m=\u001b[0m \u001b[0mremove_numbers\u001b[0m\u001b[0;34m(\u001b[0m\u001b[0mtext\u001b[0m\u001b[0;34m)\u001b[0m\u001b[0;34m\u001b[0m\u001b[0m\n\u001b[1;32m      8\u001b[0m \u001b[0;34m\u001b[0m\u001b[0m\n",
      "\u001b[0;32m<ipython-input-17-859dabca4e8d>\u001b[0m in \u001b[0;36mremove_punctuation\u001b[0;34m(s)\u001b[0m\n\u001b[1;32m      9\u001b[0m \u001b[0;34m\u001b[0m\u001b[0m\n\u001b[1;32m     10\u001b[0m \u001b[0;32mdef\u001b[0m \u001b[0mremove_punctuation\u001b[0m\u001b[0;34m(\u001b[0m\u001b[0ms\u001b[0m\u001b[0;34m)\u001b[0m\u001b[0;34m:\u001b[0m\u001b[0;34m\u001b[0m\u001b[0m\n\u001b[0;32m---> 11\u001b[0;31m     \u001b[0;32mreturn\u001b[0m \u001b[0ms\u001b[0m\u001b[0;34m.\u001b[0m\u001b[0mtranslate\u001b[0m\u001b[0;34m(\u001b[0m\u001b[0mNone\u001b[0m\u001b[0;34m,\u001b[0m \u001b[0mstring\u001b[0m\u001b[0;34m.\u001b[0m\u001b[0mpunctuation\u001b[0m\u001b[0;34m)\u001b[0m\u001b[0;34m\u001b[0m\u001b[0m\n\u001b[0m\u001b[1;32m     12\u001b[0m \u001b[0;34m\u001b[0m\u001b[0m\n\u001b[1;32m     13\u001b[0m \u001b[0;32mdef\u001b[0m \u001b[0mremove_numbers\u001b[0m\u001b[0;34m(\u001b[0m\u001b[0ms\u001b[0m\u001b[0;34m)\u001b[0m\u001b[0;34m:\u001b[0m\u001b[0;34m\u001b[0m\u001b[0m\n",
      "\u001b[0;31mNameError\u001b[0m: global name 'string' is not defined"
     ]
    }
   ],
   "source": [
    "## Cleaning all the reviews and building corpus out of them\n",
    "corpus_5stars = process_reviews(train_stars_5)\n",
    "corpus_4stars = process_reviews(train_stars_4)\n",
    "corpus_3stars = process_reviews(train_stars_3)\n",
    "corpus_2stars = process_reviews(train_stars_2)\n",
    "corpus_1stars = process_reviews(train_stars_1)"
   ]
  },
  {
   "cell_type": "code",
   "execution_count": null,
   "metadata": {
    "collapsed": true
   },
   "outputs": [],
   "source": [
    "print \"Number of 5-star reviews after processing: \", len(corpus_5stars)\n",
    "print \"Number of 4-star reviews after processing: \", len(corpus_4stars)\n",
    "print \"Number of 3-star reviews after processing: \", len(corpus_3stars)\n",
    "print \"Number of 2-star reviews after processing: \", len(corpus_2stars)\n",
    "print \"Number of 1-star reviews after processing: \", len(corpus_1stars)"
   ]
  },
  {
   "cell_type": "code",
   "execution_count": null,
   "metadata": {
    "collapsed": true
   },
   "outputs": [],
   "source": [
    "# Creating combined dataset for training, containing representation of all the 5 star ratings possible\n",
    "all_5_4_train = np.append(corpus_5stars, corpus_4stars)\n",
    "all_5_4_3_train = np.append(all_5_4_train, corpus_3stars)\n",
    "all_5_4_3_2_train = np.append(all_5_4_3_train, corpus_2stars)\n",
    "all_text_train = np.append(all_5_4_3_2_train, corpus_1stars)"
   ]
  },
  {
   "cell_type": "code",
   "execution_count": null,
   "metadata": {
    "collapsed": true
   },
   "outputs": [],
   "source": [
    "%time lda = perform_lda(all_text_train, totalTopics)"
   ]
  },
  {
   "cell_type": "code",
   "execution_count": 30,
   "metadata": {
    "collapsed": true
   },
   "outputs": [],
   "source": [
    "topic_dist_list = []\n",
    "\n",
    "# Keep a separate list to count topics\n",
    "topic_dist_5stars = []\n",
    "topic_dist_4stars = []\n",
    "topic_dist_3stars = []\n",
    "topic_dist_2stars = []\n",
    "topic_dist_1stars = []"
   ]
  },
  {
   "cell_type": "code",
   "execution_count": null,
   "metadata": {
    "collapsed": true
   },
   "outputs": [],
   "source": [
    "topic_dist_5stars, topic_dist_list = getTopicDistMatrix(lda, totalTopics, corpus_5stars, topic_dist_list, 5)\n",
    "topic_dist_4stars, topic_dist_list = getTopicDistMatrix(lda, totalTopics, corpus_4stars, topic_dist_list, 4)\n",
    "topic_dist_3stars, topic_dist_list = getTopicDistMatrix(lda, totalTopics, corpus_3stars, topic_dist_list, 3)\n",
    "topic_dist_2stars, topic_dist_list = getTopicDistMatrix(lda, totalTopics, corpus_2stars, topic_dist_list, 2)\n",
    "topic_dist_1stars, topic_dist_list = getTopicDistMatrix(lda, totalTopics, corpus_1stars, topic_dist_list, 1)"
   ]
  },
  {
   "cell_type": "code",
   "execution_count": null,
   "metadata": {
    "collapsed": true
   },
   "outputs": [],
   "source": [
    "cols = []\n",
    "for i in xrange(1, totalTopics+1):\n",
    "    cols.append(\"Topic\"+ str(i))\n",
    "cols.append(\"Star\")"
   ]
  },
  {
   "cell_type": "code",
   "execution_count": null,
   "metadata": {
    "collapsed": true
   },
   "outputs": [],
   "source": [
    "topic_dist_train_all_stars = pd.DataFrame(topic_dist_list, columns=cols)"
   ]
  },
  {
   "cell_type": "code",
   "execution_count": null,
   "metadata": {
    "collapsed": true
   },
   "outputs": [],
   "source": [
    "corpus_5stars_test = process_reviews(test_stars_5)\n",
    "corpus_4stars_test = process_reviews(test_stars_4)\n",
    "corpus_3stars_test = process_reviews(test_stars_3)\n",
    "corpus_2stars_test = process_reviews(test_stars_2)\n",
    "corpus_1stars_test = process_reviews(test_stars_1)\n",
    "\n",
    "print \"Number of 5-star reviews after processing: \", len(corpus_5stars_test)\n",
    "print \"Number of 4-star reviews after processing: \", len(corpus_4stars_test)\n",
    "print \"Number of 3-star reviews after processing: \", len(corpus_3stars_test)\n",
    "print \"Number of 2-star reviews after processing: \", len(corpus_2stars_test)\n",
    "print \"Number of 1-star reviews after processing: \", len(corpus_1stars_test)"
   ]
  },
  {
   "cell_type": "code",
   "execution_count": null,
   "metadata": {
    "collapsed": true
   },
   "outputs": [],
   "source": [
    "all_5_4_test = np.append(corpus_5stars_test, corpus_4stars_test)\n",
    "all_5_4_3_test = np.append(all_5_4_test, corpus_3stars_test)\n",
    "all_5_4_3_2_test = np.append(all_5_4_3_test, corpus_2stars_test)\n",
    "all_text_test = np.append(all_5_4_3_2_test, corpus_1stars_test)"
   ]
  },
  {
   "cell_type": "code",
   "execution_count": null,
   "metadata": {
    "collapsed": true
   },
   "outputs": [],
   "source": [
    "topic_dist_list = []\n",
    "\n",
    "# Keep a separate list to count topics\n",
    "topic_dist_5stars = []\n",
    "topic_dist_4stars = []\n",
    "topic_dist_3stars = []\n",
    "topic_dist_2stars = []\n",
    "topic_dist_1stars = []\n",
    "\n",
    "\n",
    "topic_dist_5stars, topic_dist_list = getTopicDistMatrix(lda, totalTopics, corpus_5stars_test, topic_dist_list, 5)\n",
    "topic_dist_4stars, topic_dist_list = getTopicDistMatrix(lda, totalTopics, corpus_4stars_test, topic_dist_list, 4)\n",
    "topic_dist_3stars, topic_dist_list = getTopicDistMatrix(lda, totalTopics, corpus_3stars_test, topic_dist_list, 3)\n",
    "topic_dist_2stars, topic_dist_list = getTopicDistMatrix(lda, totalTopics, corpus_2stars_test, topic_dist_list, 2)\n",
    "topic_dist_1stars, topic_dist_list = getTopicDistMatrix(lda, totalTopics, corpus_1stars_test, topic_dist_list, 1)"
   ]
  },
  {
   "cell_type": "code",
   "execution_count": null,
   "metadata": {
    "collapsed": true
   },
   "outputs": [],
   "source": [
    "cols = []\n",
    "for i in xrange(1, totalTopics+1):\n",
    "    cols.append(\"Topic\"+ str(i))\n",
    "cols.append(\"Star\")"
   ]
  },
  {
   "cell_type": "code",
   "execution_count": null,
   "metadata": {
    "collapsed": true
   },
   "outputs": [],
   "source": [
    "topic_dist_test_all_stars = pd.DataFrame(topic_dist_list, columns=cols)\n",
    "\n",
    "features = list(topic_dist_train_all_stars.columns[:totalTopics])"
   ]
  },
  {
   "cell_type": "code",
   "execution_count": null,
   "metadata": {
    "collapsed": true
   },
   "outputs": [],
   "source": [
    "x_train = topic_dist_train_all_stars[features]\n",
    "y_train = topic_dist_train_all_stars['Star']\n",
    "\n",
    "x_test = topic_dist_test_all_stars[features]\n",
    "y_test = topic_dist_test_all_stars['Star'] "
   ]
  },
  {
   "cell_type": "code",
   "execution_count": 28,
   "metadata": {
    "collapsed": true
   },
   "outputs": [
    {
     "name": "stderr",
     "output_type": "stream",
     "text": [
      "C:\\Users\\Karan\\Anaconda2\\lib\\site-packages\\sklearn\\metrics\\classification.py:1203: DeprecationWarning: The default `weighted` averaging is deprecated, and from version 0.18, use of precision, recall or F-score with multiclass or multilabel data or pos_label=None will result in an exception. Please set an explicit value for `average`, one of (None, 'micro', 'macro', 'weighted', 'samples'). In cross validation use, for instance, scoring=\"f1_weighted\" instead of scoring=\"f1\".\n",
      "  sample_weight=sample_weight)\n",
      "C:\\Users\\Karan\\Anaconda2\\lib\\site-packages\\sklearn\\metrics\\classification.py:1304: DeprecationWarning: The default `weighted` averaging is deprecated, and from version 0.18, use of precision, recall or F-score with multiclass or multilabel data or pos_label=None will result in an exception. Please set an explicit value for `average`, one of (None, 'micro', 'macro', 'weighted', 'samples'). In cross validation use, for instance, scoring=\"f1_weighted\" instead of scoring=\"f1\".\n",
      "  sample_weight=sample_weight)\n",
      "C:\\Users\\Karan\\Anaconda2\\lib\\site-packages\\sklearn\\metrics\\classification.py:756: DeprecationWarning: The default `weighted` averaging is deprecated, and from version 0.18, use of precision, recall or F-score with multiclass or multilabel data or pos_label=None will result in an exception. Please set an explicit value for `average`, one of (None, 'micro', 'macro', 'weighted', 'samples'). In cross validation use, for instance, scoring=\"f1_weighted\" instead of scoring=\"f1\".\n",
      "  sample_weight=sample_weight)\n",
      "C:\\Users\\Karan\\Anaconda2\\lib\\site-packages\\sklearn\\metrics\\classification.py:1203: DeprecationWarning: The default `weighted` averaging is deprecated, and from version 0.18, use of precision, recall or F-score with multiclass or multilabel data or pos_label=None will result in an exception. Please set an explicit value for `average`, one of (None, 'micro', 'macro', 'weighted', 'samples'). In cross validation use, for instance, scoring=\"f1_weighted\" instead of scoring=\"f1\".\n",
      "  sample_weight=sample_weight)\n",
      "C:\\Users\\Karan\\Anaconda2\\lib\\site-packages\\sklearn\\metrics\\classification.py:1074: UndefinedMetricWarning: Precision is ill-defined and being set to 0.0 in labels with no predicted samples.\n",
      "  'precision', 'predicted', average, warn_for)\n",
      "C:\\Users\\Karan\\Anaconda2\\lib\\site-packages\\sklearn\\metrics\\classification.py:1304: DeprecationWarning: The default `weighted` averaging is deprecated, and from version 0.18, use of precision, recall or F-score with multiclass or multilabel data or pos_label=None will result in an exception. Please set an explicit value for `average`, one of (None, 'micro', 'macro', 'weighted', 'samples'). In cross validation use, for instance, scoring=\"f1_weighted\" instead of scoring=\"f1\".\n",
      "  sample_weight=sample_weight)\n",
      "C:\\Users\\Karan\\Anaconda2\\lib\\site-packages\\sklearn\\metrics\\classification.py:756: DeprecationWarning: The default `weighted` averaging is deprecated, and from version 0.18, use of precision, recall or F-score with multiclass or multilabel data or pos_label=None will result in an exception. Please set an explicit value for `average`, one of (None, 'micro', 'macro', 'weighted', 'samples'). In cross validation use, for instance, scoring=\"f1_weighted\" instead of scoring=\"f1\".\n",
      "  sample_weight=sample_weight)\n",
      "C:\\Users\\Karan\\Anaconda2\\lib\\site-packages\\sklearn\\metrics\\classification.py:1074: UndefinedMetricWarning: F-score is ill-defined and being set to 0.0 in labels with no predicted samples.\n",
      "  'precision', 'predicted', average, warn_for)\n",
      "C:\\Users\\Karan\\Anaconda2\\lib\\site-packages\\sklearn\\metrics\\classification.py:1074: UndefinedMetricWarning: Precision and F-score are ill-defined and being set to 0.0 in labels with no predicted samples.\n",
      "  'precision', 'predicted', average, warn_for)\n",
      "C:\\Users\\Karan\\Anaconda2\\lib\\site-packages\\sklearn\\metrics\\classification.py:1203: DeprecationWarning: The default `weighted` averaging is deprecated, and from version 0.18, use of precision, recall or F-score with multiclass or multilabel data or pos_label=None will result in an exception. Please set an explicit value for `average`, one of (None, 'micro', 'macro', 'weighted', 'samples'). In cross validation use, for instance, scoring=\"f1_weighted\" instead of scoring=\"f1\".\n",
      "  sample_weight=sample_weight)\n",
      "C:\\Users\\Karan\\Anaconda2\\lib\\site-packages\\sklearn\\metrics\\classification.py:1304: DeprecationWarning: The default `weighted` averaging is deprecated, and from version 0.18, use of precision, recall or F-score with multiclass or multilabel data or pos_label=None will result in an exception. Please set an explicit value for `average`, one of (None, 'micro', 'macro', 'weighted', 'samples'). In cross validation use, for instance, scoring=\"f1_weighted\" instead of scoring=\"f1\".\n",
      "  sample_weight=sample_weight)\n",
      "C:\\Users\\Karan\\Anaconda2\\lib\\site-packages\\sklearn\\metrics\\classification.py:756: DeprecationWarning: The default `weighted` averaging is deprecated, and from version 0.18, use of precision, recall or F-score with multiclass or multilabel data or pos_label=None will result in an exception. Please set an explicit value for `average`, one of (None, 'micro', 'macro', 'weighted', 'samples'). In cross validation use, for instance, scoring=\"f1_weighted\" instead of scoring=\"f1\".\n",
      "  sample_weight=sample_weight)\n",
      "C:\\Users\\Karan\\Anaconda2\\lib\\site-packages\\sklearn\\metrics\\classification.py:1203: DeprecationWarning: The default `weighted` averaging is deprecated, and from version 0.18, use of precision, recall or F-score with multiclass or multilabel data or pos_label=None will result in an exception. Please set an explicit value for `average`, one of (None, 'micro', 'macro', 'weighted', 'samples'). In cross validation use, for instance, scoring=\"f1_weighted\" instead of scoring=\"f1\".\n",
      "  sample_weight=sample_weight)\n",
      "C:\\Users\\Karan\\Anaconda2\\lib\\site-packages\\sklearn\\metrics\\classification.py:1304: DeprecationWarning: The default `weighted` averaging is deprecated, and from version 0.18, use of precision, recall or F-score with multiclass or multilabel data or pos_label=None will result in an exception. Please set an explicit value for `average`, one of (None, 'micro', 'macro', 'weighted', 'samples'). In cross validation use, for instance, scoring=\"f1_weighted\" instead of scoring=\"f1\".\n",
      "  sample_weight=sample_weight)\n",
      "C:\\Users\\Karan\\Anaconda2\\lib\\site-packages\\sklearn\\metrics\\classification.py:756: DeprecationWarning: The default `weighted` averaging is deprecated, and from version 0.18, use of precision, recall or F-score with multiclass or multilabel data or pos_label=None will result in an exception. Please set an explicit value for `average`, one of (None, 'micro', 'macro', 'weighted', 'samples'). In cross validation use, for instance, scoring=\"f1_weighted\" instead of scoring=\"f1\".\n",
      "  sample_weight=sample_weight)\n",
      "C:\\Users\\Karan\\Anaconda2\\lib\\site-packages\\sklearn\\metrics\\classification.py:1203: DeprecationWarning: The default `weighted` averaging is deprecated, and from version 0.18, use of precision, recall or F-score with multiclass or multilabel data or pos_label=None will result in an exception. Please set an explicit value for `average`, one of (None, 'micro', 'macro', 'weighted', 'samples'). In cross validation use, for instance, scoring=\"f1_weighted\" instead of scoring=\"f1\".\n",
      "  sample_weight=sample_weight)\n",
      "C:\\Users\\Karan\\Anaconda2\\lib\\site-packages\\sklearn\\metrics\\classification.py:1304: DeprecationWarning: The default `weighted` averaging is deprecated, and from version 0.18, use of precision, recall or F-score with multiclass or multilabel data or pos_label=None will result in an exception. Please set an explicit value for `average`, one of (None, 'micro', 'macro', 'weighted', 'samples'). In cross validation use, for instance, scoring=\"f1_weighted\" instead of scoring=\"f1\".\n",
      "  sample_weight=sample_weight)\n",
      "C:\\Users\\Karan\\Anaconda2\\lib\\site-packages\\sklearn\\metrics\\classification.py:756: DeprecationWarning: The default `weighted` averaging is deprecated, and from version 0.18, use of precision, recall or F-score with multiclass or multilabel data or pos_label=None will result in an exception. Please set an explicit value for `average`, one of (None, 'micro', 'macro', 'weighted', 'samples'). In cross validation use, for instance, scoring=\"f1_weighted\" instead of scoring=\"f1\".\n",
      "  sample_weight=sample_weight)\n"
     ]
    }
   ],
   "source": [
    "clfs = [KNeighborsClassifier(), MultinomialNB(), LogisticRegression(), RandomForestClassifier(n_estimators=100, n_jobs=2), AdaBoostClassifier(n_estimators=100)]\n",
    "clf_names = ['Nearest Neighbors', 'Multinomial Naive Bayes', 'Logistic Regression', 'Random Forest', 'AdaBoost']\n",
    "\n",
    "LDAResults = {}\n",
    "for (i, clf_) in enumerate(clfs):\n",
    "    clf = clf_.fit(x_train, y_train)\n",
    "    preds = clf.predict(x_test)\n",
    "    \n",
    "    precision = metrics.precision_score(y_test, preds)\n",
    "    recall = metrics.recall_score(y_test, preds)\n",
    "    f1 = metrics.f1_score(y_test, preds)\n",
    "    accuracy = accuracy_score(y_test, preds)\n",
    "    report = classification_report(y_test, preds)\n",
    "    matrix = metrics.confusion_matrix(y_test, preds, labels=starsGroup.groups.keys())\n",
    "    \n",
    "    data = {'precision':precision,\n",
    "            'recall':recall,\n",
    "            'f1_score':f1,\n",
    "            'accuracy':accuracy,\n",
    "            'clf_report':report,\n",
    "            'clf_matrix':matrix,\n",
    "            'y_predicted':preds}\n",
    "    \n",
    "    LDAResults[clf_names[i]] = data\n",
    "\n",
    "cols = ['precision', 'recall', 'f1_score', 'accuracy']\n",
    "LDA_Prediction_Perf = pd.DataFrame(LDAResults).T[cols].T\n",
    "LDA_Prediction_Perf"
   ]
  },
  {
   "cell_type": "code",
   "execution_count": null,
   "metadata": {
    "collapsed": true
   },
   "outputs": [],
   "source": [
    "for model, val in LDAResults.iteritems():\n",
    "    print '-------'+'-'*len(model)\n",
    "    print 'MODEL:', model\n",
    "    print '-------'+'-'*len(model)\n",
    "    print 'The precision for this classifier is ' + str(val['precision'])\n",
    "    print 'The recall for this classifier is    ' + str(val['recall'])\n",
    "    print 'The f1 for this classifier is        ' + str(val['f1_score'])\n",
    "    print 'The accuracy for this classifier is  ' + str(val['accuracy'])\n",
    "    print 'The confusion matrix for this classifier is  \\n' + str(val['clf_matrix'])\n",
    "    print '\\nHere is the classification report:'\n",
    "    print val['clf_report']"
   ]
  },
  {
   "cell_type": "markdown",
   "metadata": {},
   "source": [
    "# Model 2 - Rating prediction from TFIDF of reviews"
   ]
  },
  {
   "cell_type": "code",
   "execution_count": 120,
   "metadata": {
    "collapsed": false,
    "scrolled": false
   },
   "outputs": [],
   "source": [
    "# Extracting features using term frequency\n",
    "tfidfvectorizer = TfidfVectorizer()\n",
    "\n",
    "tfidfTrain = tfidfvectorizer.fit_transform(all_text_train)\n",
    "tfidfTest = tfidfvectorizer.transform(all_text_test)\n",
    "\n",
    "tfidfLabelTrain = topic_dist_train_all_stars['Star']\n",
    "tfidfLabelTest = topic_dist_train_all_stars['Star']"
   ]
  },
  {
   "cell_type": "code",
   "execution_count": null,
   "metadata": {
    "collapsed": true
   },
   "outputs": [],
   "source": [
    "classifiers = [MultinomialNB(), LogisticRegression()]\n",
    "classifiers_names = ['Multinomial Naive Bayes', 'Logistic Regression']"
   ]
  },
  {
   "cell_type": "code",
   "execution_count": null,
   "metadata": {
    "collapsed": true
   },
   "outputs": [],
   "source": [
    "TFIDF_Pred_Results = {}\n",
    "for (i, clf_) in enumerate(classifiers):\n",
    "    clf = clf_.fit(tfidfTrain, tfidfLabelTrain)\n",
    "    prediction = clf.predict(tfidfTest)\n",
    "    \n",
    "    precision = metrics.precision_score(tfidfLabelTrain, prediction)\n",
    "    recall = metrics.recall_score(tfidfLabelTest, prediction)\n",
    "    f1 = metrics.f1_score(tfidfLabelTest, prediction)\n",
    "    accuracy = accuracy_score(tfidfLabelTest, prediction)\n",
    "    report = classification_report(tfidfLabelTest, prediction)\n",
    "    matrix = metrics.confusion_matrix(tfidfLabelTest, prediction, labels=starsGroup.groups.keys())\n",
    "    \n",
    "    data = {'precision':precision,\n",
    "            'recall':recall,\n",
    "            'f1_score':f1,\n",
    "            'accuracy':accuracy,\n",
    "            'clf_report':report,\n",
    "            'clf_matrix':matrix,\n",
    "            'y_predicted':preds}\n",
    "    \n",
    "    TFIDF_Pred_Results[classifiers_names[i]] = data\n"
   ]
  },
  {
   "cell_type": "code",
   "execution_count": null,
   "metadata": {
    "collapsed": true
   },
   "outputs": [],
   "source": [
    "cols = ['precision', 'recall', 'f1_score', 'accuracy']\n",
    "pd.DataFrame(TFIDF_Pred_Results).T[cols].T"
   ]
  },
  {
   "cell_type": "code",
   "execution_count": null,
   "metadata": {
    "collapsed": true
   },
   "outputs": [],
   "source": [
    "for model, val in TFIDF_Pred_Results.iteritems():\n",
    "    print '-------'+'-'*len(model)\n",
    "    print 'MODEL:', model\n",
    "    print '-------'+'-'*len(model)\n",
    "    print 'The precision for this classifier is ' + str(val['precision'])\n",
    "    print 'The recall for this classifier is    ' + str(val['recall'])\n",
    "    print 'The f1 for this classifier is        ' + str(val['f1_score'])\n",
    "    print 'The accuracy for this classifier is  ' + str(val['accuracy'])\n",
    "    print 'The confusion matrix for this classifier is  \\n' + str(val['clf_matrix'])\n",
    "    print '\\nHere is the classification report:'\n",
    "    print val['clf_report']"
   ]
  },
  {
   "cell_type": "markdown",
   "metadata": {},
   "source": [
    "## Model 3 -  Rating prediction from LDA Topics and Sentiment"
   ]
  },
  {
   "cell_type": "code",
   "execution_count": 128,
   "metadata": {
    "collapsed": true
   },
   "outputs": [],
   "source": [
    "## Defining Sentiment : If review is < 3 stars, label it as -ve sent, else +ve sent\n",
    "def getSentiment(x):\n",
    "    if x < 3.0:\n",
    "        return 0\n",
    "    else:\n",
    "        return 1"
   ]
  },
  {
   "cell_type": "code",
   "execution_count": 129,
   "metadata": {
    "collapsed": true
   },
   "outputs": [],
   "source": [
    "topic_dist_train_all_stars['Sentiment'] = topic_dist_train_all_stars['Star'].map(getSentiment)\n",
    "topic_dist_test_all_stars['Sentiment'] = topic_dist_test_all_stars['Star'].map(getSentiment)"
   ]
  },
  {
   "cell_type": "code",
   "execution_count": null,
   "metadata": {
    "collapsed": true
   },
   "outputs": [],
   "source": [
    "sentimentTextTrain = tfidfvectorizer.fit_transform(all_text_train)\n",
    "sentimentTextTest = tfidfvectorizer.transform(all_text_test)\n",
    "\n",
    "sentimentLabelTrain = topic_dist_train_all_stars['Sentiment']\n",
    "sentimentLabelTest = topic_dist_test_all_stars['Sentiment']"
   ]
  },
  {
   "cell_type": "code",
   "execution_count": null,
   "metadata": {
    "collapsed": true
   },
   "outputs": [],
   "source": [
    "classifier = LogisticRegression().fit(sentimentTextTrain, sentimentLabelTrain)\n",
    "\n",
    "ySentimentTrain = classifier.predict(sentimentTextTrain)\n",
    "ySentimentTest = classifier.predict(sentimentTextTest)\n",
    "\n",
    "topic_dist_train_all_stars['Sentiment_Predicted'] = ySentimentTrain\n",
    "topic_dist_test_all_stars['Sentiment_Predicted'] = ySentimentTest"
   ]
  },
  {
   "cell_type": "code",
   "execution_count": null,
   "metadata": {
    "collapsed": true
   },
   "outputs": [],
   "source": [
    "features = list(topic_dist_train_all_stars.columns[:totalTopics])\n",
    "features.append(topic_dist_train_all_stars.columns[totalTopics+2])"
   ]
  },
  {
   "cell_type": "code",
   "execution_count": null,
   "metadata": {
    "collapsed": true
   },
   "outputs": [],
   "source": [
    "x_train = topic_dist_train_all_stars[features]\n",
    "y_train = topic_dist_train_all_stars['Star']\n",
    "\n",
    "x_test = topic_dist_test_all_stars[features]\n",
    "y_test = topic_dist_test_all_stars['Star'] "
   ]
  },
  {
   "cell_type": "code",
   "execution_count": null,
   "metadata": {
    "collapsed": true
   },
   "outputs": [],
   "source": [
    "classifiers = [MultinomialNB(), LogisticRegression(), RandomForestClassifier(n_estimators=100, n_jobs=2), AdaBoostClassifier(n_estimators=100)]\n",
    "classifiers_names = ['Multinomial Naive Bayes', 'Logistic Regression', 'Random Forest', 'AdaBoost']\n",
    "\n",
    "LdaSentimentResults = {}\n",
    "for (i, clf_) in enumerate(classifiers):\n",
    "    clf = clf_.fit(x_train, y_train)\n",
    "    preds = clf.predict(x_test)\n",
    "    \n",
    "    precision = metrics.precision_score(y_test, preds)\n",
    "    recall = metrics.recall_score(y_test, preds)\n",
    "    f1 = metrics.f1_score(y_test, preds)\n",
    "    accuracy = accuracy_score(y_test, preds)\n",
    "    report = classification_report(y_test, preds)\n",
    "    matrix = metrics.confusion_matrix(y_test, preds, labels=starsGroup.groups.keys())\n",
    "    \n",
    "    data = {'precision':precision,\n",
    "            'recall':recall,\n",
    "            'f1_score':f1,\n",
    "            'accuracy':accuracy,\n",
    "            'clf_report':report,\n",
    "            'clf_matrix':matrix,\n",
    "            'y_predicted':preds}\n",
    "    \n",
    "    LdaSentimentResults[classifiers_names[i]] = data"
   ]
  },
  {
   "cell_type": "code",
   "execution_count": null,
   "metadata": {
    "collapsed": true
   },
   "outputs": [],
   "source": [
    "cols = ['precision', 'recall', 'f1_score', 'accuracy']\n",
    "pd.DataFrame(LdaSentimentResults).T[cols].T\n",
    "\n",
    "for model, val in LdaSentimentResults.iteritems():\n",
    "    print '-------'+'-'*len(model)\n",
    "    print 'MODEL:', model\n",
    "    print '-------'+'-'*len(model)\n",
    "    print 'The precision for this classifier is ' + str(val['precision'])\n",
    "    print 'The recall for this classifier is    ' + str(val['recall'])\n",
    "    print 'The f1 for this classifier is        ' + str(val['f1_score'])\n",
    "    print 'The accuracy for this classifier is  ' + str(val['accuracy'])\n",
    "    print 'The confusion matrix for this classifier is  \\n' + str(val['clf_matrix'])\n",
    "    print '\\nHere is the classification report:'\n",
    "    print val['clf_report']"
   ]
  },
  {
   "cell_type": "markdown",
   "metadata": {},
   "source": [
    " ## Model 4 -  Rating prediction from Bag Of Words"
   ]
  },
  {
   "cell_type": "code",
   "execution_count": 174,
   "metadata": {
    "collapsed": true
   },
   "outputs": [],
   "source": [
    "TEST_SIZE = 0.30\n",
    "train_X, test_X, train_y, test_y = train_test_split(resto_review.text,\n",
    "                                                    resto_review.stars_review,\n",
    "                                                    test_size=TEST_SIZE,\n",
    "                                                    random_state=42)\n"
   ]
  },
  {
   "cell_type": "code",
   "execution_count": 176,
   "metadata": {
    "collapsed": true
   },
   "outputs": [],
   "source": [
    "bag_of_words_vectorizer = CountVectorizer(analyzer = \"word\",\n",
    "                                          tokenizer = None,    \n",
    "                                          preprocessor = None,\n",
    "                                          ngram_range = (1, 1),\n",
    "                                          binary = False,\n",
    "                                          strip_accents='unicode')\n",
    "\n",
    "bigram_vectorizer = CountVectorizer(analyzer = \"word\",\n",
    "                                    tokenizer = None,\n",
    "                                    preprocessor = None,\n",
    "                                    ngram_range = (2, 2),\n",
    "                                    strip_accents='unicode')\n",
    "\n",
    "trigram_vectorizer = CountVectorizer(analyzer = \"word\",\n",
    "                                     tokenizer = None,\n",
    "                                     preprocessor = None,\n",
    "                                     ngram_range = (3, 3),\n",
    "                                     strip_accents='unicode')\n",
    "\n",
    "bi_and_trigram_vectorizer = CountVectorizer(analyzer = \"word\",\n",
    "                                            tokenizer = None,\n",
    "                                            preprocessor = None,\n",
    "                                            ngram_range = (2,3),\n",
    "                                            strip_accents='unicode')\n"
   ]
  },
  {
   "cell_type": "markdown",
   "metadata": {},
   "source": [
    "## BOW Model"
   ]
  },
  {
   "cell_type": "code",
   "execution_count": 177,
   "metadata": {
    "collapsed": true
   },
   "outputs": [],
   "source": [
    "bag_matrix_train = bag_of_words_vectorizer.fit_transform(train_X)"
   ]
  },
  {
   "cell_type": "code",
   "execution_count": 178,
   "metadata": {
    "collapsed": true
   },
   "outputs": [],
   "source": [
    "bag_matrix_test = bag_of_words_vectorizer.transform(test_X)"
   ]
  },
  {
   "cell_type": "code",
   "execution_count": 179,
   "metadata": {
    "collapsed": true
   },
   "outputs": [],
   "source": [
    "multinomial_nb_classifier = MultinomialNB()\n",
    "multinomial_nb_classifier.fit(bag_matrix_train, train_y)\n",
    "multinomial_nb_prediction = multinomial_nb_classifier.predict(bag_matrix_test)"
   ]
  },
  {
   "cell_type": "code",
   "execution_count": 180,
   "metadata": {
    "collapsed": true
   },
   "outputs": [],
   "source": [
    "def make_confusion_matrix_relative(confusion_matrix):\n",
    "    star_category_classes = [1, 2, 3, 4, 5]\n",
    "    N = map(lambda clazz : sum(test_y == clazz), star_category_classes)\n",
    "    relative_confusion_matrix = np.empty((len(star_category_classes), len(star_category_classes)))\n",
    "    \n",
    "    for j in range(0, len(star_category_classes)):\n",
    "        if N[j] > 0:\n",
    "            relative_frequency = confusion_matrix[j, :] / float(N[j])\n",
    "            relative_confusion_matrix[j, :] = relative_frequency\n",
    "            \n",
    "    return relative_confusion_matrix\n",
    "\n",
    "# http://www.wenda.io/questions/4330313/heatmap-with-text-in-each-cell-with-matplotlibs-pyplot.html\n",
    "# http://stackoverflow.com/questions/20520246/create-heatmap-using-pandas-timeseries\n",
    "# http://sebastianraschka.com/Articles/heatmaps_in_r.html\n",
    "# http://code.activestate.com/recipes/578175-hierarchical-clustering-heatmap-python/\n",
    "def plot_confusion_matrix(confusion_matrix=[[]], title='CM', savefilename=''):\n",
    "    rcm = make_confusion_matrix_relative(confusion_matrix)\n",
    "    #plt.imshow(rcm, vmin=0, vmax=1, interpolation='nearest')\n",
    "    c = plt.pcolor(rcm, edgecolors='k', linewidths=4, cmap='jet', vmin=0.0, vmax=1.0)\n",
    "    plt.title(title)\n",
    "    plt.colorbar()\n",
    "    plt.ylabel('Actual Label')\n",
    "    plt.xlabel('Predicted Label')\n",
    "    plt.xticks(0.5 + np.arange(5), np.arange(1,6))\n",
    "    plt.yticks(0.5 + np.arange(5), np.arange(1,6))\n",
    "\n",
    "    def show_values(pc, fmt=\"%.2f\", **kw):\n",
    "        from itertools import izip\n",
    "        pc.update_scalarmappable()\n",
    "        ax = pc.get_axes()\n",
    "        for p, color, value in izip(pc.get_paths(), pc.get_facecolors(), pc.get_array()):\n",
    "            x, y = p.vertices[:-2, :].mean(0)\n",
    "            if sum(color[:2] > 0.3) >= 2:\n",
    "                color = (0.0, 0.0, 0.0)\n",
    "            else:\n",
    "                color = (1.0, 1.0, 1.0)\n",
    "            ax.text(x, y, fmt % value, ha=\"center\", va=\"center\", color=color, **kw)\n",
    "    \n",
    "    show_values(c)\n",
    "\n",
    "    if savefilename:\n",
    "        plt.savefig(savefilename, bbox_inches='tight')\n",
    "    \n",
    "    return plt.show()"
   ]
  },
  {
   "cell_type": "code",
   "execution_count": 181,
   "metadata": {
    "collapsed": false
   },
   "outputs": [
    {
     "name": "stdout",
     "output_type": "stream",
     "text": [
      "[[ 0.22916667  0.03125     0.04166667  0.30208333  0.39583333]\n",
      " [ 0.0754717   0.01886792  0.03773585  0.49056604  0.37735849]\n",
      " [ 0.01052632  0.          0.06315789  0.50526316  0.42105263]\n",
      " [ 0.          0.          0.012       0.368       0.62      ]\n",
      " [ 0.00492611  0.          0.00246305  0.12068966  0.87192118]]\n"
     ]
    },
    {
     "data": {
      "image/png": "[encoded data removed]",
      "text/plain": [
       "<matplotlib.figure.Figure at 0x1233b16d0>"
      ]
     },
     "metadata": {},
     "output_type": "display_data"
    }
   ],
   "source": [
    "multinomial_confusion_matrix = confusion_matrix(test_y, multinomial_nb_prediction)\n",
    "print make_confusion_matrix_relative(multinomial_confusion_matrix)\n",
    "plot_confusion_matrix(multinomial_confusion_matrix, 'Multinomial Naive Bayes Confusion Matrix', savefilename='MultinomialCM.png')"
   ]
  },
  {
   "cell_type": "code",
   "execution_count": 182,
   "metadata": {
    "collapsed": true
   },
   "outputs": [],
   "source": [
    "def print_classifier_performance_metrics(name, predictions):\n",
    "    target_names = ['1 star', '2 star', '3 star', '4 star', '5 star']\n",
    "    \n",
    "    print \"MODEL: %s\" % name\n",
    "    print\n",
    "\n",
    "    print 'Precision: ' + str(metrics.precision_score(test_y, predictions))\n",
    "    print 'Recall: ' + str(metrics.recall_score(test_y, predictions))\n",
    "    print 'F1: ' + str(metrics.f1_score(test_y, predictions))\n",
    "    print 'Accuracy: ' + str(metrics.accuracy_score(test_y, predictions))\n",
    "\n",
    "    print\n",
    "    print 'Classification Report:'\n",
    "    print classification_report(test_y, predictions, target_names=target_names)\n",
    "    \n",
    "    print\n",
    "    print 'Precision variance: %f' % np.var(precision_score(test_y, predictions, average=None), ddof=len(target_names)-1)\n",
    "    \n",
    "    print\n",
    "    print 'Recall variance: %f' % np.var(recall_score(test_y, predictions, average=None), ddof=len(target_names)-1)"
   ]
  },
  {
   "cell_type": "code",
   "execution_count": 183,
   "metadata": {
    "collapsed": false
   },
   "outputs": [
    {
     "name": "stdout",
     "output_type": "stream",
     "text": [
      "MODEL: Multinomial Naive Bayes\n",
      "\n",
      "Precision: 0.503047195574\n",
      "Recall: 0.527777777778\n",
      "F1: 0.469776066215\n",
      "Accuracy: 0.527777777778\n",
      "\n",
      "Classification Report:\n",
      "             precision    recall  f1-score   support\n",
      "\n",
      "     1 star       0.76      0.23      0.35        96\n",
      "     2 star       0.25      0.02      0.04        53\n",
      "     3 star       0.38      0.06      0.11        95\n",
      "     4 star       0.38      0.37      0.37       250\n",
      "     5 star       0.58      0.87      0.70       406\n",
      "\n",
      "avg / total       0.50      0.53      0.47       900\n",
      "\n",
      "\n",
      "Precision variance: 0.162173\n",
      "\n",
      "Recall variance: 0.471342\n"
     ]
    },
    {
     "name": "stderr",
     "output_type": "stream",
     "text": [
      "/Users/piyushghai/anaconda/lib/python2.7/site-packages/sklearn/metrics/classification.py:1203: DeprecationWarning: The default `weighted` averaging is deprecated, and from version 0.18, use of precision, recall or F-score with multiclass or multilabel data or pos_label=None will result in an exception. Please set an explicit value for `average`, one of (None, 'micro', 'macro', 'weighted', 'samples'). In cross validation use, for instance, scoring=\"f1_weighted\" instead of scoring=\"f1\".\n",
      "  sample_weight=sample_weight)\n",
      "/Users/piyushghai/anaconda/lib/python2.7/site-packages/sklearn/metrics/classification.py:1304: DeprecationWarning: The default `weighted` averaging is deprecated, and from version 0.18, use of precision, recall or F-score with multiclass or multilabel data or pos_label=None will result in an exception. Please set an explicit value for `average`, one of (None, 'micro', 'macro', 'weighted', 'samples'). In cross validation use, for instance, scoring=\"f1_weighted\" instead of scoring=\"f1\".\n",
      "  sample_weight=sample_weight)\n",
      "/Users/piyushghai/anaconda/lib/python2.7/site-packages/sklearn/metrics/classification.py:756: DeprecationWarning: The default `weighted` averaging is deprecated, and from version 0.18, use of precision, recall or F-score with multiclass or multilabel data or pos_label=None will result in an exception. Please set an explicit value for `average`, one of (None, 'micro', 'macro', 'weighted', 'samples'). In cross validation use, for instance, scoring=\"f1_weighted\" instead of scoring=\"f1\".\n",
      "  sample_weight=sample_weight)\n"
     ]
    }
   ],
   "source": [
    "print_classifier_performance_metrics('Multinomial Naive Bayes', multinomial_nb_prediction)\n"
   ]
  },
  {
   "cell_type": "markdown",
   "metadata": {},
   "source": [
    "## BiGram Naive Bayes Model "
   ]
  },
  {
   "cell_type": "code",
   "execution_count": 184,
   "metadata": {
    "collapsed": true
   },
   "outputs": [],
   "source": [
    "bigram_multinomial_feature_matrix_train = bigram_vectorizer.fit_transform(train_X)\n",
    "bigram_multinomial_feature_matrix_test = bigram_vectorizer.transform(test_X)"
   ]
  },
  {
   "cell_type": "code",
   "execution_count": 185,
   "metadata": {
    "collapsed": true
   },
   "outputs": [],
   "source": [
    "bigram_multinomial_feature_matrix_train = bigram_vectorizer.fit_transform(train_X)\n",
    "bigram_multinomial_feature_matrix_test = bigram_vectorizer.transform(test_X)"
   ]
  },
  {
   "cell_type": "code",
   "execution_count": 186,
   "metadata": {
    "collapsed": true
   },
   "outputs": [],
   "source": [
    "bigram_multinomial_nb_classifier = MultinomialNB().fit(bigram_multinomial_feature_matrix_train, train_y)\n",
    "bigram_multinomial_nb_prediction = bigram_multinomial_nb_classifier.predict(bigram_multinomial_feature_matrix_test)"
   ]
  },
  {
   "cell_type": "code",
   "execution_count": 187,
   "metadata": {
    "collapsed": false
   },
   "outputs": [
    {
     "data": {
      "image/png": "[encoded data removed]",
      "text/plain": [
       "<matplotlib.figure.Figure at 0x11f14ed90>"
      ]
     },
     "metadata": {},
     "output_type": "display_data"
    }
   ],
   "source": [
    "bigram_multinomial_confusion_matrix = confusion_matrix(test_y, bigram_multinomial_nb_prediction)\n",
    "plot_confusion_matrix(bigram_multinomial_confusion_matrix, 'Bigram Multinomial Naive Bayes Confusion Matrix', savefilename='BigramMultinomialCM.png')"
   ]
  },
  {
   "cell_type": "code",
   "execution_count": 188,
   "metadata": {
    "collapsed": false
   },
   "outputs": [
    {
     "name": "stdout",
     "output_type": "stream",
     "text": [
      "MODEL: Bigram Multinomial Naive Bayes\n",
      "\n",
      "Precision: 0.468584353522\n",
      "Recall: 0.486666666667\n",
      "F1: 0.409932954495\n",
      "Accuracy: 0.486666666667\n",
      "\n",
      "Classification Report:\n",
      "             precision    recall  f1-score   support\n",
      "\n",
      "     1 star       0.89      0.08      0.15        96\n",
      "     2 star       0.00      0.00      0.00        53\n",
      "     3 star       0.40      0.08      0.14        95\n",
      "     4 star       0.33      0.25      0.29       250\n",
      "     5 star       0.53      0.88      0.66       406\n",
      "\n",
      "avg / total       0.47      0.49      0.41       900\n",
      "\n",
      "\n",
      "Precision variance: 0.416784\n",
      "\n",
      "Recall variance: 0.519445\n"
     ]
    },
    {
     "name": "stderr",
     "output_type": "stream",
     "text": [
      "/Users/piyushghai/anaconda/lib/python2.7/site-packages/sklearn/metrics/classification.py:1203: DeprecationWarning: The default `weighted` averaging is deprecated, and from version 0.18, use of precision, recall or F-score with multiclass or multilabel data or pos_label=None will result in an exception. Please set an explicit value for `average`, one of (None, 'micro', 'macro', 'weighted', 'samples'). In cross validation use, for instance, scoring=\"f1_weighted\" instead of scoring=\"f1\".\n",
      "  sample_weight=sample_weight)\n",
      "/Users/piyushghai/anaconda/lib/python2.7/site-packages/sklearn/metrics/classification.py:1304: DeprecationWarning: The default `weighted` averaging is deprecated, and from version 0.18, use of precision, recall or F-score with multiclass or multilabel data or pos_label=None will result in an exception. Please set an explicit value for `average`, one of (None, 'micro', 'macro', 'weighted', 'samples'). In cross validation use, for instance, scoring=\"f1_weighted\" instead of scoring=\"f1\".\n",
      "  sample_weight=sample_weight)\n",
      "/Users/piyushghai/anaconda/lib/python2.7/site-packages/sklearn/metrics/classification.py:756: DeprecationWarning: The default `weighted` averaging is deprecated, and from version 0.18, use of precision, recall or F-score with multiclass or multilabel data or pos_label=None will result in an exception. Please set an explicit value for `average`, one of (None, 'micro', 'macro', 'weighted', 'samples'). In cross validation use, for instance, scoring=\"f1_weighted\" instead of scoring=\"f1\".\n",
      "  sample_weight=sample_weight)\n"
     ]
    }
   ],
   "source": [
    "print_classifier_performance_metrics('Bigram Multinomial Naive Bayes', bigram_multinomial_nb_prediction)\n"
   ]
  },
  {
   "cell_type": "markdown",
   "metadata": {},
   "source": [
    "## Trigram Naive Bayes Model"
   ]
  },
  {
   "cell_type": "code",
   "execution_count": 189,
   "metadata": {
    "collapsed": true
   },
   "outputs": [],
   "source": [
    "trigram_multinomial_feature_matrix_train = trigram_vectorizer.fit_transform(train_X)\n",
    "trigram_multinomial_feature_matrix_test = trigram_vectorizer.transform(test_X)"
   ]
  },
  {
   "cell_type": "code",
   "execution_count": 190,
   "metadata": {
    "collapsed": true
   },
   "outputs": [],
   "source": [
    "tri_gram_multinomial_nb_classifier = MultinomialNB().fit(trigram_multinomial_feature_matrix_train, train_y)\n",
    "tri_gram_multinomial_nb_prediction = tri_gram_multinomial_nb_classifier.predict(trigram_multinomial_feature_matrix_test)"
   ]
  },
  {
   "cell_type": "code",
   "execution_count": 191,
   "metadata": {
    "collapsed": false
   },
   "outputs": [
    {
     "data": {
      "image/png": "[encoded data removed]",
      "text/plain": [
       "<matplotlib.figure.Figure at 0x11c096d50>"
      ]
     },
     "metadata": {},
     "output_type": "display_data"
    }
   ],
   "source": [
    "trigram_multinomial_confusion_matrix = confusion_matrix(test_y, tri_gram_multinomial_nb_prediction)\n",
    "plot_confusion_matrix(trigram_multinomial_confusion_matrix, 'Trigram Multinomial Naive Bayes Confusion Matrix', savefilename='TrigramMultinomialCM.png')\n"
   ]
  },
  {
   "cell_type": "code",
   "execution_count": 192,
   "metadata": {
    "collapsed": false
   },
   "outputs": [
    {
     "name": "stdout",
     "output_type": "stream",
     "text": [
      "MODEL: Trigram Multinomial Naive Bayes\n",
      "\n",
      "Precision: 0.460958537582\n",
      "Recall: 0.488888888889\n",
      "F1: 0.428448991211\n",
      "Accuracy: 0.488888888889\n",
      "\n",
      "Classification Report:\n",
      "             precision    recall  f1-score   support\n",
      "\n",
      "     1 star       0.76      0.14      0.23        96\n",
      "     2 star       0.00      0.00      0.00        53\n",
      "     3 star       0.38      0.13      0.19        95\n",
      "     4 star       0.35      0.29      0.32       250\n",
      "     5 star       0.54      0.84      0.66       406\n",
      "\n",
      "avg / total       0.46      0.49      0.43       900\n",
      "\n",
      "\n",
      "Precision variance: 0.314166\n",
      "\n",
      "Recall variance: 0.442011\n"
     ]
    },
    {
     "name": "stderr",
     "output_type": "stream",
     "text": [
      "/Users/piyushghai/anaconda/lib/python2.7/site-packages/sklearn/metrics/classification.py:1203: DeprecationWarning: The default `weighted` averaging is deprecated, and from version 0.18, use of precision, recall or F-score with multiclass or multilabel data or pos_label=None will result in an exception. Please set an explicit value for `average`, one of (None, 'micro', 'macro', 'weighted', 'samples'). In cross validation use, for instance, scoring=\"f1_weighted\" instead of scoring=\"f1\".\n",
      "  sample_weight=sample_weight)\n",
      "/Users/piyushghai/anaconda/lib/python2.7/site-packages/sklearn/metrics/classification.py:1304: DeprecationWarning: The default `weighted` averaging is deprecated, and from version 0.18, use of precision, recall or F-score with multiclass or multilabel data or pos_label=None will result in an exception. Please set an explicit value for `average`, one of (None, 'micro', 'macro', 'weighted', 'samples'). In cross validation use, for instance, scoring=\"f1_weighted\" instead of scoring=\"f1\".\n",
      "  sample_weight=sample_weight)\n",
      "/Users/piyushghai/anaconda/lib/python2.7/site-packages/sklearn/metrics/classification.py:756: DeprecationWarning: The default `weighted` averaging is deprecated, and from version 0.18, use of precision, recall or F-score with multiclass or multilabel data or pos_label=None will result in an exception. Please set an explicit value for `average`, one of (None, 'micro', 'macro', 'weighted', 'samples'). In cross validation use, for instance, scoring=\"f1_weighted\" instead of scoring=\"f1\".\n",
      "  sample_weight=sample_weight)\n"
     ]
    }
   ],
   "source": [
    "print_classifier_performance_metrics('Trigram Multinomial Naive Bayes', tri_gram_multinomial_nb_prediction)"
   ]
  },
  {
   "cell_type": "markdown",
   "metadata": {},
   "source": [
    "## Bi & Tri Gram Model"
   ]
  },
  {
   "cell_type": "code",
   "execution_count": 193,
   "metadata": {
    "collapsed": true
   },
   "outputs": [],
   "source": [
    "bi_and_trigram_multinomial_feature_matrix_train = bi_and_trigram_vectorizer.fit_transform(train_X)\n",
    "bi_and_trigram_multinomial_feature_matrix_test = bi_and_trigram_vectorizer.transform(test_X)"
   ]
  },
  {
   "cell_type": "code",
   "execution_count": 194,
   "metadata": {
    "collapsed": true
   },
   "outputs": [],
   "source": [
    "bi_and_tri_gram_multinomial_nb_classifier = MultinomialNB().fit(bi_and_trigram_multinomial_feature_matrix_train, train_y)\n",
    "bi_and_tri_gram_multinomial_nb_prediction = bi_and_tri_gram_multinomial_nb_classifier.predict(bi_and_trigram_multinomial_feature_matrix_test)"
   ]
  },
  {
   "cell_type": "code",
   "execution_count": 195,
   "metadata": {
    "collapsed": false
   },
   "outputs": [
    {
     "data": {
      "image/png": "[encoded data removed]",
      "text/plain": [
       "<matplotlib.figure.Figure at 0x11c0e5250>"
      ]
     },
     "metadata": {},
     "output_type": "display_data"
    }
   ],
   "source": [
    "bi_and_tri_gram_multinomial_confusion_matrix = confusion_matrix(test_y, bi_and_tri_gram_multinomial_nb_prediction)\n",
    "plot_confusion_matrix(bi_and_tri_gram_multinomial_confusion_matrix,\n",
    "                      'Bigram-Trigram Multinomial Naive Bayes \\n Confusion Matrix', savefilename='BiAndTrigramMultinomialCM.png')"
   ]
  },
  {
   "cell_type": "code",
   "execution_count": 196,
   "metadata": {
    "collapsed": false
   },
   "outputs": [
    {
     "name": "stdout",
     "output_type": "stream",
     "text": [
      "MODEL: Bi-and-Trigram Multinomial Naive Bayes\n",
      "\n",
      "Precision: 0.458046132754\n",
      "Recall: 0.49\n",
      "F1: 0.410048869001\n",
      "Accuracy: 0.49\n",
      "\n",
      "Classification Report:\n",
      "             precision    recall  f1-score   support\n",
      "\n",
      "     1 star       0.75      0.06      0.12        96\n",
      "     2 star       0.14      0.02      0.03        53\n",
      "     3 star       0.28      0.05      0.09        95\n",
      "     4 star       0.36      0.27      0.31       250\n",
      "     5 star       0.53      0.89      0.67       406\n",
      "\n",
      "avg / total       0.46      0.49      0.41       900\n",
      "\n",
      "\n",
      "Precision variance: 0.221544\n",
      "\n",
      "Recall variance: 0.536137\n"
     ]
    },
    {
     "name": "stderr",
     "output_type": "stream",
     "text": [
      "/Users/piyushghai/anaconda/lib/python2.7/site-packages/sklearn/metrics/classification.py:1203: DeprecationWarning: The default `weighted` averaging is deprecated, and from version 0.18, use of precision, recall or F-score with multiclass or multilabel data or pos_label=None will result in an exception. Please set an explicit value for `average`, one of (None, 'micro', 'macro', 'weighted', 'samples'). In cross validation use, for instance, scoring=\"f1_weighted\" instead of scoring=\"f1\".\n",
      "  sample_weight=sample_weight)\n",
      "/Users/piyushghai/anaconda/lib/python2.7/site-packages/sklearn/metrics/classification.py:1304: DeprecationWarning: The default `weighted` averaging is deprecated, and from version 0.18, use of precision, recall or F-score with multiclass or multilabel data or pos_label=None will result in an exception. Please set an explicit value for `average`, one of (None, 'micro', 'macro', 'weighted', 'samples'). In cross validation use, for instance, scoring=\"f1_weighted\" instead of scoring=\"f1\".\n",
      "  sample_weight=sample_weight)\n",
      "/Users/piyushghai/anaconda/lib/python2.7/site-packages/sklearn/metrics/classification.py:756: DeprecationWarning: The default `weighted` averaging is deprecated, and from version 0.18, use of precision, recall or F-score with multiclass or multilabel data or pos_label=None will result in an exception. Please set an explicit value for `average`, one of (None, 'micro', 'macro', 'weighted', 'samples'). In cross validation use, for instance, scoring=\"f1_weighted\" instead of scoring=\"f1\".\n",
      "  sample_weight=sample_weight)\n"
     ]
    }
   ],
   "source": [
    "print_classifier_performance_metrics('Bi-and-Trigram Multinomial Naive Bayes', bi_and_tri_gram_multinomial_nb_prediction)"
   ]
  },
  {
   "cell_type": "markdown",
   "metadata": {},
   "source": [
    "## The End. "
   ]
  },
  {
   "cell_type": "code",
   "execution_count": null,
   "metadata": {
    "collapsed": true
   },
   "outputs": [],
   "source": []
  }
 ],
 "metadata": {
  "anaconda-cloud": {},
  "kernelspec": {
   "display_name": "Python [default]",
   "language": "python",
   "name": "python2"
  },
  "language_info": {
   "codemirror_mode": {
    "name": "ipython",
    "version": 2
   },
   "file_extension": ".py",
   "mimetype": "text/x-python",
   "name": "python",
   "nbconvert_exporter": "python",
   "pygments_lexer": "ipython2",
   "version": "2.7.12"
  }
 },
 "nbformat": 4,
 "nbformat_minor": 1
}

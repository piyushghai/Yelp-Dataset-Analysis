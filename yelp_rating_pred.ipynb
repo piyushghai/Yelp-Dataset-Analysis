{
 "cells": [
  {
   "cell_type": "markdown",
   "metadata": {},
   "source": [
    "## Pre-Processing"
   ]
  },
  {
   "cell_type": "code",
   "execution_count": 1,
   "metadata": {
    "collapsed": false,
    "scrolled": true
   },
   "outputs": [
    {
     "name": "stdout",
     "output_type": "stream",
     "text": [
      "Populating the interactive namespace from numpy and matplotlib\n"
     ]
    }
   ],
   "source": [
    "%pylab inline"
   ]
  },
  {
   "cell_type": "code",
   "execution_count": null,
   "metadata": {
    "collapsed": false
   },
   "outputs": [],
   "source": [
    "#%#run json_to_csv_converter.py \"Data/yelp_academic_dataset_business.json\"\n",
    "#%run json_to_csv_converter.py \"Data/yelp_academic_dataset_review.json\""
   ]
  },
  {
   "cell_type": "code",
   "execution_count": 2,
   "metadata": {
    "collapsed": false
   },
   "outputs": [
    {
     "name": "stderr",
     "output_type": "stream",
     "text": [
      "C:\\Users\\Karan\\Anaconda2\\lib\\site-packages\\gensim\\utils.py:840: UserWarning: detected Windows; aliasing chunkize to chunkize_serial\n",
      "  warnings.warn(\"detected Windows; aliasing chunkize to chunkize_serial\")\n",
      "C:\\Users\\Karan\\Anaconda2\\lib\\site-packages\\gensim\\utils.py:1015: UserWarning: Pattern library is not installed, lemmatization won't be available.\n",
      "  warnings.warn(\"Pattern library is not installed, lemmatization won't be available.\")\n",
      "C:\\Users\\Karan\\Anaconda2\\lib\\site-packages\\sklearn\\lda.py:4: DeprecationWarning: lda.LDA has been moved to discriminant_analysis.LinearDiscriminantAnalysis in 0.17 and will be removed in 0.19\n",
      "  \"in 0.17 and will be removed in 0.19\", DeprecationWarning)\n",
      "C:\\Users\\Karan\\Anaconda2\\lib\\site-packages\\sklearn\\qda.py:4: DeprecationWarning: qda.QDA has been moved to discriminant_analysis.QuadraticDiscriminantAnalysis in 0.17 and will be removed in 0.19.\n",
      "  \"in 0.17 and will be removed in 0.19.\", DeprecationWarning)\n"
     ]
    }
   ],
   "source": [
    "import time\n",
    "import datetime\n",
    "\n",
    "import cPickle as pickle\n",
    "import matplotlib.pyplot as plt\n",
    "import nltk\n",
    "import numpy as np\n",
    "import pandas as pd\n",
    "import pylab\n",
    "import re\n",
    "import scipy as sp\n",
    "import seaborn\n",
    "\n",
    "from gensim import corpora, models\n",
    "from nltk.corpus import stopwords\n",
    "from sklearn import metrics\n",
    "from sklearn.metrics import classification_report\n",
    "from sklearn.naive_bayes import MultinomialNB\n",
    "\n",
    "from sklearn.feature_extraction.text import TfidfVectorizer\n",
    "from sklearn.neighbors import KNeighborsClassifier\n",
    "from sklearn.linear_model import LogisticRegression\n",
    "from sklearn.lda import LDA\n",
    "from sklearn.qda import QDA\n",
    "from sklearn.ensemble import RandomForestClassifier, AdaBoostClassifier\n",
    "from sklearn.metrics import accuracy_score\n",
    "from sklearn.metrics import roc_curve, auc\n",
    "\n",
    "plt.rc('figure', figsize=(10,6))\n",
    "seaborn.set()\n",
    "colors = seaborn.color_palette()"
   ]
  },
  {
   "cell_type": "code",
   "execution_count": 3,
   "metadata": {
    "collapsed": false
   },
   "outputs": [],
   "source": [
    "business_data = pd.read_csv(\"Data/yelp_academic_dataset_business.csv\", dtype=unicode)\n",
    "review_data = pd.read_csv(\"Data/yelp_academic_dataset_review.csv\")"
   ]
  },
  {
   "cell_type": "code",
   "execution_count": 4,
   "metadata": {
    "collapsed": false
   },
   "outputs": [
    {
     "data": {
      "text/plain": [
       "2685066"
      ]
     },
     "execution_count": 4,
     "metadata": {},
     "output_type": "execute_result"
    }
   ],
   "source": [
    "len(review_data)"
   ]
  },
  {
   "cell_type": "code",
   "execution_count": 5,
   "metadata": {
    "collapsed": false
   },
   "outputs": [
    {
     "data": {
      "text/plain": [
       "85901"
      ]
     },
     "execution_count": 5,
     "metadata": {},
     "output_type": "execute_result"
    }
   ],
   "source": [
    "len(business_data)"
   ]
  },
  {
   "cell_type": "code",
   "execution_count": 30,
   "metadata": {
    "collapsed": true
   },
   "outputs": [],
   "source": [
    "resto_business_data = business_data[business_data['categories'].str.contains('Restaurants')]"
   ]
  },
  {
   "cell_type": "code",
   "execution_count": 31,
   "metadata": {
    "collapsed": false
   },
   "outputs": [
    {
     "data": {
      "text/plain": [
       "26729"
      ]
     },
     "execution_count": 31,
     "metadata": {},
     "output_type": "execute_result"
    }
   ],
   "source": [
    "len(resto_business_data)"
   ]
  },
  {
   "cell_type": "code",
   "execution_count": 86,
   "metadata": {
    "collapsed": false
   },
   "outputs": [],
   "source": [
    "resto_review_data = review_data.merge(resto_business_data,\n",
    "                                         left_on='business_id',\n",
    "                                         right_on='business_id',\n",
    "                                         suffixes=('_review', '_business'))"
   ]
  },
  {
   "cell_type": "code",
   "execution_count": 87,
   "metadata": {
    "collapsed": false
   },
   "outputs": [
    {
     "data": {
      "text/plain": [
       "1630712"
      ]
     },
     "execution_count": 87,
     "metadata": {},
     "output_type": "execute_result"
    }
   ],
   "source": [
    "len(resto_review_data)"
   ]
  },
  {
   "cell_type": "code",
   "execution_count": 88,
   "metadata": {
    "collapsed": true
   },
   "outputs": [
    {
     "data": {
      "text/plain": [
       "['user_id',\n",
       " 'review_id',\n",
       " 'text',\n",
       " 'votes.cool',\n",
       " 'business_id',\n",
       " 'votes.funny',\n",
       " 'stars_review',\n",
       " 'date',\n",
       " 'type_review',\n",
       " 'votes.useful',\n",
       " 'attributes.Ambience.divey',\n",
       " 'attributes.Dietary Restrictions.vegan',\n",
       " 'attributes.Happy Hour',\n",
       " 'hours.Thursday.open',\n",
       " 'attributes.Order at Counter',\n",
       " 'attributes.Hair Types Specialized In.africanamerican',\n",
       " 'attributes.Hair Types Specialized In.kids',\n",
       " 'attributes.BYOB',\n",
       " 'hours.Friday.open',\n",
       " 'attributes.Good For.latenight',\n",
       " 'attributes.Outdoor Seating',\n",
       " 'attributes.Alcohol',\n",
       " 'attributes.Ambience.classy',\n",
       " 'attributes.By Appointment Only',\n",
       " 'attributes.Parking.lot',\n",
       " 'attributes.Ambience.touristy',\n",
       " 'attributes.Corkage',\n",
       " 'hours.Tuesday.open',\n",
       " 'attributes.Good For.brunch',\n",
       " 'categories',\n",
       " 'attributes.Waiter Service',\n",
       " 'hours.Monday.open',\n",
       " 'name',\n",
       " 'attributes.Parking.street',\n",
       " 'attributes.Ambience.hipster',\n",
       " 'attributes.BYOB/Corkage',\n",
       " 'attributes.Hair Types Specialized In.straightperms',\n",
       " 'attributes.Music.live',\n",
       " 'attributes.Dietary Restrictions.dairy-free',\n",
       " 'attributes.Music.background_music',\n",
       " 'attributes.Price Range',\n",
       " 'attributes.Good For.breakfast',\n",
       " 'attributes.Parking.garage',\n",
       " 'attributes.Music.karaoke',\n",
       " 'attributes.Good For Dancing',\n",
       " 'review_count',\n",
       " 'attributes.Hair Types Specialized In.asian',\n",
       " 'state',\n",
       " 'attributes.Accepts Credit Cards',\n",
       " 'hours.Friday.close',\n",
       " 'attributes.Good For.lunch',\n",
       " 'attributes.Parking.valet',\n",
       " 'attributes.Take-out',\n",
       " 'full_address',\n",
       " 'hours.Thursday.close',\n",
       " 'attributes.Hair Types Specialized In.coloring',\n",
       " 'attributes.Good For.dessert',\n",
       " 'attributes.Music.video',\n",
       " 'attributes.Dietary Restrictions.halal',\n",
       " 'attributes.Takes Reservations',\n",
       " 'hours.Saturday.open',\n",
       " 'attributes.Ages Allowed',\n",
       " 'attributes.Ambience.trendy',\n",
       " 'attributes.Delivery',\n",
       " 'hours.Wednesday.close',\n",
       " 'attributes.Wi-Fi',\n",
       " 'open',\n",
       " 'city',\n",
       " 'attributes.Wheelchair Accessible',\n",
       " 'attributes.Dietary Restrictions.gluten-free',\n",
       " 'stars_business',\n",
       " 'attributes.Dietary Restrictions.kosher',\n",
       " 'type_business',\n",
       " 'attributes.Caters',\n",
       " 'attributes.Ambience.intimate',\n",
       " 'latitude',\n",
       " 'attributes.Good For.dinner',\n",
       " 'attributes.Coat Check',\n",
       " 'longitude',\n",
       " 'hours.Monday.close',\n",
       " 'attributes.Hair Types Specialized In.extensions',\n",
       " 'hours.Tuesday.close',\n",
       " 'hours.Saturday.close',\n",
       " 'attributes.Good for Kids',\n",
       " 'attributes.Parking.validated',\n",
       " 'hours.Sunday.open',\n",
       " 'attributes.Accepts Insurance',\n",
       " 'attributes.Music.dj',\n",
       " 'attributes.Dietary Restrictions.soy-free',\n",
       " 'attributes.Has TV',\n",
       " 'hours.Sunday.close',\n",
       " 'attributes.Ambience.casual',\n",
       " 'attributes.Hair Types Specialized In.perms',\n",
       " 'attributes.Dogs Allowed',\n",
       " 'attributes.Drive-Thru',\n",
       " 'attributes.Dietary Restrictions.vegetarian',\n",
       " 'hours.Wednesday.open',\n",
       " 'attributes.Noise Level',\n",
       " 'attributes.Smoking',\n",
       " 'attributes.Attire',\n",
       " 'attributes.Hair Types Specialized In.curly',\n",
       " 'attributes.Good For Groups',\n",
       " 'neighborhoods',\n",
       " 'attributes.Open 24 Hours',\n",
       " 'attributes.Ambience.romantic',\n",
       " 'attributes.Music.jukebox',\n",
       " 'attributes.Ambience.upscale']"
      ]
     },
     "execution_count": 88,
     "metadata": {},
     "output_type": "execute_result"
    }
   ],
   "source": [
    "list(resto_review_data)"
   ]
  },
  {
   "cell_type": "code",
   "execution_count": 89,
   "metadata": {
    "collapsed": true
   },
   "outputs": [],
   "source": [
    "resto_review_data = resto_review_data.ix[:,['text','stars_review']]"
   ]
  },
  {
   "cell_type": "code",
   "execution_count": 79,
   "metadata": {
    "collapsed": false
   },
   "outputs": [
    {
     "data": {
      "text/plain": [
       "<matplotlib.text.Text at 0x12637588>"
      ]
     },
     "execution_count": 79,
     "metadata": {},
     "output_type": "execute_result"
    },
    {
     "data": {
      "image/png": "[encoded data removed]",
      "text/plain": [
       "<matplotlib.figure.Figure at 0x1377a630>"
      ]
     },
     "metadata": {},
     "output_type": "display_data"
    }
   ],
   "source": [
    "resto_review_data.text.dropna().str.len().hist(bins=50)\n",
    "xlabel('Length of the review')\n",
    "ylabel('Number of reviews')"
   ]
  },
  {
   "cell_type": "code",
   "execution_count": 90,
   "metadata": {
    "collapsed": false
   },
   "outputs": [],
   "source": [
    "minReviewLen = 50\n",
    "resto_review_reduced = resto_review_data[resto_review_data.text.str.len() > minReviewLen]"
   ]
  },
  {
   "cell_type": "code",
   "execution_count": 91,
   "metadata": {
    "collapsed": false
   },
   "outputs": [
    {
     "data": {
      "text/plain": [
       "1610512"
      ]
     },
     "execution_count": 91,
     "metadata": {},
     "output_type": "execute_result"
    }
   ],
   "source": [
    "len(resto_review_reduced)"
   ]
  },
  {
   "cell_type": "code",
   "execution_count": 92,
   "metadata": {
    "collapsed": false
   },
   "outputs": [],
   "source": [
    "maxReviewLen = 500\n",
    "resto_review_reduced = resto_review_reduced[resto_review_reduced.text.str.len() < maxReviewLen]"
   ]
  },
  {
   "cell_type": "code",
   "execution_count": 93,
   "metadata": {
    "collapsed": false
   },
   "outputs": [
    {
     "data": {
      "text/plain": [
       "910340"
      ]
     },
     "execution_count": 93,
     "metadata": {},
     "output_type": "execute_result"
    }
   ],
   "source": [
    "len(resto_review_reduced)"
   ]
  },
  {
   "cell_type": "code",
   "execution_count": 94,
   "metadata": {
    "collapsed": true
   },
   "outputs": [],
   "source": [
    "resto_review = resto_review_reduced"
   ]
  },
  {
   "cell_type": "code",
   "execution_count": 95,
   "metadata": {
    "collapsed": false
   },
   "outputs": [],
   "source": [
    "resto_review.stars_review = resto_review.stars_review.astype(float)"
   ]
  },
  {
   "cell_type": "code",
   "execution_count": 96,
   "metadata": {
    "collapsed": false
   },
   "outputs": [
    {
     "data": {
      "image/png": "[encoded data removed]",
      "text/plain": [
       "<matplotlib.figure.Figure at 0x10bb8dd8>"
      ]
     },
     "metadata": {},
     "output_type": "display_data"
    }
   ],
   "source": [
    "bins = [1, 2, 3 ,4, 5, 6]\n",
    "resto_review.stars_review.hist(bins=bins, align='left', width=0.93)\n",
    "xticks(bins)\n",
    "xlabel('Rating stars')\n",
    "ylabel('Number of reviews')\n",
    "plt.show()"
   ]
  },
  {
   "cell_type": "markdown",
   "metadata": {
    "collapsed": true
   },
   "source": [
    "## Baseline Model"
   ]
  },
  {
   "cell_type": "code",
   "execution_count": 98,
   "metadata": {
    "collapsed": false
   },
   "outputs": [
    {
     "name": "stdout",
     "output_type": "stream",
     "text": [
      "Baseline Rating: 4.0\n"
     ]
    }
   ],
   "source": [
    "resto_review['predicted_rating'] = round(sum(resto_review.stars_review)/len(resto_review.index))\n",
    "print \"Baseline Rating:\", round(sum(resto_review.stars_review)/len(resto_review.index))"
   ]
  },
  {
   "cell_type": "code",
   "execution_count": 100,
   "metadata": {
    "collapsed": false,
    "scrolled": true
   },
   "outputs": [
    {
     "data": {
      "text/plain": [
       "910340"
      ]
     },
     "execution_count": 100,
     "metadata": {},
     "output_type": "execute_result"
    }
   ],
   "source": [
    "len(resto_review)"
   ]
  },
  {
   "cell_type": "code",
   "execution_count": 108,
   "metadata": {
    "collapsed": false,
    "scrolled": true
   },
   "outputs": [
    {
     "name": "stderr",
     "output_type": "stream",
     "text": [
      "C:\\Users\\Karan\\Anaconda2\\lib\\site-packages\\sklearn\\metrics\\classification.py:1203: DeprecationWarning: The default `weighted` averaging is deprecated, and from version 0.18, use of precision, recall or F-score with multiclass or multilabel data or pos_label=None will result in an exception. Please set an explicit value for `average`, one of (None, 'micro', 'macro', 'weighted', 'samples'). In cross validation use, for instance, scoring=\"f1_weighted\" instead of scoring=\"f1\".\n",
      "  sample_weight=sample_weight)\n",
      "C:\\Users\\Karan\\Anaconda2\\lib\\site-packages\\sklearn\\metrics\\classification.py:1304: DeprecationWarning: The default `weighted` averaging is deprecated, and from version 0.18, use of precision, recall or F-score with multiclass or multilabel data or pos_label=None will result in an exception. Please set an explicit value for `average`, one of (None, 'micro', 'macro', 'weighted', 'samples'). In cross validation use, for instance, scoring=\"f1_weighted\" instead of scoring=\"f1\".\n",
      "  sample_weight=sample_weight)\n",
      "C:\\Users\\Karan\\Anaconda2\\lib\\site-packages\\sklearn\\metrics\\classification.py:756: DeprecationWarning: The default `weighted` averaging is deprecated, and from version 0.18, use of precision, recall or F-score with multiclass or multilabel data or pos_label=None will result in an exception. Please set an explicit value for `average`, one of (None, 'micro', 'macro', 'weighted', 'samples'). In cross validation use, for instance, scoring=\"f1_weighted\" instead of scoring=\"f1\".\n",
      "  sample_weight=sample_weight)\n"
     ]
    },
    {
     "data": {
      "text/html": [
       "<div>\n",
       "<table border=\"1\" class=\"dataframe\">\n",
       "  <thead>\n",
       "    <tr style=\"text-align: right;\">\n",
       "      <th></th>\n",
       "      <th>accuracy</th>\n",
       "      <th>f1_score</th>\n",
       "      <th>precision</th>\n",
       "      <th>recall</th>\n",
       "    </tr>\n",
       "  </thead>\n",
       "  <tbody>\n",
       "    <tr>\n",
       "      <th>Baseline</th>\n",
       "      <td>0.273578</td>\n",
       "      <td>0.117535</td>\n",
       "      <td>0.074845</td>\n",
       "      <td>0.273578</td>\n",
       "    </tr>\n",
       "  </tbody>\n",
       "</table>\n",
       "</div>"
      ],
      "text/plain": [
       "          accuracy  f1_score  precision    recall\n",
       "Baseline  0.273578  0.117535   0.074845  0.273578"
      ]
     },
     "execution_count": 108,
     "metadata": {},
     "output_type": "execute_result"
    }
   ],
   "source": [
    "precision = metrics.precision_score(resto_review.stars_review, resto_review.predicted_rating)\n",
    "recall = metrics.recall_score(resto_review.stars_review, resto_review.predicted_rating)\n",
    "f1 = metrics.f1_score(resto_review.stars_review, resto_review.predicted_rating)\n",
    "accuracy = accuracy_score(resto_review.stars_review, resto_review.predicted_rating)\n",
    "\n",
    "baselineResult = {}\n",
    "\n",
    "data = {'precision':precision,\n",
    "        'recall':recall,\n",
    "        'f1_score':f1,\n",
    "        'accuracy':accuracy}\n",
    "\n",
    "baselineResult['Baseline'] = data\n",
    "pd.DataFrame(baselineResult).T"
   ]
  },
  {
   "cell_type": "code",
   "execution_count": 107,
   "metadata": {
    "collapsed": false,
    "scrolled": true
   },
   "outputs": [
    {
     "data": {
      "image/png": "[encoded data removed]",
      "text/plain": [
       "<matplotlib.figure.Figure at 0x10bd7438>"
      ]
     },
     "metadata": {},
     "output_type": "display_data"
    }
   ],
   "source": [
    "    error = resto_review.stars_review - resto_review.predicted_rating\n",
    "    \n",
    "    d = error.tolist()\n",
    "    d = [0 if math.isnan(x) else x for x in d]\n",
    "    m = mean(d)\n",
    "    med = median(d)\n",
    "    s = std(d)\n",
    "\n",
    "    x = linspace(min(d), max(d), 1000)\n",
    "    gauss = lambda x, m, s: (1 / (s * sqrt(2 * pi)) * exp(-0.5 * ((x - m) / s) ** 2))\n",
    "    y = gauss(x, m, s)\n",
    "    \n",
    "    bins = np.arange(min(d), max(d)+1, 1)\n",
    "    n, b, patches = plt.hist(d, bins=bins+1, normed=True, align='left', width=0.95)\n",
    "    xticks(bins)\n",
    "    \n",
    "    plt.legend(loc=0)\n",
    "    plt.plot(x, y, color=colors[4])\n",
    "    plt.xlabel('Error')\n",
    "    plt.ylabel('Normalized Frequency')\n",
    "    title = 'Basline Error Distribution'\n",
    "    plt.title(title)\n",
    "    plt.show()"
   ]
  },
  {
   "cell_type": "markdown",
   "metadata": {},
   "source": [
    "## Advanced models"
   ]
  },
  {
   "cell_type": "code",
   "execution_count": 110,
   "metadata": {
    "collapsed": true
   },
   "outputs": [],
   "source": [
    "stoplist = set(stopwords.words(\"english\"))"
   ]
  },
  {
   "cell_type": "code",
   "execution_count": 111,
   "metadata": {
    "collapsed": true
   },
   "outputs": [],
   "source": [
    "numTopics = 15"
   ]
  },
  {
   "cell_type": "code",
   "execution_count": 113,
   "metadata": {
    "collapsed": true
   },
   "outputs": [],
   "source": [
    "starsGroup = resto_review.groupby('stars_review')\n",
    "\n",
    "all_1stars_text = starsGroup.get_group(1.0)['text']\n",
    "all_2stars_text = starsGroup.get_group(2.0)['text']\n",
    "all_3stars_text = starsGroup.get_group(3.0)['text']\n",
    "all_4stars_text = starsGroup.get_group(4.0)['text']\n",
    "all_5stars_text = starsGroup.get_group(5.0)['text']\n",
    "\n",
    "all_1stars_labels = [1.0]*len(all_1stars_text)\n",
    "all_2stars_labels = [2.0]*len(all_2stars_text)\n",
    "all_3stars_labels = [3.0]*len(all_3stars_text)\n",
    "all_4stars_labels = [4.0]*len(all_4stars_text)\n",
    "all_5stars_labels = [5.0]*len(all_5stars_text)"
   ]
  },
  {
   "cell_type": "code",
   "execution_count": 120,
   "metadata": {
    "collapsed": false
   },
   "outputs": [],
   "source": [
    "from sklearn.cross_validation import train_test_split\n",
    "\n",
    "all_1stars_text_train, all_1stars_text_test, all_1stars_labels_train, all_1stars_labels_test = train_test_split(all_1stars_text, all_1stars_labels, test_size=0.20)\n",
    "all_2stars_text_train, all_2stars_text_test, all_2stars_labels_train, all_2stars_labels_test = train_test_split(all_2stars_text, all_2stars_labels, test_size=0.20)\n",
    "all_3stars_text_train, all_3stars_text_test, all_3stars_labels_train, all_3stars_labels_test = train_test_split(all_3stars_text, all_3stars_labels, test_size=0.20)\n",
    "all_4stars_text_train, all_4stars_text_test, all_4stars_labels_train, all_4stars_labels_test = train_test_split(all_4stars_text, all_4stars_labels, test_size=0.20)\n",
    "all_5stars_text_train, all_5stars_text_test, all_5stars_labels_train, all_5stars_labels_test = train_test_split(all_5stars_text, all_5stars_labels, test_size=0.20)"
   ]
  },
  {
   "cell_type": "code",
   "execution_count": 127,
   "metadata": {
    "collapsed": true
   },
   "outputs": [],
   "source": [
    "def process_reviews(dirty_data_set):\n",
    "    clean_data_set = []\n",
    "    for review in dirty_data_set:\n",
    "        # Remove punctuations\n",
    "        review = re.sub(r'[^a-zA-Z]', ' ', review)\n",
    "        # To lowercase\n",
    "        review = review.lower()\n",
    "        # Remove stop words\n",
    "        texts = [word for word in review.lower().split() if word not in stoplist]\n",
    "        try:\n",
    "            clean_data_set.append(' '.join(texts))\n",
    "        except:\n",
    "            pass\n",
    "    return clean_data_set"
   ]
  },
  {
   "cell_type": "code",
   "execution_count": 128,
   "metadata": {
    "collapsed": false,
    "scrolled": true
   },
   "outputs": [
    {
     "name": "stdout",
     "output_type": "stream",
     "text": [
      "Number of 5-star reviews after processing:  325603\n",
      "Number of 4-star reviews after processing:  199239\n",
      "Number of 3-star reviews after processing:  82408\n",
      "Number of 2-star reviews after processing:  53890\n",
      "Number of 1-star reviews after processing:  67131\n"
     ]
    }
   ],
   "source": [
    "corpus_5stars = process_reviews(all_5stars_text_train)\n",
    "corpus_4stars = process_reviews(all_4stars_text_train)\n",
    "corpus_3stars = process_reviews(all_3stars_text_train)\n",
    "corpus_2stars = process_reviews(all_2stars_text_train)\n",
    "corpus_1stars = process_reviews(all_1stars_text_train)\n",
    "\n",
    "print \"Number of 5-star reviews after processing: \", len(corpus_5stars)\n",
    "print \"Number of 4-star reviews after processing: \", len(corpus_4stars)\n",
    "print \"Number of 3-star reviews after processing: \", len(corpus_3stars)\n",
    "print \"Number of 2-star reviews after processing: \", len(corpus_2stars)\n",
    "print \"Number of 1-star reviews after processing: \", len(corpus_1stars)"
   ]
  },
  {
   "cell_type": "code",
   "execution_count": 129,
   "metadata": {
    "collapsed": true
   },
   "outputs": [
    {
     "data": {
      "text/plain": [
       "['best fish burrito ever good beer selection definitely looking forward coming back trying items',\n",
       " 'discovered place first moved become addicted vegetarian grilled veggie wrap yummy friends told subs delicious well especially get mike way jersey mike favorite though staff always super friendly packer fans always come wrap watch packer game feel home',\n",
       " 'worth wait like everyone else think place fantastic well remember french name want eat everything looks good bring things breakfast great stuff lady says control good also bring coffee beer pretty ideal noon',\n",
       " 'place pretty hard beat bacon cheese burger cheese fries good happy hometown getting shake shack',\n",
       " 'love place pittsburgh different fun people working always seem great time good vibes great food ps get mexican corn cob make ressie show always packed',\n",
       " 'bruschetta amazing finest ingredients lovely setting kindest service gem organic remarkable first visit',\n",
       " 'place amazing best pad thai ever also fairly inexpensive especially lunch',\n",
       " 'amaaaaaaaaazing best thai food valley fosho thai food junkie unfortunately deliver worth extra time pick take highly recommend',\n",
       " 'caesar service fun attentive informative lady found smile intoxicating',\n",
       " 'best donuts ever seriously three weekends row consitent delicious perfect donuts dream next time one',\n",
       " 'far best hidden gem vegas food staff amazing every time awesome best brunch west side strip small shared plates short rib hash dish disappoint oh lot forget bottomless mimosas always great time saturdays sunday checked place disservice',\n",
       " 'family loves place daughter flew uk break university course chose azteca first meal back states homemade guacamole always good choice margaritas best town love guys',\n",
       " 'love taco guild great happy hour tacos spot great drinks beers well',\n",
       " 'addicted shrimp burrito addicted thank senor taco',\n",
       " 'wife come every time vegas get balcony view come brunch get blueberry french toast regret get portions regret coffee okay picky coffee must visit spot',\n",
       " 'new yorker years tell authentic find vegas chef gio really knows harness tastes old world bit costly pizzerias well worth money',\n",
       " 'stuck mom homemade taste thai cooking forever first visit arisra thai felt different level thai cuisine mom regular customer never spent money eat thai place beside cooking home eats twice week lobsters crab oysters especially ribeye steaks discovered gift thailand amazing authentic thai food come check',\n",
       " 'think currently trying stay awake work remember coming week ago pressure cooked goat delicious sauteed spinach soaked flavors superbly uniquely spiced dried grape skins base black tea cold refreshing yogurt based drink take getting used become regular stop',\n",
       " 'great food awesome wine list high quality stems friendly service reasonable prices los justifiably famous crispy pork chinese broccoli incredible isaan specialties',\n",
       " 'usually fast eater love food much taste every bite',\n",
       " 'go happy hour appetizers drinks ambience great even better bar gets full',\n",
       " 'best ayce town huge fan ayce tried lot one completely different like fine sushi place quality definitely tried many dish able list remarquable cherry blossom peace art sexy lazy special tasty orignal like coconut service fast always common usual acye sushi',\n",
       " 'one favorite places eat breakfast delicious eggs medium correctly cooked toast home fries right amount rosemary breads pastries best valley staff always friendly helpful accommodating treat stop meal glad',\n",
       " 'papi queso one favorite gourmet food trucks three sandwiches date like one better next today jack turkey roasted turkey pepper jack shaved red onion banana peppers basil side kick ass tomato soup perfect lunch yum sandwich love pig mac care smoked meat seriously mac n cheese grilled cheese yum',\n",
       " 'place awesome even walked staff member offered us coffee water drink waited line bf grabbed coffee blown away good asked could buy bulk left girl counter super helpful friendly got food fast everything tasted amazing thing remotely downside bit far house hoping put one arrowhead area soon',\n",
       " 'regular years always come back food consistently good service servers management friendly professional favorite items find regular fish specials good always liked atmosphere well',\n",
       " 'want register yelp let people know place food found boss hog friday special like sliced pork bbq sauce melted cheese cole slaw french roll huuuge sandwich delicious week something special try',\n",
       " 'market business trip decided take easy lunch first glance looked like place expensive probably going worth proved wrong decently priced happy hour believe spent bucks three people came satisfied food great flavor calamari beef sticks nachos tacos etc etc eat back town',\n",
       " 'best hang great selection wonderful meals disappointed also great friendly staff also try amazing arancini go best ever greatest hang even nick duty staff still working',\n",
       " 'burger may honestly best burger ever also love patio seating outside bar around back complaint rock bottom fault homeless people approached table times dinner ask either money water',\n",
       " 'husband decided drive around find new place eat stopped weeks ago sat outdoor area weather perfect service awesome food ok hubby loved found fan marsala still gave stars taste buds reason knock definitely back oh also signed restaurants com got deal',\n",
       " 'great place happy hour food delish margaritas fantastic course service great drawback driver thru town looking bar yelp directions incorrect aside detour loved place',\n",
       " 'oxtail soup coming since little located cal locals whenever drive vegas family always come cal get oxtail soup parents usually get get late night breakfast oxtail soup bomb com personally like would like try craving soup get saimen',\n",
       " 'authentic chinese food even better chinese restaurants la must go place live around phenix love traditional chinese food',\n",
       " 'flawless brunch outside nice day perfection george lovely patio seating view fountain service kate impeccable shrimp grits worth checking special available every sunday worth wait spectacular always',\n",
       " 'chaya since moved new space lot bigger food still fantastic ingredients top notch right fresh wasabi nothing flashy authentic high quality japanese food easily best sushi pittsburgh tempura great need come back often try non sushi items',\n",
       " 'good gets get try good food living chicago place would hold anywhere wall whiskey use rolling ladder pluck bottles one guys job ride ladder best food best drinks pitt eclectic new american menu tons cool dishes mussels great try monk fish blue crab risotto',\n",
       " 'oh yummy letter e lunch special going al years best tex mex food anywhere chicken always moist tasty highly recommend trying',\n",
       " 'mmmm hot juicy crawfish delicious recently tried lemon pepper seasoning crab garlic butter shrimp course cajun seasoning crawfish exactly next time everything much flavor corn cob potatoes work perfectly great soaking juices warned wont smell great awhile learned first time take go',\n",
       " 'love place great experience service food almost every time visit good location walk home woop dd needed dream gnocchi short ribs',\n",
       " 'numerous times never disappointed chile verde birdie favorite sandwich wide variety items menu suit taste service always good polite welcoming always great music playing today jazzy selection christmas songs cannot go wrong',\n",
       " 'favorite place visit charlotte great lunch dinner fast service great good place always clean definitley stars',\n",
       " 'place great like cross fast food regular restaurant really casual upscale fast food atmosphere food really fresh delicious become one favorite places quick bite',\n",
       " 'tonight fianc wanted try new spot tacos ended heaven earth customer service received ben awesome food good forgetting breath eating apart family definitely back',\n",
       " 'highly recommended came lunch husband based positive yelp reviews delicious sushi great customer service fun atmosphere loved place would love come back',\n",
       " 'love happy hours great sushi great price right street awesome',\n",
       " 'thank shake shack treating new h employees delicious cheeseburgers opening day super friendly good business burgers soooo good whole staff stop talking yummy definitely making trip shake shack lunch dinner soon',\n",
       " 'best breakfast spot valley love place want go back tomorrow sweet potato pancakes',\n",
       " 'la transplant soft spot cold heart n chains especially looking five guys suck n beef juices n reigns supreme best burger bucks surprise five guys copied restaurant decor color scheme beef never frozen tagline potatoes cut fries house',\n",
       " 'never disappointment place consistently delicious never less amazing experience refer anyone know place everyone thanks referral crave food daily',\n",
       " 'could say place leu reviews well one say price large quantity taste quality great customer service gives place star less new years resolution try everything menu end year yeah good',\n",
       " 'waiting long nasty bojangles kfc also think funny restaurant long line tell anything',\n",
       " 'best place found area amazing lunch pricey meal worth every penny',\n",
       " 'excellent food steak au poivre amazing bad thing menu service friendly prompt food die definitely back next time vegas',\n",
       " 'panang curry day everyday love daily lunch special staff quick friendly try make least week',\n",
       " 'food amazing shrimp grits great definitely going back',\n",
       " 'ate breakfast couple days food good fruits super fresh',\n",
       " 'going place years love food recently added new nothing new food order unless get lunch specials fried rice peas carrots looks like stupid rice taste like fried rice still like place would add peas carrots',\n",
       " 'delicious place amazing steaks sides appetizers place beautiful screams high class chef nice accommodating truly world class experience try ox tail ravioli bone marrow potatoes',\n",
       " 'wow wow wow place control good even chorizo tacos bomb',\n",
       " 'enjoyed everything order best location hopefully good reviews people looking people really friendly great alternatives usual lunch places definitely check menu',\n",
       " 'came original genos way gilbert difference food gilbert queen creek locations copycats like theses guys burger today deff best burger ever bacon cheddar burger try could give guys star would try genos come tempe open till new late night spot worth drive',\n",
       " 'wife always go amelie date night raspberry tarts petit great beat salted caramel brownie',\n",
       " 'still like place years going really one bad experience gyro meat bit overcooked food cheap consistently good recommend burger though gyro cashier guys always really cool personable always liked college feel place late night special greek salad',\n",
       " 'satisfied food service order takoyaki beef stew soup good portion takoyaki beef soup delish broth ok beef much flavor serve lot husband shared soup tea great got green macha tea like desert tea one service fast best prices affordable definitely recommend place',\n",
       " 'service friendly fast hurry ordered food togo able order head within minutes ordered gyro combo amazing tons meat fresh veggies think found new regular lunch spot see becoming like chicago hamburger company lunch lines door many happy faces',\n",
       " 'cheesey bread die like pizza sauce little sweeter used getting accustomed delicious staff friendly wait go back',\n",
       " 'love service great time gone prices right steak restaurant wait try items menu',\n",
       " 'amazing usual food great service exceptional good sushi udon best vegas',\n",
       " 'great food terrific service waiter friendly gave great recommendations drinks food pleased entire experience real reason place deserves five stars view patio worth wait memorized water shows bellagio fountains make restaurant memorable must visit next time vegas',\n",
       " 'absolutely delicious wife three times totally satisfied time always order house chicken sweet mildly spicy high quality chicken word wise one entree enough two people also try grilled potstickers happy',\n",
       " 'best pizza town far friendly staff great prices rating breadsticks small pizza asked filling came pm staff friendly even though close pm',\n",
       " 'best indian vegas hands grew vegas live philly ekta around world many times since vegetable pakora ghandi still best ever always make sure eat town',\n",
       " 'cool spot views amazing seafood platter amazing drinks amazing server beyond amazing ordered coconut shrimp mentioned care vp restaurant came apologized thanked feedback overall fantastic experience wait go back',\n",
       " 'carne asada wet burrito really good red sauce top burrito little spicy delicious highly recommend',\n",
       " 'sushi little expensive worth getting staff friendly environment nice sakana location teppan family go least wee probably one best sushi places ever',\n",
       " 'though serve chicken worth waiting plain donut served combo exceptional though donuts liking overall though amazing addition really underdeveloped part town',\n",
       " 'thank everyone silly yak bakery gluten free casein free donuts die',\n",
       " 'loved everything crush service impeccable still friendly food fantastic cauliflower lamb chops french onion soup favorites loved tapas style sharing atmosphere intimate especially las vegas complaint drinks could stronger still yummy',\n",
       " 'superb food amazingly delicious great variety wins europe desert kill service fantastic five star way',\n",
       " 'seattle grew hawaii biggest complaint seattle filipino food miss hit told restaurant ties elena hawaii food legit reminds home mixed plate choices pork gisantes squid guisado pinakbet thelma special chopped lechon kawali tomatoes onions soy sauce desert banana lumpia good love food',\n",
       " 'good good good veg cheese burger loaded everything yuuuuum return',\n",
       " 'went friends weeks ago give stars like love foods love survice ask whatever want mean like soda tes water whenever want enjoy talk eat spent time like hours hehehe',\n",
       " 'excellent service excellent food cozy intimate atmosphere',\n",
       " 'vegas location tastes better actual grimaldi ny wait best cheap food get vegas stars',\n",
       " 'delicious sopapilla like spicy recommend red sauce remember guys new mexican food mexican waiter great food didnt take long yes going back',\n",
       " 'came mingo work luncheon know expect lounge cozy food excellent bar selection impressive definitely would come back girls night mention bar hooks purse variety phone chargers keep plugged',\n",
       " 'honestly wish could give place stars places like still exist awesome place almost like back home seeing loved ones welcomed us open arms treated us like family food amazing owners awesome wait staff extremely attentive made sure everthing needed feeneys diamond ruff cannot wait come back',\n",
       " 'went happy hour taylor bar incredibly nice helpful definitely coming',\n",
       " 'mmmm goooood food freshly made service great',\n",
       " 'portillo hails chicago land office business scottsdale tempe italian beef superb portillo clean well organized featuring efficient service handle big crowds stop prior cubs game disappoiinted',\n",
       " 'lot times great dishes great stuff always friendly always leave full waterfront best mexican spot',\n",
       " 'busy monday night football crew service even though busy excellent attentive hovering pleasant chatty food food exceptional new yorker pizza linguine clams love place surprised',\n",
       " 'food toooo die favorite oxtail chili cheese fries must go try different burger every time disappointed yet',\n",
       " 'pho die favorite tea light special taste couple different appetizers soup sure try boba drinks delicious offer good selection flavors love small family run business feel',\n",
       " 'happy quality sushi resteraunt go food awesome staff great',\n",
       " 'ceviche anticuchos outstanding maracuya sour passionfruit pisco delicious refreshing excellent service highly recommend el chullo',\n",
       " 'place amazing st bernardus tap food outstanding surf n turf tacos came kale salad delicious blend sweet sour seemed place entree make sure change side next time overall place amazing great intimate atmosphere nice relaxed naturally shaded patio next canal would definitely go back',\n",
       " 'eating since years old really best chicken ever eat like eating st hubert steroids chicken skin crispy takes like wood charcoal meat falls apart sauce awesome unique taste fries best fries ever try coleslaw best coleslaw ever finish carrot cake pecan cake die regret expensive',\n",
       " 'eat whenever chandler az fresh great bowls blacken mahi fish tacos sweet potato fries good mango ice tea well everyone turned place regular must try love',\n",
       " 'superb thai food came vegas conference glad stumbled restaurant came lunch ordered thai sweet basil fried rice tom yum kung shrimp soup easily best thai tasted definitely one best food came early cooked fresh flavorful highly recommended',\n",
       " 'long lines worth wait everthings fresh even handmade tortillas great deal tacos',\n",
       " 'edinburgh vacation checking yelp reviews thank oink recommendation juicy wonderful spicy cheese apple sauce dripped jacket care go tomorrow thank yelpers',\n",
       " 'try el paso style taquitos place takes back childhood great prices friendly staff yummy authentic food',\n",
       " 'place least half dozen times absolutely love look like much outside soon walk pleasantly surprised outside patio water features excellent happy hour well brave tried habanero cheeseburger one night fierce delicious going regretted next day haha also love cavern chicken salad lobster enchiladas yum yum',\n",
       " 'going years always great service delicious fresh food like another reviewer said know good sushi place japanese owned negative reviewers probably went rare bad day big complainers general',\n",
       " 'cali looking king taco el taurino grew hoover olympic spot u want go get delicious flavor',\n",
       " 'hands best sushi town terms volume quality must try bbq beef short rib seafood salad spicy gets super busy tight patient enjoy great service sleuth smile freshest sushi nigiri',\n",
       " 'love place boyfriend go time happy hour amazing food expensive chibi burger ribs broccoli great get every time seating bar area gets filled pretty quickly worth wait get open',\n",
       " 'make last minute dinner plans family always guys back courteous service hot fresh real fried chicken minutes everything made spot sandwiches wait dissapointed yet whatever get fish let friends family know hide eat enjoy party gathering question going bring',\n",
       " 'good cheap wish could buy stock place',\n",
       " 'fabulous variety sandwich lover especially love darius sandwich loaded generous portion veggies gluten free great able order sandwich made gluten free bread employees friendly make everything care',\n",
       " 'like nice quit place business lunch good quick service great food also evenings weekends happening place live music note free parking lot east turf awesome specials time great atmosphere around keep coming back',\n",
       " 'dinner appetizers outstanding deviled eggs bone morrow chicken n biscuits lamb burger chesse burger cream burla nice job brady crew',\n",
       " 'tired grumpy went drive tonight pm service excellent cashier even confirmed order making sure everything correct wind sand storm got home food delicious patty melt great never freddy bit put price worth definitely coming back great restaurant nice staff delicious food',\n",
       " 'flo new happy hour spot stopped friday night around p dinner surprise happy hour runs p also surprise pretty amazing deal alcohol apps ordered lettuce cups wontons spring rolls couple beers food delicious large portions total beers apps flo made presence known also found refreshing everyone friendly food top notch go girl',\n",
       " 'eaten location cornelius first time location still notch ribs best ribs strawberry short cake amazing crowded complementary valet parking service fantastic nick even offered take valet ticket began pouring rain',\n",
       " 'john f behind bar nothing short rockstar greets smile friendly hello drink menu real crowd pleaser presentation impeccable drink concoctions premium delicious far ordinary professional personable resourceful words describe john team fantastic service received give highest recommendation',\n",
       " 'perfect little garden outside amazing beautiful charming candles palm trees food gr menu courses meal without desert service perfect delicious healthy portions refined really worth',\n",
       " 'dont like liver mom got tasted fantastic tender flavorable really great portion would enough us split like liver also low prices great service mom loved wants go back soon',\n",
       " 'wow talk wow experience read reviews said food great service ok however case outstanding andre took charge us selected version portugese omakase including wine flavours presentation service flawless must try',\n",
       " 'paid less vegas buddy best parm cheesy dream grilled salmon cooked perfectly guess simple combination best ingredients presentation skills technical excellence master baker makes good restaurant visited near strip seem charging location premium inexpensive reasonable oh ya save room desert omg',\n",
       " 'happy hour night happy hour close reverse happy hour amazing prices rolls spicy tuna rainbow vegas great place filled monday night nothing fancy great spot stop friends family share rolls',\n",
       " 'fantastic snitzel spatzle mushroom gravy wonderful nice little mom pop hole wall place',\n",
       " 'many sushi restaurants poke best also must try hollywood roll regular menu ask know primo roll also must try delicious interesting tasty rolls poke place go',\n",
       " 'tried place last weekend advice rachel c lady knows sushi fish top quality interesting rolls combinations crazy tuna flower roll real standouts evening plus byo always bonus glad reservation dinner place packed would waiting group called ahead',\n",
       " 'something everyone vegan delight veggie pizza wheat crust vegan cheese red quinoa salad delicious left feeling full heavy kids tried lobster bisque kids pizza hits great service definitely favorite',\n",
       " 'service place outstanding visit lot restaurant wow way go blancos',\n",
       " 'steak salad incredible saying lot salad husband brother got pad thai said best ever french fries crispy delicious swanky yet laid back vibe complaint ridiculously cold inside summer bring sweater',\n",
       " 'downloaded yelp place favorite place world burger best staff relaxed fun place eat adore hippie burgers',\n",
       " 'one favorite pizza places henderson area yummy put garlic dough sauce gives good lil kick great lunch place',\n",
       " 'chandler based tea shop everything happy hour fridays saturday nights includes famous tea tinis good food great great soul food dish wonderful little appetizers favorite teas pomengranete peach mixx white teas even better hot cold tea taste great wonderful dessert well laid back feel owner glynis wonderful',\n",
       " 'antonio banderas desperado pizzerias',\n",
       " 'great quick service great selection rolls eat great value nice cozy joint',\n",
       " 'excellent food outrageously expensive prepared order great service also ramen pork broth best flavorful',\n",
       " 'husband king crab legs trifecta mild like spice completely happy mild kidding spice careful flavor great crab great service bad restaurant really cute like writing walls patrons write walls something fun different',\n",
       " 'wife eat alot star restaurants might early call could best meal us service perfect rock shrimp app delish garbage salad great steaks prepared perfectly wife said filet better mortons dont miss one',\n",
       " 'love chunk chicken great stinky tofu states boba tea overpriced pretty authentic place awesome want real authentic taiwanese food',\n",
       " 'go spot chinatown van roy closed several years ago food always great always special place heart new dynasty',\n",
       " 'new favorite sushi place price great service amazing around great place',\n",
       " 'love burgers apparently ordered bbq burger enjoyed patio delicious fries great service standard exemplary quick easy restaurant clean patio right mix shade sunlight early fall afternoon',\n",
       " 'love new restaurant great food beautiful presentation excellent prices spicy tuna roll chicken teriyaki serving size unbelievable price',\n",
       " 'random strange las vegas one best delis ever guess good ol lv knows food well guess knew giant matzo ball soup delectable potato knish puts corky lenny shame roasted turkey sandwich shaved thin shiny turkey thank god fluffy rye bread crisp crust russian dressing made dream sandwich best deli outside new york random strange yes',\n",
       " 'husband visiting mn local mesa recommended try hub yum everything ordered incredible flavor caprese salad wings club sandwich pretzel bun promise never club sandwich like service great chef even came ask meal loved bar area like flat screen tvs added unique touch treasure chest kids get hub regret',\n",
       " 'hands amazing sushi amazing staff amazing atmosphere think one thing like place wait time even busy friday night long price wait well worth thanks awesome food staff',\n",
       " 'delicious burger ever also ordered truffle fries amazing sauce served fries also good definitely come great service wonderful food',\n",
       " 'steak special chicken parmesan favorites wings beer compliment experience love place',\n",
       " 'best brunch southpark crowded went sunday expect wait bit food well worth',\n",
       " 'love panera bread lucky catered office everything always delicious never disappointment',\n",
       " 'veggie burger chicken fingers left satisfied beer really great hefe best ever thing stinks place wait think good indicator amazing four peaks',\n",
       " 'soo good went tuesday cent margaritas impressed ordered chicken chimichanga probably one best ever margaritas great friend absolutely cannot wait go back',\n",
       " 'family took proper birthday lunch waiter shaved head either meg megan perfect helpful food amazing mostly margarita pizzas house salads highly combed place town like brick oven pizzas go also looks like great bar atmosphere really comfortable looking bar seats backs',\n",
       " 'place top notch good food reasonable prices seriously get nice portions even huge things like pancakes wait must patient totally worth breakfast lunch dinner anything anytime servers accommodating never miss stop vegas sandwich selections favorites husband prefers breakfast thing like tostada omlette think called',\n",
       " 'lunch patio fantastic service top notch food stellar return waitress sorry forgot name great got shrimp appetizer cooked tequila yummm eeee',\n",
       " 'mi la kai soup side tripe instead fried fish meat balls favorite service always excellent must least week',\n",
       " 'good tea really taste strength mint leaf great atmosphere remind silverlake back home los angeles coming downtown phoenix crepes made good good music feel like home literally cooler historic home converted',\n",
       " 'love coming food great buys whole pizza large drink ingredients fresh taste good kids work quite helpful courteous definitely recommend trying fired pie',\n",
       " 'food restaurant week excellent cocktails excellent anytime u get vesper martini done correctly happy camper service shining star server gm owner win win around worth trip',\n",
       " 'freaking good secret menu everything made order wish amazing fast food restaurant existed back east',\n",
       " 'excellent pho nice atmosphere delicious generous portions clean tasting good prices quiet part town henderson south eastern ave highly recommend place',\n",
       " 'found place yelp near hotel figured heck let try honestly say disappointed visit got french toast girlfriend got waffle simply excellent staff friendly attentive place packed impressed likely come next vegas visit',\n",
       " 'love church brew works food differnt unique went group freinds weeks ago fantastic trufully beer drinker husband said beer amazing love place',\n",
       " 'food great service outstanding felafel best ever would highly recommend combo plate remember save room baklava turkish coffee',\n",
       " 'proposed wife back patio night comped meal nice surprise staff always friendly food always good try incorporate many non gmo organic ingredients food always plus',\n",
       " 'jamaican jerk salad sweet potatoe fries awesome favorites nice friendly staff',\n",
       " 'love restaurant great food drink list please update drink menu yes precious drink love see',\n",
       " 'tres bon aucune deception j retourne des que je peux nourriture etoiles grosse portion pas tres cher beaucoup de saveur et de choix service et decors etoiles tres propre et beau decors terrasse avant et arriere service rapide je vous en reparle quand j retourne pour essayer autre chose',\n",
       " 'exceptional experience food point good definitely would recommend',\n",
       " 'great addition phoenix eating similar hot pot restaurant l excited find one shabu fondue amazing start finish great martini bar followed high quality delicious food great service perfect date night one favorite restaurants',\n",
       " 'came town texas brunch dad girlfriend everyone loved food enjoyed bloody mary bar wil definitely make place eat come town',\n",
       " 'great food wings looks great inside great tvs def back especially football staff nice helpful sure others complaining patio awesome sliders great wing sauce great plenty sauce options awesome menu tons great stuff',\n",
       " 'yes crazy pockemon stops fountains complex dbs coldest beers best bar food town stop friendly fast service crazy game hunt',\n",
       " 'best breakfast burrito ever homemade fresh guacamole great addition choices hot sauce top huge filling able share boyfriend mimosa fresh squeezed oj delicious bloody mary look appealing back difficult order anything burrito',\n",
       " 'favorite mexican joint carne asada fries bomb com',\n",
       " 'love pizza pepperoni good home made sausage also good thin crust pizza looking deep dish also open days week pm pm everyday open mondays anymore well sunday think another day johnnie',\n",
       " 'great food great service usually eat another pho place sidestreet closer good keep uo great food great service fried rice good well get food fast',\n",
       " 'stars way number one favorite restaurant las vegas foie gras caviar gluttony decadence one complaint never donate restaurant dining certificates local organizations shame food though absolutely delicious',\n",
       " 'four times last months friends taken absolutely love place food great always cooked perfection',\n",
       " 'really great nyc pizza experience many pizza places az greet authentic u ala tony soprano walk actually greeted luigi get italian pizza killer miss garlic knots yumalicious great place great fun back',\n",
       " 'straight brooklyn standard pizza place nothing fancy important food outstanding pizza calzones kid owner worked renowned queen pizzeria restaurant court street brooklyn knows good pie toci good gets would compete almost brooklyn pizzeria except perhaps handful coal ovens',\n",
       " 'buffet step compare wynn buffet bellagio beautiful desserts different selections food like wynn delicious make bellagio last buffet vegas know say save best last definitely best ever',\n",
       " 'love everything serve great coffee beer wines also store atmosphere relaxing always concentrate desk work place go even live mesa',\n",
       " 'business charlotte came fahrenheit recommendation friend lives great food exceptional service reasonable prices next time charlotte definitely coming back special mention lynn works put smile face',\n",
       " 'sing enough praise garage happy hour half priced appetizers best get big ass grilled lamb chops honor groupon well speaking groupon usually run deals could redeem lunch weekday hands favorite restaurant phoenix',\n",
       " 'hands nest bagels ever gets busy ready stand line',\n",
       " 'outstanding great food great service grilled fish grilled shrimp tacos amazing breakfast chorizo tacos customize however want think subway style fresh lime spicy jalape os shredded cilantro great pico de gallo ghost pepper sauce going buy take home best food vegas fact served fast bonus',\n",
       " 'big portion exceptional tasting healthy fresh food must try love place try acai bowl rise shine quesadilla salads',\n",
       " 'wow best mariscos vegas cali better mariscos cali hangover sooo worth drive different live bands mariachi banda conjunto norteno food prices reasonable disappointed',\n",
       " 'hands brio one favorite places scottsdale across country whole know matter city travel get good food good wine brio staff pretty darn professional love brio happy hour especially ravioli beef carapacio brio burger far one best chain restaurant first started going brio number years ago back east dc area fan ever since',\n",
       " 'az classic great tacos lots drinks remarkably tacky atmosphere gets fratty thurs sat hey expect phx',\n",
       " 'best mexican food east valley taken several friends loved awesome veggie tacos mexican corn cob super fresh margaritas great service system get people seated fed',\n",
       " 'yum yum first time dining food wonderful employees friendly attentive definitely coming back',\n",
       " 'excited literally never feelings restaurant apologize frantic waiting food holy cow arrived okay going eat stay tuned yelp dangggg looks gr',\n",
       " 'sure negative reviews experience village pizza fantastic whether eat pizza delivered speaking delivery order taker always friendly contact information file importantly pizza always hot prompt finally wife agree best pizza ever',\n",
       " 'first time heard buzz wanted check hype caniac combo fulfilling bf sauce good complain anything really sweet tea point chicken fingers hook toast perfectly toasted center soft must try definitely coming back',\n",
       " 'place great great coffee good place general big benefit hours helps lot college student great vibe',\n",
       " 'place amazing great food even better atmosphere quickest service means always nice pleasant seriously food great big veggies pasties veggies still beyond delicious wish made pasties order understand quantity make particular location one wife favorite places go',\n",
       " 'good food price reasonable friendly attentive sala chips good homemade salsa burritos guacamole taste',\n",
       " 'ordered takos picked takos girlfriend sat bed takos watched hockey ate takos miss takos star',\n",
       " 'great food even better service visits never bad meal service great work',\n",
       " 'seriously love place quick delivery delicious food everything tried liked continue come back',\n",
       " 'delicious ice custard tasty combo tasty eating tangerine ice vanilla custard already thinking flavors going get next visit definitely going back need fill stamp card',\n",
       " 'food great first time sure come back service excellent buffet',\n",
       " 'still kind buffet eaten several times food changes frequently love quality selection love flavor meats salad bar area also unique gotta love place serves heirloom tomato salad figs hellz yes',\n",
       " 'restaurant amazing great bar creative cocktails drink like food creative full flavor shame one la',\n",
       " 'love food service location always awesome yes get insanely busy food great pepsi place love favorites include boom dip wings also kid friendly good prices quick food one thing give kids dough entertain',\n",
       " 'place great place get quick healthy food employees super nice used birthday coupon girl even ask many questions honored questions asked veggies fresh chicken healthy brown rice fresh recommend friends sign notifications worth',\n",
       " 'incredible wait minutes reservation everything great little sunny sat shades put block sun coffee great honey whole wheat pancakes awesome spanish three egg omelet tasty well service great friendly though little pricey worth',\n",
       " 'wonderful bartender wait staff stay cation old town scottsdale nice way spend th july need try loaded tater tots lumpia rolls happy hour day sunday try bloody mary bacon salt rim bucks deal alex take care enjoy friends',\n",
       " 'great food server arielle great well highly recommended back',\n",
       " 'simple food made great quality ingredients ahi tuna sandwich sweet potato fries fried green beans garlic butter milk shake must',\n",
       " 'one favorite restaurants phoenix know true diners one terms food atmosphere plus never seen hot uniform diner waitresses hungry eggs pm spot',\n",
       " 'favorite sandwich shop hands half soup bread bowl might add half sandwich combos make perfect lunch diggin southwestern club potato soup lately although go wrong dilly bird blazin buffalo chicken hot roast beef another place called bison wiches serves similar sandwiches staying loyal dilly eating since asu days',\n",
       " 'one best steakhouse around totally favorite local spot cool concept good beer interesting menu manager nice enough offer us cheese plate bar wait relaxing outdoor patio seating great party well price reasonable although went crazy tapped people lol yeah tried lot dishes good',\n",
       " 'amazing server attentive needs biggest thing noticed came take order would notice talking would make round come back want disrupt conversation polite food also great four us one us complaint would sure go would tell others go well oh atmosphere super fun',\n",
       " 'best shandy town simply amazing',\n",
       " 'loved everything ate biarritz craving spicy sweet chicken wings days dinner beef tartare missed cocktails service standout',\n",
       " 'wow great authentic szechuan food arizona water oiled fish peppercorn truly numbing cumin beef delicious highly recommend',\n",
       " 'place good food looks tastes fresh think ever mediterranean restaurant extremely clean modern service good food extremely good live arizona ever within hour one make way pita jungle people please open one cal',\n",
       " 'great breakfast sat wife friends everything ordered fantastic drawback wait table well worth',\n",
       " 'best ramen ever guys really value customers experience even water give filtered tastes awesome',\n",
       " 'love creative menu lots traditional american plates creative ingredients start chop salad know mean ribs coffee rub terrific definitely future spot business casual dinners cocktails good interesting concoctions better manhattan scottsdale',\n",
       " 'place nice mom pop sushi restaurant clean authentic accommodating romantic highly recommend anyone love sushi',\n",
       " 'great food great customer service food amazing',\n",
       " 'aladdins one places go wrong matter order food fresh meat always cooked perfectly sauces dressings world deserts great byob outside patio drink kafta favorite',\n",
       " 'best ayce sushi vegas freshest fish great rolls nigiri chefs top notch garlic tuna nigiri die',\n",
       " 'love table side guacamole bean dip great place kids staff helpful making sure entire family comfortable way baby heart fish tacos disappoint beef crispy tacos second visit fajitas looked amazing reasonably priced portions quality got definitely back',\n",
       " 'love place love everything tables teeter totter bit wait food food price superb care',\n",
       " 'super le propri taire est super sympa et la terrasse dehors est vraiment agr able hamac inclus je retourne sans h siter',\n",
       " 'greek salad gyro amazing owner cares works hard day come repeat often',\n",
       " 'stout beer quite good partner enjoyed brown ale well montreal style ribs fall bone tender tasty partner burger topped pancetta gruyere burger fantastic prices quite reasonable',\n",
       " 'coming year daisho keeps getting better super good always deliver satisfying meal terrific menu varieties choose dishes presentable fresh service always gets star always time friendly recommend coming always come sushi',\n",
       " 'tried meet friends sunday brunch lunch postino street crowded suggested corduroy awesome lunch salads spectacular ambience great mention attentive pleasant service chose eat indoors saw full crowd outdoor seating area would love come back try items menu first time definite hit',\n",
       " 'helpful staff never translated starbucks favorites drinks',\n",
       " 'local people looking taste must good food choke aloha',\n",
       " 'love eating greeted soon walked sat favorite booth served morgan smile ordered usual got piping hot chowed gluten free pizza highly recommend come visit family great service food',\n",
       " 'lauren nick chris patrick callie oh great experience must old town uber',\n",
       " 'amazing food drinks great service wonderful food happy hour pm',\n",
       " 'would echo everything cindy l review imperial small market offer amazing variety quality foods owners sweet friendly helpful plain nice grateful presence serve community',\n",
       " 'went happy hour yummy staff great helpful brining everything table super fast',\n",
       " 'heart las vegas excellent buffet must visit desis',\n",
       " 'stumbled upon diamond rough unassuming outside modern inviting inside nick owner charming knowledgable great beer selection food amazing definitely back',\n",
       " 'went brunch loved yogurt granola fresh christian awesome server try get table visit tempe location',\n",
       " 'place awesome seafood fresh service always good offer many different rolls every time go try different one far awesome made perfection',\n",
       " 'go sushi place chandler gilbert area customer service remarkable efficient time servers always happy willing give recommendations helpful alice june always amazing truly look forward coming live north phoenix make drive often eat thank sushi san crew guys great',\n",
       " 'best seafood az pound softshell crab pound lobster garlic mild spice delicious ben server awesome year old kept taking bib continued bring one well tie hands full drink never empty cleaned table threw meal totally appreciate staff helpful kind attentive back thanks amazing meal',\n",
       " 'love love love food amazing great food costumer service excellent disappointed',\n",
       " 'man place awesome got get early gets packed quick hash eggs wow also chocolate pancake side bacon awesome pancake huge rich get something prepare eat portions large last get bloody mary yummy also egg sandwich huge good',\n",
       " 'modern great food decent prices far favorite burger place vegas burger places look like places need follow suit',\n",
       " 'really yummy food refreshing everything served china glass plastic really lovely service well priced',\n",
       " 'pedimos uma lula de entrada que estava deliciosa e suave com um molho marinara de prato principal pedimos gnocci que estava muito bom um dos melhores que j comi para fechar creme brulle imperd vel',\n",
       " 'wow great place celebrate birthday definitely one best meals montr al even better toqu good maybe better la chronique menu gustation wine pairings enjoyed every dish wine highlights kampachi sashimi scallop veal cheek shrimp yellow beet risotto salmon confit excellent service knowledgeable pleasant staff highly recommended',\n",
       " 'love restaurant pleasure stumble unique little gourmet piece heaven earth pleasing ambience feels like france great personal service incredibly unique menu lunch enjoyed raclette grilled cheese dish pork ragu dish mmmm downtown scottsdale find missed',\n",
       " 'huge amount great food submitted pics massive sandwich questioning almost every sandwich menu small charge split sandwich know sandwich bigger head finished one half fell food coma thats never good vegas love vegas love restaurant people everyone got different sandwiches everyone happy meal',\n",
       " 'economical tasty right strip near stratosphere one word caution asked spicy got quite bit spice curry lots habanero serrano jalapeno peppers seeds err side caution ask spicy like dish',\n",
       " 'one best bbq spots charlotte ribs tender nice smokey taste pulled pork vinegar based hint spice need sauce food cheap got ribs pulled pork dollars recommend bobbee os anyone everyone',\n",
       " 'wonderful staff kind us took care mother law fainted line ordering left tend staff one batted eye would recommend anyone special event',\n",
       " 'eating port subs since seriously never let quality sandwich pleasant service good price subway jimmy john jason deli firehouse jersey mike rest port subs slices meat order piles toppings recommend hot pastrami number one usual go sandwiches give try disappointed',\n",
       " 'good food good service good location friendly atmosphere sliders die great drink selection drunk pecan pie ice cream die',\n",
       " 'exceptional food service green curry pumpkin curry perfectly seasoned vegetables exactly right staff clearly takes great pride restaurant wait back',\n",
       " 'great food good portions customer service great quick come',\n",
       " 'back dozen times place never fails impress modeo quest nachos die like spice house habanero salas fantastic service friendly personable atmosphere lovely get well decorated amazing bar great beer list one favorite spots oscar server always great',\n",
       " 'went first time tonight chicken ribs spot staff extremely nice portions perfect size definitely coming back',\n",
       " 'wonderful dinner tonight glass wine glass fantastic bf prime rib special awesome shrimp cocktail soup salad prime rib side cheesecake blackened salmon lemon butter sauce favorite thing definitely go back highly recommend service stellar well entire restaurant restroom clean definitely back lot',\n",
       " 'better p f changs cheaper panda express love place try avoid high school teens around',\n",
       " 'fan huge pile whatever ordered fresh cut fries tangy coleslaw cheese tomato smooshed thick slices fresh italian bread something seriously wrong oh forget pair yuengling whole bunch cayenne pepper sauce also make sure say hi lefty appreciate',\n",
       " 'chicken soup soul best chicken tortilla soup nc comes cheese quesadillas low low price tons high quality food average low prices sons likes burritos husband soft tacos serves big basket chips two different types salsa ask third kind green hot good included gratis delicious big dipping bowl queso',\n",
       " 'place great family owned fresh fish amazing roll great prices',\n",
       " 'loved squid ink pasta saffron cream sauce pasta fresh cute little place awesome check give pound fresh pasta seemed like lot customers regulars waitresses knew name',\n",
       " 'yum great food friendly staff clean store wait short got go order dollars gyro side good price recommend',\n",
       " 'sat bar unsure get better impeccable service fantastic whisky collection food ray liotta tony soprano would brag chicken parmesan incredible cheers',\n",
       " 'coming boulders almost every saturday past two months everytime come bartender justin manager ben awesome service always also great place come late nights pizza wings',\n",
       " 'food flavorful service different restaurant works love food different tastes home made flavor sit outstanding little pricier breakfast joints worth give try',\n",
       " 'first yelp review never felt need review business time lost chanel wallet worth around called love sushi check maybe left told returned everything cannot explained happy best customer service ever thank love sushi awesome',\n",
       " 'best poutine ever prompt service excellent choice french beers next time montreal like think eat poutine somewhere else compare go back frite alors try different poutine make promise incredible',\n",
       " 'tops comes buffeting las vegas love frenchie affair mussels slices tender meaty goodness wide assortment cheeses bread options wanted steal cream sun dried tomatoes pasta recipe alas learned love something one must let go still counting days shall meet plus want muzzle hubby talks strawberry shortcake actually need get mood',\n",
       " 'love place unexpected find middle neighborhood miss cheese curds yummy brussel sprouts',\n",
       " 'nice break chains hade raspberry salad chicken great mom burger really enjoyed one favorites ahwatukee',\n",
       " 'yes great atmosphere great service nick took care person group killed custom orders separate checks whatever took care us guy earned tip doubt',\n",
       " 'best carolina bbq expert novice either pulled pork awesome great management wait staff make feel like family',\n",
       " 'super yummy food great service stands alone clean smoke free environment hard find vegas back',\n",
       " 'ahmazing best pizza ever totally worth waiting table busy oh loved red velvet cake yummy',\n",
       " 'restaurant terrific shrimp enchilada spicy right carnitas excellent kid friendly back',\n",
       " 'one annoying people never goes restaurant twice since moved charlotte year ago napa providence four times place provides amazing experience without fail time someone new town bring napa highly recommend nice evening make sure make reservations',\n",
       " 'great find midori recommended us new lunch spot others said calm serene atmosphere quiet music bento box lunch specials fantastic come salad miso soup rice entree tempura teriyaki salmon favorite sushi roll also great selection sushi sushi lunch specials special rolls typical japanese dinner dishes always great service never bad meal',\n",
       " 'family favorite beat happy hour specials service full meals beautiful restaurant amazing meals',\n",
       " 'great variety sushi friendly fast service large pieces squid calamari slightly pricey large portion sizes unique items like frog legs garlic clams located otherwise empty strip mall place full friday night overall great experience',\n",
       " 'amazing pizza skeptical due good reviews gave try glad ingredients fresh sauce delicious bread okay makes good delivery take long time minutes exact worth go one specials price stays low',\n",
       " 'best breakfast madison place bloody mary menu different varieties says excellent atmosphere ambience food although little pricey well worth service also good need get dinner breakfast good',\n",
       " 'awesome pozole try pozole dropped head infant make sure order side bread dipping amazing pozole juice handle heat use hot sauce champ go ham hot sauce stars bishes',\n",
       " 'like indian cuisine place go lamb chops appetizer amazing entree equally delish great service',\n",
       " 'stop taco bell every food tbs mean pretty tasty sets one apart service people working behind counter always friendly go way super helpful girl took order today even asked another customer would like suggestion food service establishments could take lessons treat customers',\n",
       " 'omg soooo delicious seriously yummy love cocos check place prices awesome staff friendly food sooo delicious moved fav list',\n",
       " 'favorite restaurant country coming years wife recently rehearsal dinner food great always service immaculate manager wait staff went way make sure everything went great highly recommend place anyone kansas city think charlie best ribs planet',\n",
       " 'great breakfast price everyone seemed enjoying four dollar bloody marys ok fresh lots friendly films great service definitely back lot',\n",
       " 'felt like paris really superb pistou soup french crepes fun touch nanou brought dishes intimate little east side restaurant shared space also excellent bon appetit',\n",
       " 'place perfect somehow accommodate family setting children typical scottsdale bar hopping crew time delicious food drinks unbelievable best bloody mary town',\n",
       " 'amazing amazing food dessert definitely homemade wait come back staff really helpful answering questions menu',\n",
       " 'big crape fan like whole wheat added nutella banana coffee good seems family owned place everyone nice strives make good consistent food coffe excellent',\n",
       " 'cool trendy place tasty food sandwiches small leave room amazing desserts',\n",
       " 'amazing recommended friend glad crawfish touff e amazzzzing bloody mary perfect spicy gumbo yummy garlic bread yummy great happy hour go wrong new regular spot',\n",
       " 'best kept secret gilbert much secret anymore friends family best italian food find thin crust pizzas really good recommended everyone perfect patio seating',\n",
       " 'wow place incredible incredibly tasty healthy dinner could possibly complain anything food delicious heavy service great wish lived town sure hope come cal soon',\n",
       " 'best gyro east valley twice staff super friendly food awesome worth drive stop disappointed',\n",
       " 'freaking amazing one pita wraps hidden gem inside lgbt center completely drove past cannot see outside signage recommendation signage outside building',\n",
       " 'love chick fil best servers come around refill drinks family events chicken great',\n",
       " 'place best drinks nutella iced mocha iced vanilla lavender mocha die love chocolate recommend iced nutella mocha environment urban chill would definitely come',\n",
       " 'place consistently excellent food always top notch escargo best vegas chicken saltimbocca best ever ate service second none place staple places eat',\n",
       " 'tomato soup grilled cheese start huge kobe burger finish sober finished soup drunk lol amazing place times thing time recently checked menu planning vegas trip dont tomato soup anymore',\n",
       " 'love place go week sign email club coupons friendly staff great food feel guilty pigging soup salad',\n",
       " 'joes best fried fish phoenix good prices feel get large amount food pay places charge arm leg joes gives go catfish best hushpuppies amazing well',\n",
       " 'third time eddie v time anniversary dinner could hoped better dinner enjoyable evening started drinks appetizers bar great oysters drinks moved dining room meal food wonderful service fantastic special evening plan make go place special occasions',\n",
       " 'really nice place clean everyone really nice busy came steady still got food pretty quick nice hot eggs done asked good great come place locals walk staff knows name chat even newbies like make everyone feel home',\n",
       " 'awesome place portion sizes decent service wonderful lunch special beat',\n",
       " 'even though place crowded service really great',\n",
       " 'great happy hour friendly staff food always point get early though get good spot patio',\n",
       " 'took daughters friends breakfast birthday carole ann waitress went way make visit awesome singing happy birthday youngest daughter recommending two younger one share meal soo much food thank return soon',\n",
       " 'great sushi fair prices staff amazing food consistently great amazing friendly bar staff kevin particular awesome go back almost weekly company refreshing drink menu sushi',\n",
       " 'steakhouse circus circus best steak family ever eaten never eat another steak disappointing comparison service impeccable miss already plan return next visit back las vegas',\n",
       " 'emilio awesome suggestions superb first timers last awesome juices juicer great breakfast wraps really loved place really nice able eat healthy change',\n",
       " 'glad fiance tried place soon came service great guy took order funny friendly even though went right closed pizza soo yummy crust thin crunchy love definitely returning thanks great stuff',\n",
       " 'hella food cocktail shrimps great many different kind food desserts great deal',\n",
       " 'regular restaurant south indian vouch great quality south indian food favourites venpongal vadai combo variety rice vegetable uthappam food decently priced delicious served quickly manager friendly willing serve though small restaurant ive never wait seated much ambience food makes',\n",
       " 'place always fancy dinner visiting vegas every lady receives rose seated always think taxi driver recommended place years ago otherwise may never heard gem salad cart always fun custom made salad sorbet cleanse palate always favorite',\n",
       " 'completely unfair china spice currently rating maybe distant past problems earned many times gone past two years food service exceptional quality ingredients perfectly cooked measures extremely nice clean environment far one could say chinese stand alone restaurants',\n",
       " 'arrived b lunch closing bolognese carbonara mac n cheese fresh delicious must visit phx service attentive prompt love',\n",
       " 'fried prawns pad see ew way seriously best mean best thai food us eaten lot thai food mannnnnn kill diet thank god live vegas cause would eat place business',\n",
       " 'always seasons superb trout excellent pork tenderloin best salmon wonderful tuna salad better rest try pineapple cosmo yum yum',\n",
       " 'great selection items good service everything tastes yummy get busy weekends especially many dimsum places closed worth wait love getting soybean milk fresh sweet tip many varietal teas specify ask fav chrysanthemum tea',\n",
       " 'customer service point hot dogs never million years would thought id paying hotdog man worth',\n",
       " 'best sushi mesa service incredible food fresh flavorful reasonably priced',\n",
       " 'paradise valley burger company hidden paradise great burger great contrast ingredients skilled chef create delicious looking burger wonderful blast pallet wonderful treat hamburger lovers treat everybody try',\n",
       " 'parents took friday night fish dinner expecting much fish great servings bigger would expect awesome service friendly fast place packed know',\n",
       " 'ordered taco kalua pig pulehu steak huli huli chicken soft corn tortilla oh god ono max kalua pig best though topped pineapple habanero sauce cheap gonna go back tomorrow go home',\n",
       " 'good food first time driver thru clerk recommended thousand island burger great',\n",
       " 'heard great reviews restaurant tried last night food amazing authentic spaghetti sauce meatballs fantastic son ordered cheese pizza say probably best pizza ever vegas service ok food makes definitely must try restaurant disappointed',\n",
       " 'great experience us dinner different dietary needs accommodated everyone john assistant manager called day make sure everyone menu needs correct service outstanding emily server making sure everyone happy great place special events truly great dining experience',\n",
       " 'loved place byob including boxed wine believe even corking fee fish day sounded stuck shrimp date pork chops spicy delicious back soon',\n",
       " 'expensive good let meat seafood selection best ever seen',\n",
       " 'trip amazing cook letting us sample flavors made choice place freshest interesting seafood dishes ever one best definitely arizona friend refer probably would never tried bec ause look like anything',\n",
       " 'food service fabulous real greek food back drawback enough seating long lines management well organized get fast possible worth wait',\n",
       " 'left comic convention decided check place awesome line long worth',\n",
       " 'regular regular regular one actually guys make best sandwiches town product fine dining quality sandwich form foodies like ultimate sandwich experience loyal goodwich',\n",
       " 'clean nice interior well staffed nice people environmentally friendly heat lamps patio food delicious causa last night made great breakfast today oh herbal lemonade sooo good definitely back',\n",
       " 'hot dogs amazing always go chicago dog extra celery salt fyi use natural casing dogs snap bite people swear people answer dilemma go skinless flavor none snap p close get early closed sunday p p close place big enough group grab friends give em call',\n",
       " 'great calzones grinders ashley beautiful gal east valley first time regulars dine order',\n",
       " 'never bad meal bad time cuban sandwich great usually one vegetarian entree menu dinner always delicious toast jam goat butter delicious sweet potato fries delicious everything delicious',\n",
       " 'dinner tapas soooo good lots good varieties food must try mac b cheese black bean burger sliders really cool environment well wait go back also reasonably priced',\n",
       " 'creative combinations good old cheese slice top quality concerned',\n",
       " 'awesome rolls awesome service waitresses friendly food fresh ask sushi tostada menu amazing favorite kimmy roll husband almost hot roll think name',\n",
       " 'great service toasted veggie sub special sauce soo good thanks brandi',\n",
       " 'friendly staff big portions food tasty could ask restaurant place great wait next time travel vegas try garlic bento box',\n",
       " 'eat indulge roof top bar good beer lovely view pittsburgh good times',\n",
       " 'visiting california one hardest catfish critics gone lie papajoe catfish point taste cookies wife coming back soon made us feel like home',\n",
       " 'sue official open date noticed open patently waiting jimmy johns area thank opening location food delivered minutes pretty damn good bread fresh toppings fresh sparse meats delicious ordered online cannot review customer service store setting',\n",
       " 'golden egg roll favorite chinese food place conveniently located street office making frequent lunch choice going years fried rice cannot beat crab puffs excellent sweet sour chicken overly fond salad though friends like egg rolls typically get meal',\n",
       " 'good came brunch lunch large group patio seating nice split kale salad really good chicken cranberries edamame tomatoes sliced almonds light lemon dressing pecos sandwich chicken cheese peppers good good groups people ordered breakfast really liked would definitely go back next time get mimosa',\n",
       " 'true hidden gem everything ordered die would highly recommend place everyone culinary student definitely kitchen would love even work experience amazing',\n",
       " 'sure else say place already said place legit lines long goes fast chicken always fresh go chicken best tried south far service top notch also south sure nice friendly place exception place eat coming back nc',\n",
       " 'friend family half polish place absolutely wonderful delicious food top market type items found traditional eastern european cooking buy love coming reminds heritage awesome food place pretty tiny food keep coming back bad really far away home would weekly basis',\n",
       " 'panang chicken bomb love recently renovated offer seating patio also good job delivering extra extra extra spicy spicy make requested wish delivered complaint',\n",
       " 'best smokehouses nation b dogs hang consistently good include sides beer selections',\n",
       " 'shrimp grits side salad delicious split plates share girl extra charge return',\n",
       " 'great food great service came last weekend sunday night realize closing evening owner opened door said please come sincerity ended deciding stay glad got egg rolls thai tea massaman curry fried rice delicious going back tonight',\n",
       " 'yum food authentic one best peruvian restaurants eaten service great one party eaten peruvian food everyone else lot questions waitress nice patient obviously took lot pride food serve particularly traditional food drinks place must try',\n",
       " 'drive across town las palmas tacos grocery store possible ding always pork tacos amazing barbacoa always available though almost good tip found today pay tacos inside credit card low cash mark receipt show outside',\n",
       " 'judge book cover cactus jack saloon clean inside staffed wonderful friendly people bartender makes mean bloody mary mo pizza greek salad something write home',\n",
       " 'place great although prefer entrees mynt indian bistro absolutely loved tea appetizers soup would completely love go back second time feel like entrees little pricey size tell use quality ingredients',\n",
       " 'love emerald isle choose car want get one choice rental companies brand new impala miles clean filled easy leave terminal upon return rushing receipt handed us one minute great service',\n",
       " 'oh love thee n unfortunately long distance working well us head heels smitten refuse make move need midwest need yet apart passion grows double double cheese animal style animal style fries vanilla shake still heart fin',\n",
       " 'wonderful lunch surprise modern space skillfully appointed staff knows menu including sources ingredients preparation portions generous two three selections enough two three people hope long prosperous presence pittsburgh dining scene',\n",
       " 'excellent tasting devils mess flash wash well loved cooking shows food fresh delicious definitely must go right portions',\n",
       " 'recommend yellow curry pad thai steamed dumplings best delicious service great seems lot thai restaurants around town taste place unique taste puts top list',\n",
       " 'mandy nikki awesome love service food back pad thai world',\n",
       " 'cant tell great place seriously grew dc place everywhere rightfully atmosphere fun quick puts rest hope tempe getting one please',\n",
       " 'great food breakfast day highly recommend place versatile menu something everyone',\n",
       " 'n really live mission purpose statement n uses freshest ingredients spotless sparkling enviroment customer service knocks everybody socks amount food get price amazing much cheaper golden arch place',\n",
       " 'wife ate amazing lunch rarely write reviews felt place worth noting portions big food delicious definitely back',\n",
       " 'best sushi vegas expensive fish always fresh staff great',\n",
       " 'love place always friendly helpful love happy hours never bad meal',\n",
       " 'first time coming great experience little hesitant polish cuisine food delicious service excellent explained menu well please give place try outstanding',\n",
       " 'walked place like moving quickly service good food good people nice come back area msg like',\n",
       " 'great meeting friends quick sit arrive meal good mexican healthy choices best chimichangas town plenty mexican beer tequila mixed drinks wait staff never disappointed us visit week',\n",
       " 'truly one best restaurants canada notkins unique architecture friendly staff quality montreal place dine oysters must',\n",
       " 'love favorite local coffee shop shea everything amazing cocktails coffee food service recommend calling ahead going go drive lavender white mocha favorite coffee drink highly recommend never must try',\n",
       " 'pleased level service cuisine breakfast dinner prado usually husband stay resort food match quality hotel prado huge win us everything ordered wonderful service exceptional well',\n",
       " 'love place bbq jalape honey chicken wings fajitas favorite also margaritas best love come saturday great place dancing great music awesome dj',\n",
       " 'definitely best burgers city madison pass gem coming since fifties nicely remodeled bar area got go tony franks',\n",
       " 'chicken waffles chicken brined days pan seared finally roasted hours served light tangy mushroom vegetable sauce next quarter waffles infused bacon chives optional vanilla bean whipped butter sweet honey syrup would eat',\n",
       " 'times love grilled fried chicken sides plantains yuca fries exceptional expect wait takeout fast food tastes better fast food',\n",
       " 'great service happy hour specials deal pass every day week new special multiple tv different sport games going must try zipparita',\n",
       " 'let preface comments star rating based best class eatery white table establishment rather hole n wall red white checked table cloth kinda place rate food star unique mole sauce enchiladas unique everyday experience average bill person take credit cards prefer cash bottom line great food quality prices',\n",
       " 'place amazing came happy hour sat right away everything ordered delicious got pork belly bulgogi cream cheese tons fried calamari one best experiences vegas also try ginger soju cocktail',\n",
       " 'absolutely one best burgers ever food fresh delicious tried spicy fries enjoyed chilli well service exceptional highly recommend burger de ville jarry street montreal',\n",
       " 'heart ticoz sangria mojitos shrimp tacos nuff said',\n",
       " 'say absolutely love place actually waitress back left moved back los angeles california yet found place good kabutos benihanas yet still kabutos level would really love see kabutos think might take flight north carolina kabutos great owners staff try shrimp sauce rice best',\n",
       " 'remember good reasonable prices maybe ten tables small staff seemed like cook could seen tables hostess waitress owner could long wait full bring good company liked fact portions right size rather way large many places',\n",
       " 'place awesome food delicious prices reasonable twice days',\n",
       " 'ok get hype really enjoyed lunch everyone friendly nice seems like healthy meal option well made perfectly seasoned try options',\n",
       " 'best thai food ever hands mean lick plate good tried several items menu keep coming back yellow curry thai fried rice like spicy food find medium setting right son orders triple thai hot loves service good price value good seriously excellent meal every time',\n",
       " 'absolutely love place bread oil balsamic vinegar good salads enormous delicious best calzones town well able go get salad calzone tiramisu split boyfriend get away definitely recommend place anyone wanting really nice italian meal casual restaurant really cool atmosphere one places crave next day',\n",
       " 'checked place friend mine great food cocktails make sure get reservation might able get able snag seat bar without reservation though great food',\n",
       " 'man little taste home eastern nc like another reviewer said clean pulled pork probably best years great eastern carolina sauce cucumber onion salad delicious brunswick stew hair awesome simple styro plates cups plastic spoons etc affordable lunch special plate sides flat',\n",
       " 'staff service nicer great steak prices incredible free steak dinner state id located hooters casino',\n",
       " 'vegas strip around fremont vacation place awesome snack drink scorpion shot awesome place would kill texas im san antonio ever want expand outside nevada ill invest legit place come staff awesome well bartender quick friendly server really cool spot every time come come vegas lot',\n",
       " 'happened upon place vacation wanted bbq google best las vegas bbq place hole wall food soooooo good sauces really good loved ribs macc cheese greens would definitely recommend anyone',\n",
       " 'favorite place cheat days fresh fruit chicken strips everyone loves chick fil staff awesome friendly busy lunch rushes even people outside taking orders speed things along awesome customer service',\n",
       " 'oh good grab table chair bar eat small ramen restaurant like ones find japan noodles broth excellent get bowl ramen choose one pork broth way better light tasting chicken broth great strip lunch worth drive get know hit place',\n",
       " 'really great pizza lower prices local places great food hole wall',\n",
       " 'first time cocoa amazing brownie volcano vanilla ice cream world loved everything brownie moist rich ice cream creamy also cappuccino loved',\n",
       " 'ginormous portions excellent tasty food hh original eggs benny busy restaurant great service',\n",
       " 'vietnamese crepe huge delicious vietnamese pad thai unique delicious saigon nites shrimp fried rice perfect beef vermicelli dry tasted great thai iced tea homemade calamari appetizer perfectly made service professional friendly',\n",
       " 'server personable knowledgable spots go around town chinese ckn salad perfect light sweet husband prime rib dip loves nice craft beer selection',\n",
       " 'seated immediately courteous staff excellent service perfect special event nice meal pizza loaded back',\n",
       " 'several different cafe rios california utah one exception food point delicious got pork salad queso chips today amazing love make quesadillas kids free right coupon buy one get one free salad burrito end month find online',\n",
       " 'love everything place especially love make pizza right front ingredients fresh really go wrong choices owner passionate pizza thrives customer satisfaction makes happy coming back',\n",
       " 'delicious love crave get fried rice get medium hot good',\n",
       " 'love location staff friendly know want cashier would really help choose outside seating clean along interior got california club sandwich strait delicious wait try breakfast',\n",
       " 'location fairly new first zupa ever people efficient smiling food great favorite strawberry salad lobster bisque ur lucky get bottom pot chunks yum great thing meal comes chocolate covered strawberry issue combo meal',\n",
       " 'aaaaaaaamaaaazing said delectable dessert place toasted smores table another occasion black white waffle yum yum n uff said go try sure make reservations gets really crowded',\n",
       " 'favorite buffet sunday morning brunch best could beat mimosa join rewards program get discounts everytime come time favorite dessert located banana bread carmelized syrup sooooo amazing',\n",
       " 'realy enjoyed food service atmosphere wife sandwiches use quality ingredients liberty market return',\n",
       " 'favorite italian restaurant vegas love clams oreganata service always great',\n",
       " 'fresh flavorful good portions tell food made order quality ingredients fancy place food',\n",
       " 'recently turned pane bianco pervious chef used work brought us market sandwich love first bite hooked freshly made food atmosphere service top notch dinner forget simple clean delicious',\n",
       " 'wow great local find noticed little place going months ago twice two days food super fresh salsas great carne asada point chicken tender authentic mexican street tacos gorditas try disappoint',\n",
       " 'thai food different thai food always busy eventhough price food expensive staff friendly helpful love interior inside classic surrounded many wine bottles highly recommend visitors',\n",
       " 'sarah waitress awesome friendly smiling gave suggestions honest patient us struggled make decision get food choices drink choices refreshingly overwhelming food good place want bring whole bunch friends admit never expected ever see pairing case point peanut butter burger',\n",
       " 'love onion rings also ribs fries appetizer quite often people really friendly happy put game one tv watch kansas city royals time',\n",
       " 'picked restaurant based reviews loved mac cheese incredible guinea fowl pork belly waitress owner super friendly best meal trip',\n",
       " 'attended grand opening hibachi buffet mesa arizona started march th third customer enter restaurant try delicious luncheon buffet wide variety chinese japanese mongolian mexican american dishes delicious deserts buddies completely satisfied lunch cost per person dinner cost person adding tea sodas meal cost',\n",
       " 'amazing little bit chicago valley always look authentic chicago style pizza johnnie delivered great experience everyone super friendly pizza heavenly sweet sauce square cut crispy thin crust absolutely back soon try sausage next time',\n",
       " 'food delicious girl behind counter super friendly place clean little beaten path strip completely worth thank delicious food',\n",
       " 'great place go want real carne asada hot grill outside closest authentic mexican food area',\n",
       " 'place solid food seriously good staff professional well moment walked knew place going good touristy mostly locals look like know tourists know way overall good vibe au petit extra met went beyond expectations dare say dinner companions impressed killer food instinct chosen place would love go back',\n",
       " 'drinks snacks tonight absolutely fantastic cocktails top notch bourbon list extensive even though crazy busy able snag table problem service friendly despite insanely busy saturday night rice cake one creative dishes long time mac cheese delicious well go immediately',\n",
       " 'superb service thanks xavier ramon sure server assistant name great well thank making anniversary unforgettable atmosphere food food timing point always recommend place ramon serve well wait come back',\n",
       " 'best bbq chicken pizza ever definitely must small place tables mainly takeout check',\n",
       " 'love place norm accommodating food good prices crazy want anything ask',\n",
       " 'rare one recalls sandwich five months eaten place made excellent rolls get started great seasoning superior meats made feel like back burg trenton one little italian places friendly staff well',\n",
       " 'food delicious id definitely recommend service caring friendly definitely come back',\n",
       " 'takamatsu staple years instead choose sushi korean bbq nights craved takamatsu spoiled would always get kalbi sushi yukgaejang anything good table always loaded banchan main dishes staff years awesome best korean bbq phoenix',\n",
       " 'came eat korean food blown away good ordered many different types meat tender good place uses real good quality meat another awesome thing place service staff comes service jin awesome giving us best service possible definitely coming everytime come vegas',\n",
       " 'thought food tasty prices reasonable nice bar area girls working helpful nice perfect addition queen creek area back try food items menu',\n",
       " 'place rocks service food great yelpers clueless james bartender man made worth stop',\n",
       " 'extremely weary eating italian restaurants many places dont well nothing disappointing getting pasta dish done poorly place favorite restaurant vegas spaghetti worth polenta good although overpriced duck ravioli good almost everything menu good service good nice setting would come back many times',\n",
       " 'love burger person love husband happy see expanded west valley love fries also silly sounds soda machine awesome',\n",
       " 'first time lady zin burger dang amazing gorged delicious ringer burger enjoyed plain simple jalape also really good zucchini fries must say definitely worth burger back sure',\n",
       " 'absolutely love place happy hour menu awesome love tuna tartare great martinis service excellent son loves staff always come say hi would recommend friends family',\n",
       " 'friends brought early saturday morning happy restaurant literally house quickly feel like home staff amazing food got breakfast poutine amazing omelette huge',\n",
       " 'best sushi ate years match love service simple design vibe real cool saki saki saki',\n",
       " 'came crowded sunday morning wait minutes service karla phenomenal refilled iced tea x without needing ask waffles whipped cream blueberries best part link sausage perfect amount flavoring definitely return egg next vegas trip',\n",
       " 'yes place fantastic really good food probably favorite mexican city guacamole righteous would recommend also carne asada burrito cowabunga',\n",
       " 'first service unmatched wife town barrett jackson auction close friend reccommened place robert treated us like close friends two hours spent absolute bliss felt like family food incredible breadef oysters beet salad slow roasted pork shoulder carnitas die dont forget mac n cheese another planet back',\n",
       " 'enjoyed delicious dinner wait come enjoy lunch buffet chicken tikka fabulous chicken kadhai okra masala delicious suggest give kashmiri naan try die',\n",
       " 'new favorite spot happy hour casual dining friends family love atmosphere food incredible tried dozen different menu items impressed every single one',\n",
       " 'say anymore good things place already said list couple must eats go garlic chicken gizzard beef tataki tuna tataki tempura eel kakiage roll black cod grilled squid octopus cucumber seaweed salad name',\n",
       " 'come pretty often food always great happy hour specials awesome cent tacos cheap drinks good service',\n",
       " 'good food great service big portions shared andy sage fried chicken benedict husband even finish',\n",
       " 'definitely top choice visiting montreal gay village friends make least one visit trip brunch die champagne cocktail menu flavors never expected white cranberry mimosa get enough delicious staff always friendly bilingual back soon',\n",
       " 'went breakfast service food good wife loved omelet pancakes bacon washed good fresh coffee clean small quick freindly service tell people want please customers live area look forward returning',\n",
       " 'duce fuckin rad make best screwdriver screwdrivers typically boring urge get one bomb goddamn bomb times always great time great desserts great drinks reviews say got shitty service always great service ordered shot one time girlfriend bunch left got quite bit free booze',\n",
       " 'great selections chinese desserts tapioca tea',\n",
       " 'like food especially like sandwiches cheap yet delicious even buy get deal basically ate whole day bun bo hui little spicy stop eating service also superb accommodate needs definitely place stop least',\n",
       " 'came breakfast work amazing egg white omlette much needed coffee listening janis joplin playing perfect start day',\n",
       " 'love food love service place awesome favorite coffee cake',\n",
       " 'space laid little weird caesar salad square slice pizza delicious beyond expectation specially total definitely try come back recommend try friendly fast check food',\n",
       " 'beat food wonderful friendly waitstaff prices low cheaper eat home cod dinner last night liver onions fantastic eaten least times never bad meal',\n",
       " 'love love love carver burger waffle fries stuffed poblano amazing always get skinny strawberry margarita craft beer selection always changing delicious little bit everything satisfy palate desserts pretty bomb oh service always point especially closest bar top',\n",
       " 'eaten times service great food great meatloaf sandwich amazing',\n",
       " 'need start saying place best micheladas ever great hangovers start night seafood top notch different tomatillo sauce serve various dishes awesome give chance looking seafood spot',\n",
       " 'place amazing exactly look want eat wonderful family owned place stromboli dough light baked perfection tomato sauce like grandmother sauce lovely owners well going back friday people order pizzas wait',\n",
       " 'great pizza even better customer service owner nice employee pizza delicious giant sized toppings crunchy chewy crust great sauce definitely going back',\n",
       " 'place fantastic great prices amazing food obviously town craving thai food like crazy mom shared mixed veggies chicken got pork fried rice one best rices ever awesome customer service',\n",
       " 'absolutely delicious fun spin italian cuisine nice leave italian meal feel full highly suggest chicken liver lamb ragu scallop crudo blue cheese gnocchi atmosphere modern cozy young lots energy try get table near windows outside watch water show best view bellagio fountains',\n",
       " 'good service good pizza options shawarma falafel pita mood something else',\n",
       " 'could better sure everything perfect jess server excellent th time good previous',\n",
       " 'place best gyros around business long always supply good tasting gyros fries lunch dinner',\n",
       " 'always count tasty coal brick oven pizza like add extra fresh basil thin crast pizza great flavor',\n",
       " 'server nice pleasant demenor nice morning busy food fantastic got protein omlet hubby got egg scramble ground beef beans corn sure name picture attached also really good defiantly back try entrees wine',\n",
       " 'beautiful views great place enjoy dinner someone special even group people also great place go drinks views breathtaking',\n",
       " 'love ambience coffee drink calm place relax unwind pictures attached',\n",
       " 'eaten lot indian food server gave great suggestions plus cook even came explained nutritional benefits gracious staff amazing food try chili gobi',\n",
       " 'plain good great food service get better group friends family went friends lea birthday perfect place cowboy steak amazing loved sweet potato yum',\n",
       " 'currently searching apartments charlotte stopped breakfast definitely best homemade breakfast everything tasted fresh hot found spot frequenting move months pancakes die mouthwatering cappuccino beyond delicious everyone super friendly expensive love love love',\n",
       " 'traveled lot many excellent dining experiences never great passion food fabulous atmosphere perfect romantic dinner get together friends paring tastes course exquisite yet subtle allowing experience bite need added must list',\n",
       " 'good pizza good wings gluten free pizza surprisingly good like staff service good awesome',\n",
       " 'gave stars customer service excellent met owner provided great customer service far food steak order medium rare good',\n",
       " 'family go place chinese food take miss east coast chinese food closest find phoenix area',\n",
       " 'walked place immediate attention friend requested sit small nook obviously friends fellow ethiopians problem cool cow hide seating queen sheba combo lamb delicious well everything else dinner sat side room hookah lounge great way finish night pleasant service people going new go spot immediately thank',\n",
       " 'okay first let say going dream refeshing wine coolers make back phoenix service great music environment right alley burrata olive oil appetizer pizza dates augula everything fantastic believe restaurant group provided us postino said already know love place',\n",
       " 'gabe great bartender management fantastic food point definitely back thanks crave',\n",
       " 'great lunch dinner food great affordable sit dine easy take order never bad meal garlic perfect phone order john tell minute available pickup',\n",
       " 'boyfriend really wanted try place since sushi good last time service amazing time everyone friendly everything came timely manner new sushi spot everything delicious really liked nacho daddy spicy delicious',\n",
       " 'stopped breakfast family morning asked wait staff candle celebrate daughter birthday said would try ordered caramel apple french toast two breakfast sandwich breakfast sandwich savory scone breakfast bun everything excellent biscuits great think order french toast next time oh thanks candle back',\n",
       " 'staff incredibly friendly helpful food tasted heavenly facilities spotless really liked place',\n",
       " 'absolute winner long wait breakfast saturday worry bloody mary stand waiting area one best bloody marys tasty comfort food watch portion sizes people could happily share chicken waffles worth visit vegas',\n",
       " 'love place food always excellent service always suggest restaurant whenever family visiting town never disappointed restaurant food portions big atmosphere good kid friendly place might say bit pricey well worth really recommend restaurant five start worthy',\n",
       " 'fabulous find montr al freshest seafood found served hospitable staff sit bar enjoy amazing presentations created oyster shuckers something found restaurant restraunt either design building artwork must see montr al',\n",
       " 'hidden jewell small intimate sushi restaurant well strip nevertheless best sushi experience eaten masa new york paid times paid last saturday night fish pacing service creativity charts listen gals work take follow advice',\n",
       " 'went thru drive thru dinnertime fast efficient dallas assisted making suggestion asked question go cup order went suggestion went chicken strips wedges excellent value definitely back',\n",
       " 'best waitress ramona efficient personable goes beyond customers please ask disappointed',\n",
       " 'adorable neighbourhood grocer complete organic milk glass bottles love boutique feel open vaulted cafe back food shopping time dig organic homegrown riches',\n",
       " 'order ahead place small kind hidden went lunch without ordering ahead huge mistake call ahead place order love pitaya bowl acai bowl healthy delicious treats try one juices ive liver cleanse roots fruits cold buster liver cleanse yummy good',\n",
       " 'reading great reviews place came try well disappointed love pizza dough one best salads romana pere prosciutto pizzas emilia capricciosa crused tomatoes sorendo mixed drink tiramisou nuttela banana pizza service place clean experience outstanding know back',\n",
       " 'awesome awesome happy hour long great selection drinks great vibe food really good zucchini poppers average queso carne great blt def returning',\n",
       " 'excellent quality food great service great price black beans rice perfectly prepared hand made tortillas incredible',\n",
       " 'go place strip amazing food amazing service must hakka fried rice pot',\n",
       " 'omg seriously everyone needs get effing calorie ish effing cares cookies calories listed yelp rate quality food service food amazing desserts amazing plain simple get highly recommend food',\n",
       " 'popped saturday quick lunch turned outstanding decision good selection everything fresh dessert amazing definitely back often',\n",
       " 'attended gertrude botanical garden number times must admit food wonderful many times tried food restaurants everything amazing chefs cooks blend seasons flavors well service staff friendly knowledgable menu drinks food back sooner later thank wonderful dining experience',\n",
       " 'seafood gumbo r words utter right yes back pick order go pm generous w crab lobster lovin',\n",
       " 'service incredible cod basket pretty standard really like fish know make sauces cocktail sauce soooo good seriously though every time someone walked table would ask even table really really enjoyed environment',\n",
       " 'place awesome food fantastic mr biaggio nicest man ever husband decided pizzeria wish go future tried several pies delicious garlic knots amazing antipasto salad quality food service make pizza joint book',\n",
       " 'top joints go good happy hour good environment excellent food great price',\n",
       " 'pho dip say great flavor soup au jus amazing also smother fries taste pallet frenzy',\n",
       " 'great food awesome drinks staff always great',\n",
       " 'peace mind knowing organic always open love',\n",
       " 'kelli awesome food came perfect absolutely delicious usually get chile relleno omelet country fried steak skillet mike got corned beef hash also really good wen checked yelp got free muffin great staff super friendly helpful comes needing anything definitely coming back',\n",
       " 'french toast brainer insane tip get one slice added omelette plenty like eating dessert breakfast rich spend extra real maple syrup five egg white omelette pleasantly surprised light fluffy oatmeal bananas pecans nice selection toppings fresh squeezed oj rarity full range decadently delicious fried french toast perfectly made egg white omelette',\n",
       " 'first food first rate split grouper bites vagabond burger wife highland gaelic complain finally service excellent albeit monday night place pretty busy bartender gave wife overage buttery nipple cruzan rum cocktails vacation virgin islands compliments bar manager way better bacardi',\n",
       " 'chef berry one americas greatest chefs everything perfect perfectly consistent last years dining trips vegas staff amazing wine selection stellar steaks perfect sides glorious dessert makes say get dreams car',\n",
       " 'place best tacos vegas far finally place real meat authentic mexican food looking drinks vegas scene go strip want great food great service nice hole wall place everything tasted home made mexican food choice every time vegas',\n",
       " 'best steakhouse town huge fan ribeye prime rib last time ordered oz chef center cut far best steak compared bone filet ribeye also great cuts finished butter cake usual never disappointed food service always number list comes special occasions',\n",
       " 'order mushrooms moussaka lamb tagine janapolitan cocktail duck bastille panacotta dessert amazing restaurant business since kid place good janapolitan best cocktail ever life unbelievably fresh sugary',\n",
       " 'wait worth menu huge lots new fun items inside quesadilla yummy beer good fantastic stir fries awesome enjoyed everything',\n",
       " 'absolute favorite thai place lv better lotus siam krung archie nittanyas kitchen everything fresh flavorful great modern spin thai even though classic thai dishes great everything actually taste like thai places everything tastes prices super reasonable quality food service great extensive wine list love fact open late',\n",
       " 'burrito enchilada style huge amazing definitely coming back regular basis',\n",
       " 'read reviews notice frequent ny lot closest thing vegas going find ny pizza henderson locals argue settebello grimaldi top pizza settebello unique great grimaldi similar lombardi ny grimaldi ny come close maintaining ny quality miles away ny close get southern nevada',\n",
       " 'excellent bread delicious menu genuine customer service love',\n",
       " 'great atmosphere good service salmon salad amazing good combination ingredients good option airport meals',\n",
       " 'oh god frickin amazing great pizza great garlic bread get combo platter try waitress went way help us find chocolate cake see wow great dinner',\n",
       " 'best indian food ever tasty refined type indian food full try dessert see good main dish smart decision cheap definitely worth',\n",
       " 'bomb burger good tasted fresh hate say better n fries great definitely coming back next time crave burger ice cream burgers one stop',\n",
       " 'went dinner new year eve smily pint sized waitress lovely attentive friendly realised waiting quite food apologised profusely gave us discount bill haggis tower yum service sister restaurant bank st also great',\n",
       " 'love love love lgo ingo food service ton indoor seating summer better go night burgers ohmygosh wow highly recommend well everything',\n",
       " 'loved good nice layback place definitely coming back thank u',\n",
       " 'th time visited location definitely sweet spot area great service food entertainment ladies super cold beer',\n",
       " 'blonde bombshell rustica xtra crispy minus mushrooms add onions garlic must try one reasons crust weekly staple another recommendation ask meatball sliders yum buratta yes',\n",
       " 'nice spot dinner smoked pork chop simply delicious potatoes amazing horseradish gives nice kick macaroni cheese great well rich serve macaroni standing creamy sauce bottom cheese looks like melted torch top great presentations',\n",
       " 'one best meals long time loved thai basil margarita thai basil story fry hot level nicholas friendly attentive go hidden gem back strip center p herb garden front use drinks dishes',\n",
       " 'amazing hard beat earl sandwiches original first time great tender meat lightly toasted crunchy bread right amount condiments order understand',\n",
       " 'love love love barriques sandwiches soups delicious coffee always stupendous never bad experience pick late afternoon people stop afternoon pick otherwise good place get work done',\n",
       " 'stars customer service drink prices try food drinks delicious',\n",
       " 'ninja true heaven earth eat sushi yes please wife dine ninja month staff incredibly friendly dining area always clean sushi absolutely delicious pricing awesome eat often order hipster roll boston roll gringo roll phenomenal food highly recommend ninja sushi whore tons rolls choose one disappointing get ya',\n",
       " 'interesting place directly across street red rock casino like avoid eating casinos hotels possible quality pricing usually good sought place disappointed ate twice last two days beer appetizers great food pleasant atmosphere highly recommend',\n",
       " 'great authentic mexican food reasonable price beef cheese enchiladas rice beans excellent',\n",
       " 'great family owned restaurant really enjoyed food location also great come couple times month lunch love',\n",
       " 'awesome awesome food great service nick accommodating always gracious thank great food service',\n",
       " 'small place big taste fast friendly service everything tried delicious green chili homemade flour tortilla amazing chicken quesadilla supreme humongous could feed tacos tuesdays skip chain support family owned operated restaurant bad live michigan dreaming tortilla chips guacamole come back arizona place disappoint',\n",
       " 'stars st time tried lunch general chicken fried rice looking right spice chinese food found return newly preg belly allows pleased found awesome place plus great yelp reviews',\n",
       " 'one thing get bj eat bbq beef ribs planning getting anything else disregard review sorts rib joints phoenix nothing beats classic bj vanburen comes bbq beef ribs get eat tender hell tasty ribs usually top one oz special beers love place',\n",
       " 'everything excellent flavorful right amount spice everything highly recommend papaya salad curry service great glad found good thai restaurant east valley kiddo enjoyed egg rolls squid appetizer atmosphere good well',\n",
       " 'oh gosh love live right road bad decision us make going become poor everyday got bears choice pancakes bacon delicious steven got country fried steak delicious forget get orange juice amazing wait go back excellent service well',\n",
       " 'went dinner friend saturday night sat beautifully quaint terrace best fried oysters long time crab cakes say superb mains shrimp grits mouth watering top best wait staff anywhere overall great dinner experience',\n",
       " 'food great servers great especially tamara service fast favorite breakfast place phoenix',\n",
       " 'good mix fast food restaurant atmosphere employees extremely nice pleasant eat good real juicy burgers taste fresh get bit messy nice change pace burger world',\n",
       " 'love wings try combo sandwich italian beef sausage good',\n",
       " 'mmmm love place mouth waters thinking pollo aglio marinara sauce goat cheese mmm love huge booths went double date last time lot fun forget check downstairs wine cellar tied king street tutto best downtown italian wait changed mind porta bella definitely wins stars',\n",
       " 'say enough place waking distance plus well staff always attentive friendly enjoyed brunch several occasions well lunch great local privately owned business get good inexpensive meal head manor theater flick thanks ladies',\n",
       " 'staff friendly cares lot customers food good lot flavor wait bad thing even long definitely coming back',\n",
       " 'quarter chicken lunch menu best chicken ever well cooked moist also tried cream soda great',\n",
       " 'place still new clean love atmosphere food great definitely traded davang place prices maybe dollar davang mind place clean service decor better even sell boba smoothies',\n",
       " 'food amazing seabass ribeye die yum yum seabass fishy cooked perfectly ribeye best yum yum husband shared dishes also agreed also salads caesar bad best ok mediterranean salad superb better caesar jordan server bar great fantastic customer service overall great food great times',\n",
       " 'brian staff hands best find anywhere food always fresh delicious served timely everyone polite professional pleasant atmosphere fun upbeat like one would expect pizzeria looking go pizza place n scottsdale brian staff treat right lance sammi',\n",
       " 'favourite pastry shop montreal desserts true quality delicious overly rich owner nice helpful must try',\n",
       " 'everything ever betty amazing live food drinks service angry shrimp mushroom favorite also love mushroom soup best life',\n",
       " 'love sweet potato fries chicken strips jalape cheese dip omg must try wait staff really nice prices great',\n",
       " 'went th birthday large patio table great choice ambiance amazing food good server tana also engaging great conversation like part table party dinner visited basement bar found cozy inviting excellent restaurant back',\n",
       " 'loved place food service heat lovers try edamame everything pleasant surprise love surprises like recommended place many',\n",
       " 'wow seriously good pizza often eat pizza place legit great thin crust cripsy full toppings came quick bite heading night last visit vegas small joint great delicious selections pizza highly recommend giving place try',\n",
       " 'based price alone think find better deal anywhere brunch buffet like',\n",
       " 'love place pretty sure recognized regulars happy hour margaritas app specials open quite often waiting door great margaritas nice tequila selection neat pours texas torpedoes great tried brunch missing stop make sure someone group orders awesome eldorado french toast someone else gets machaca pork burrito disappointed',\n",
       " 'review food place service first order please make sure try chicken alfredo pizza well chicken cordon bleu pizza constantly ordered pizza past years ordered nothing two never disappoint yummyyy could never find pizza place even close glass nickel oh chicken wings pretty good',\n",
       " 'back food great service superb wife always request yolanda sweetheart always gives us best service one bad thing women bathroom closed walk across whole restaurant use bathroom awesome yolanda always mentions yelp ya go',\n",
       " 'excellent picture milan wall food wine superb pricy oddly mushroom soup really good',\n",
       " 'went first time recently moving area recommended server beer burger combo go wrong got wineberger ghost pepper jack cheese one best burgers ever coors banquet beer tap cold smooth food great definitely coming back glad within walking distance',\n",
       " 'good food good service consistent whole family eat great food good time',\n",
       " 'girlfriend go vegas twice year family reunion us regardless reason time go slice vegas become tradition us vegan attest amazing selection vegan friendly menu items absolute favorite bbq chicken pizza course vegan chocolate cake vegetarian girlfriend loves pasta mac n cheese place absolute must',\n",
       " 'compared boiling crab great location great sauce fresh seafoods ordered one pound shrimp snow crab leg fresh juicy well cooked give try another hot n juice location tomorrow one minus environment good problem compared awful experience boiling crab lv',\n",
       " 'authentic grocery deli restaurant great staff best philly cheese',\n",
       " 'wonderful outdoor atmosphere beautiful gardens delicious food gluten free friendly definite must summertime hard believe city never ate anything menue love',\n",
       " 'tiger roll good crab truffle fried rice amazing best fried rice ever',\n",
       " 'best chinese side town hands food pleasantly delightful overly greasy put layers upon layers batter little meat like places customer service great actually serve including pouring soup bowl continue come chinese food fix',\n",
       " 'came reviews yelp real picky trying new places fresh delicious friendly peeps clean return',\n",
       " 'miko favorite locals spot owners greg miko genuinely care guests food consistently excellent super fresh fish secretly call cheers everyone knows name staff guests alike',\n",
       " 'fried calamari appetizer beef pho seafood pad thai great staff super friendly took time explain dishes us make recommendations even helped make sauce pho highly recommend place wished lived town go every week',\n",
       " 'paradise fave pizza time chandler made opening day got margarita pizza know pizza inside',\n",
       " 'place legit husband got gyro plates go got home surprised amount food reasonable price best gyros anywhere also threw free baklava said never tried definitely back',\n",
       " 'mini crab cakes pure deliciousness creamy crab dip perfectly cooked seared salmon angel hair pasta beautiful meal great service family atmosphere highly recommend get seafood fix',\n",
       " 'understand place low rating tried place monday week craving ever since bf steak eggs thumbs fetuccini alfredo also thumbs shared black truffle french fries insanely delicious one places strip open late dinner super glad chose',\n",
       " 'get cheese infused crimped patties hangover burger thank later',\n",
       " 'star crystal good service really kind enjoyed food service comeback sure',\n",
       " 'first time great surprised sizes freshness make pretty good salad even price bad everything get stingy stuff busy manager idk name also making salads n helping staff come back loved salmon salad',\n",
       " 'starving lunch found yelp cute inside food gourmet end mexican applewood smoked meats loved food homemade great plate presentation yummy chef came table ordered explain many items unavailable matter combo chile relleno steak enchilada chef made lamb burrito partner agreed best mexican found long time',\n",
       " 'incredible beet burger wrapped mine butter lettuce wrap cousin loved carrot soup everything perfect especially wonderful staff thanks melissa',\n",
       " 'tried many sweet rolls never disappointed favorites green tea bun larger bun almonds top cream strip middle everything tastes fresh sweet bubble tea also great favorites mango lavender staff always super friendly never busy',\n",
       " 'quickly become one favorites absolute best kids menu town amazing serve good kids food fried phenomenal asparagus kids love thank see us soon',\n",
       " 'eat great restaurants mastros often place great steak cooked perfectly customer service good going back',\n",
       " 'one best breakfast burritos az simple drive thru place simple menu',\n",
       " 'first tortillas life went ordered chicken tacos rice beans side course let say silent entire time much enjoyed food said tortillas amazing meat perfectly juicy feel overall restaurant great played good music clean positive atmosphere bright colors everywhere',\n",
       " 'incredible brunch breakfast croissant breakfast devilishly delicious wish could eat every day summerlin area need good solid breakfast gotta check',\n",
       " 'love place good guam food red rice bomb grill chicken plate delicious price fair restaurant cozy comfortable employees friendly would definitely go need make one side town keep making good food',\n",
       " 'hosted private event yesterday everything beyond expectations decorated crafted specialty soda drinks let us jam tunes patio absolutely perfect event girls loved every minute',\n",
       " 'pizza excellent service fast good time convenient open til well',\n",
       " 'freakin loved experience fantastic hostess servers super knowledgeable food delicious would totally recommend place cubano torta split half share friend enough sure',\n",
       " 'always great went drinks decided eat bar quick convenient leslie server sharp gets quick delicious chips salsa kept coming everything spot macayos consistent reasonably priced wife tried new texas margarita loved yum another great time macayos',\n",
       " 'wow excellent food service fast large group surprised able serve us quickly definitely back',\n",
       " 'great place ramen sushi great couple run place several times time treat evening izakaya style menu hard get phx harder right nsil outside seatibg well',\n",
       " 'coming years family tried almost everything menu chili rellenos almost good good places valley chilli rellenos good beef stew tastes like tatas broth quality food definitely go without notice even get started salsas phenomenal little hole wall definitely neighborhood hidden gem whole family loves place',\n",
       " 'good worked closer place everyday lunch everything ever tried wonderful',\n",
       " 'completely delicious great service excellent food great sweet tea also south live ca like true visit back home definitely go back whenever vegas',\n",
       " 'breakfast experience delightful delicious server martha friendly attentive prices great many dining options definitely back soon martha thank making outer experience fantastic',\n",
       " 'times never really complaints food always tastes fresh flavorful never left feeling overly stuffed like verge passing good thing particularly liked fish entrees salmon rainbow trout desserts great perfect size polish tasty meal back',\n",
       " 'beyond reviewer give place anything less five stars everything chocolates cakes crepes ice cream sandwiches coffee simply incredible hard pressed find equivalent better kind anywhere',\n",
       " 'grab morning coffee days week today treated beyond fantastic two lovely folks running second third drive window large smiles face asked day told great day makes seconds morning even better keep awesome customer service',\n",
       " 'always great meal enjoy ambiance great place quiet meal loud party coming year visit las vegas',\n",
       " 'locations great foods great services',\n",
       " 'absolutely love place fresh food friendly fun staff ultimate tuna roll best thing ever eaten ever anywhere big variety rolls choose finding something calls hard eating hard part',\n",
       " 'took fianc last friday night amazing food drinks superb menu diverse drinks delicious enjoyed much',\n",
       " 'spend week las vegas every month literally live jj top reasons love jimmy john crazy blond hair guy think manager rules iron fist think thats chop lettuce inspirational quotes quirky yet top see link http docs google com doc id dc k gdz r hj mmm good food',\n",
       " 'baby back ribs falling apart delicious perfectly seasoned hubby mardi gras chicken spicy crispy amazing gravy sausage shrimp peppers kids portions large kids happy flavors fried okra appetizer also tasty oh waitress sweet best attitude great experience',\n",
       " 'favorite time restaurant bowel chips salsa best margs around flavorful salsa found restaurant',\n",
       " 'excellent food service kelsey server great super helpful chef gracious lucky meet salsas guacamole tacos best ever also try delicious flan recipe years old unbelievably good totally made trip las vegas complete',\n",
       " 'new business friendly enthusiastic owners panini delicious cafe latte reminded last time went europe hope little place makes sweet little gem',\n",
       " 'five stars young men see girls sure good work location stopped sunday night looking ice cream cones ice cream cones got friendly fast smile faces',\n",
       " 'new favorite coffee spot coffee great almond milk yay hubby loved bfast burrito outdoor patio great spot bring dogs loved inside local art reasonably priced gifts made refugees live phoenix staff friendly pretty quick great concept great spot back often',\n",
       " 'ironic shopping center w sex clubs churches best thai restaurants town one continues get better vegetarian try kad ped delight w faux chicken try ultimate shrimp omelet extensive menu culinary delights w curry dishes die gone years never disappointed',\n",
       " 'service greatly improved tommy awesome manager deserves kudos great red wine sicily caesars salad anchovies excellent',\n",
       " 'one best pizza joints las vegas way concert needed get food walked spot stop smell pizza let walk make right watch every step way expensive get decent meal good customer service strip spot must price unbeatable taste keep coming back',\n",
       " 'well may best pizza san tan valley always fresh hot cheese stretchy like gluten free crusts everything appetizers sandwiches awesome always ready within minutes order know busy friendly staff clean restaurant awesome food highly recommended',\n",
       " 'good french food lot local steak tartar salmon tartar excellent foie gras starter menu inexpensive quality served friendly service',\n",
       " 'omg goodness place amazing got caprese salad garden salad absolute fresh perfection garlic knots size loaded garlicy goodness tomato basil pizza must thank u delivering far away appreciate food remember tip yall',\n",
       " 'wow awesome resturant wonderful hostess getting bill flawless know train staffs par professional foods thought better offer casino half price local ayce resturant carry unique dishes others means selections location us little far cares beautiful setup large sushi bar importantly clean',\n",
       " 'legit mariscos spot found since moving back la la mess around mariscos little pricey seafood spot',\n",
       " 'hamachi jalapeno cilantro sashimi special soy sauce omg staff sorta snippy price astronomical',\n",
       " 'huge fan snuck stroke pm monday night boy glad made terrific food french bistro great drinks nice wines loved attentive informative services dears except ginormous seafood sampler platter could possibly consume seafood fresh oysters lovely dressed salad bites short rib melt mouth profiteroles dessert yum cute digs',\n",
       " 'far best guacamole ever excellent food remarkable service manager came check us conveniently located across street wynn busy either',\n",
       " 'friend telling place months finally got try tried greek food big fat greek restaurant impressed chicken george absolutely amazing definitely return see culinary delights await',\n",
       " 'yum yum yum new orleans seafood excellent seafood snob loved pretty neat sit bar watch cooks make meal',\n",
       " 'nice atmosphere good food else one ask service attentive really enjoyed habanero salsa portions small get order street tacos noodle dishes larger filling nicely priced spend lot hungry fun joint hot spot',\n",
       " 'usually go vegas talk casinos go home talking island flavor simple place good go everythime youre get early wait popularity',\n",
       " 'food delicious wife stopped breakfast daughters competition satisfied someone wrote previously salsa bland must fell bumped head place worth time money',\n",
       " 'every time come wonder let go long since last visit family owned operated restaurant everyone friendly food always phenomenal tonight ordered lamb saag curried goat garlic naan amazing never bad experience',\n",
       " 'best food bun bo hue hu tieu also macarons hope ppl love like way',\n",
       " 'great mexican food lots food cool salsa bar expensive great service definitely back',\n",
       " 'went lunch place wonderful friendly staff great atmosphere unbelievable food cannot wait go back try menu items came back vacation hawaii nothing ate even remotely close quality taste food thank',\n",
       " 'love pizza definitely new york style ie thin greasy huge slices make pizza fresh always amazing expect modern hip pizza joint definitely mom pop joint clean older works us though owner friendly food great coming several years never disappointed',\n",
       " 'great new find surprise uni sushi prices reasonable atmosphere nice red bull roll delicious well yellow tail box roll definitely frequent establishment sushi chefs friendly interact patrons two thumbs',\n",
       " 'service fantastic cheese stuff slider phenomenal fries tasted fresh cut fried moment order onion rings smelled great however option get half fries half rings slider order',\n",
       " 'one best kept secrets east valley roys wine tasting club meets every third saturday pm offer generous taste four five different unique wines plus lovely plate roys appetizers plus special desert sampler members least five times disappointed yet see',\n",
       " 'wow good greek food great service',\n",
       " 'great wings great pizza service waiter david amazing wait come back try fish chips',\n",
       " 'one favorite restaurants beautiful prices good food good well overall experience great memorable experience without breaking bank love terrace view bellagio fountains seafood platter must',\n",
       " 'table friday night pre party wedding following day daniel server amazing ordered pitcher pitcher sangria mojito yummy top everything whole time seafood paella highlight table full tapas everyone raved food first time firefly back every time town fabulous evening around',\n",
       " 'fantastic ramen heavy noodles really good cooked love definitely come back',\n",
       " 'great place brisket favorite also queso brisket dip bomb hogapeno dip yum',\n",
       " 'came lunch break really impressed great service waitress greeted smile seemed enjoy job much appreciated blown away latte selection recall correctly beverage menu pages hesitated papaya tiramisu latte butter pecan rum latte finally ordered former scrumptious lunch menu also reasonable would recommend friends',\n",
       " 'first time wait come back wellness dink absolutely amazing mom shared raw macho nachos half order filling highly recommend',\n",
       " 'love place get brisket anywhere else happy wings amazing well cheese fries oh lawd love love love',\n",
       " 'wife going ah years always good good request brandon best chef far',\n",
       " 'ok enjoy wine bar wine place great really taste european dishes incredible mixed spanish flare sangria damn good run sentence ray owner general manager kept us informed best enjoy food drink well make great conversation atmosphere miss place always packed word gets',\n",
       " 'place awesome friends regulars amazing food today forgot card short cash manager comped us nice would give stars could',\n",
       " 'really enjoyed experience grilled artichokes phenomenal husband loved ribs definitely back perfect date night',\n",
       " 'excellent restaurant food delicious ambiance nice customer service really good recommend go enjoy good mexican meal congrats owners',\n",
       " 'great place party bigger four huge quaint utilizes place capacity dining menu healthy eccentric service time though place looks congested upon arrival traffic flows seated within ten minutes arrival latest complaints food whatsoever even want visit try something different',\n",
       " 'contrary john thinks kathleen awesome also ask fresh batch knew opening mouth politely could reap rewards',\n",
       " 'tried place saw arizona taco festival number categories trying certainly tell tacos super thin tortillas provides flavor explosion mouth carne asada different traditional carne taco one favorite menu items everything tried good atmosphere great pleasantly surprised place still local dines great deal',\n",
       " 'bagels favorite among many delicious options montreal first got rustic morphology bagels heterogeneously shaped nutty aroma go recommended sesame version ovens clearly loved taken care decades likely adding interesting finish second bakers focused one thing making excellent bagels providing fast efficient service appreciate',\n",
       " 'love fresh juices favorite items healthier alternative baked goods yummy decor fun fresh',\n",
       " 'coming southern ca huge fan mexican food much good food life also picky started believe thing good mexican food pittsburgh discovered restaurant new one south side atmosphere weak food good completely made forget everything else ate every morsel meal stop even stuffed brim incredible back',\n",
       " 'place people love spicy food food definitely delicious especially hotpot sticks never lv even la never tried spicy food like set restaurant interesting fancy nice place hangout friends family hopefully come la one day absolutely recommend friends go',\n",
       " 'great feel place unique friendly helpful staff fresh crisp vegetables hummus die experience loved price worth atmosphere calm soft music perfect setting anjoy good meal might considered hole wall',\n",
       " 'dinner friend matt w server sat bar high top bc want wait min matt attentive polite offered suggestions drinks appetizers food times perfectly matt great refills keeping table clean love food great prices back soon',\n",
       " 'best food vegas enrique server best food great service best part cochinita pibil mexican hamburger grilled pineapple everything great tasting highly recommend place',\n",
       " 'amazing food happy puerto rican restaurant close chicharrons money perfect place back',\n",
       " 'good first time rename restaurant crack box',\n",
       " 'happy great neighborhood spot huge patio inside outside bar chicken salad sandwich favorite often visit quick cup coffee pastry way work staff always friendly place always clean friends live neighborhood frequent often kids strollers really cute place worth checking sure',\n",
       " 'hands best bbq ever life homemade food absolutely delicious highly recommend',\n",
       " 'far best mexican restaurant pittsburgh damn friendly today gave us free shots mexcian independence day gave buddy free desert b day mention burritos best pittsburgh really competition california let go',\n",
       " 'yum great local place restaurant family owned operated service friendly warm chicken fingers dipped great batter servers warm suggest buffalo special sauce also get big piece texas toast exactly chicken fingers supposed taste wait come back check place regret',\n",
       " 'hands best cheese shop ever staff super knowledgable friendly products insanely good',\n",
       " 'go restaurant every time visit vegas pho good restaurant clean service fast',\n",
       " 'delicious breakfast ordered tofu scramble grilled veggies perfect corn tortillas like buy local natural food store got brownie sundae shared loved atmosphere nice service good',\n",
       " 'great neighborhood bar restaurant cold beer good food great staff',\n",
       " 'thai basil x time gone tried something new everything tasty go wrong',\n",
       " 'always loved chipotle great service wherever go people restaurant really nice even gave free tortilla bowl nice location many commercial places nearby',\n",
       " 'fellow vegans small vegan menu sooo delicious definitely recommend eating nice make things fresh',\n",
       " 'great food portions awesome wait kind long service decent',\n",
       " 'looking casual place rafting perfect brisket sandwich tender really good mango salsa also favorite also tried pork sandwich coleslaw good highly recommend',\n",
       " 'perhaps one best meals ever chicken waffles watermelon unreal desserts crazy good fantastic atmosphere service boot would go back heartbeat pass opportunity night yardbird',\n",
       " 'listen howard one dang good chinese food pan fried crab delicious normally care dig hands crab help also loved black pepper beef think cod soy sauce service bad celebrity sighting one waiters looked like bruce lee',\n",
       " 'loved snow ice worth price get delicacy anywhere else burgh rose green tea well complaints perfectly sweetened sweet lovely floral notes',\n",
       " 'five guys great place burgers good fries good go someone else need order one regular size fries easily feed also peanuts available eat waiting order cooked therefore anyone peanut allergies may need stay away',\n",
       " 'dear mr earl whoever like shiny things wrapper suckered right evil creating delicious sandwiches miles away live full montagu soo juicy bread toasted perfectly hate eat',\n",
       " 'delicious food hospitable chef amazing steak sandwich completely loved five stars',\n",
       " 'good solid meat lovers pizza prompt whole ordering system paypal perfect quick easy highly recommend',\n",
       " 'dal bean soup delicious hearty flat bread somosa round really great meal staff super friendly got inside outside dining options enjoy place promise',\n",
       " 'place yummy get fresh healthy items burritos huge consistent fast everyone seems work hard really know hire people wish success introduced many friends fans',\n",
       " 'ask extra crispy thin crust make thinner cook bit longer perfect pizza really reminds home really wish delivered though sure would boost revenue quite bit',\n",
       " 'love coffee home made pastries sometimes crowd bit hipster go anyway',\n",
       " 'place amazing six stars would give came spring training loved rnr brunch needed break decided check place needless say disappoint bottomless mimosas three course meal french toast braised pork classic beignets geez come sure best place far',\n",
       " 'stumbled across delicious place visiting last year made trip specifically year fantastic creative food exceptional staff total win',\n",
       " 'great dining experience tuna tartar favorite custom ice cream end made',\n",
       " 'pho king good best pho sriracha buffalo chicken potstickers oh great service staff real life food truck coming back frequently',\n",
       " 'always good portions big great spacious place lots tables always reliable place good chinese food p',\n",
       " 'wonderful pizza great setting pasta mmmm could better make effort great service reasonable prices great time lights garden',\n",
       " 'west wall bar bathrooms enter hall framed handwritten letter hugh hefner thanking bunny fun times acknowledging inspiration playboy bunny dunno think pretty cool',\n",
       " 'get pecan waffles extra crispy side bacon great late night food bestie',\n",
       " 'third time coming buldogis beyond satisfied every time hot dogs great quality specialty dogs creative taste excellent far favorites philly cheese steak dog carne asada dog carne asada fries delicious well service also great cooks friendly truly aim give best dining experience possible',\n",
       " 'new neighborhood excited found service exceptional food amazing blt delicious vibe good go check disappointed',\n",
       " 'excellent pizza good service soda amazing like creme soda personally definitely place coming often',\n",
       " 'like la nyc amazing great crunch rice tuna roll sparkling sake must eat',\n",
       " 'love little gem husband come california find vegan restaurant every corner moving arizona happy found green ate scottsdale location last night today lunch break ate th st location great taste quality vegan skeptic try green try anything else set great standard awesome vegan food',\n",
       " 'four us something different pleased choices perhaps wonderful surprise chicken pot pie husband ordered size salad plate least tall filling',\n",
       " 'meal ate one best ever cinnamon roll french toast die everything else meal good old school feel amazing food go place',\n",
       " 'tonight special amazing one new favorite dish pasta lobster crab scallops shrimp cream sauce',\n",
       " 'great event last week blast event handles perfectly wait go back',\n",
       " 'whether takeout sit intimately cozy atmosphere restaurant soho sushi lounge opinion best west island offer quality sushi consistently delicious host master chef always strive make customers comfortable gone often reached point simply ask chef choice comes placing order know never disappointed',\n",
       " 'red light sunshine sunday huevos rancheros accompanied bloody mary kiltlifter everything amazing prices extremely satisfactory back maybe every sunday',\n",
       " 'dined breakfast past weekends quiet peaceful place lots healthy menu options prices fair lots seating inside patio employees always friendly',\n",
       " 'ever since redid management etc months ago experiences great consistent food orders subs always delicious cashiers employees super nice',\n",
       " 'though always busy food amazing ive never problem staff thing say need improve getting additional location sucks drive far enjoy great food',\n",
       " 'ate first time monday went back friday dion server times fantastic answered questions kind funny without annoying shtick looking forward coming back',\n",
       " 'go owner made us veggie platter great wine recommendations nd time back one regular',\n",
       " 'good place eat service seriously fantastic burger soooo damn good dont remember names desserts got couple months ago went god amazing one home made cinnamon ice cream wow please try wait go back next time vegas',\n",
       " 'first visit blown away sandwiches delicious bread perfect everything fresh service great',\n",
       " 'grand opening night fantastic toast cheer grand official opening congratulations best wishes',\n",
       " 'really like place excited open second location things ordered enjoyed gotten point go one thing one thing tu nuts ammmmmmazzzing crave occasion fianc get something different every time usually whatever special going time sneak bites tu nuts must',\n",
       " 'good food great people going five years never disappoint',\n",
       " 'cafe surprisingly good great asian menu food service excellent first time staying hotel know pets allowed never stay strip',\n",
       " 'wasnt sure earned gave overall saturday night usually go special late night meal work last time forgot quesadillas lesson learned check order tasty love spicy mexican sausage always leave cash since nice accomodating thanks amigos',\n",
       " 'lobster bisque best world nyc la paris lobster salad die lemon tarte dessert spectacular service superb phil christopher came greeted us made us feel special possibly delicious food ever az iived years even bathrooms tres chic wait go back',\n",
       " 'nd time amazing remembered food hot fresh local full flavor',\n",
       " 'decided eat whim husband got burger br l e got beach house burger fantastic buns perfect agreed best burgers really long time sweet potato tater tots french fries also amazing fed family five definitely going back friendly service casual atmosphere clean thumbs way',\n",
       " 'dinner two came including tax tip ordered three course menu got total two drinks two salads two appetizers two steaks three four sides four desserts everything truly delicious though meal two months ago forgotten details great steakhouses good better best staff treated us like vips',\n",
       " 'great service courtney awesome food great beer management came said hello thank rachel saying hello come back sure',\n",
       " 'using dominos location couple years always great product friendly delivery drivers rapidly fixed ordering mistake couple months ago questions asked close use go wrong',\n",
       " 'experience mexican fare las vegas pretty much restaurant recipes like albuquerque',\n",
       " 'sooooooo good several different things super delicious highly recommend salmon tuna bowl beef dish picture menu hour pork alright homemade ice cream good ordered black tea hazelnut wasabi toppings black tea favourite',\n",
       " 'lot mexican places town far best service always friendly prices reasonable carnitas probably best house habenero sauce great ask go like heat mole chicken anything great well go wrong anyone desserts either place must want good mexican food blows away local competition',\n",
       " 'love love love gordon b one top favorite las vegas restaurants always hot delicious great service nice atmosphere great hanging friends date night place works occasions',\n",
       " 'love rnr sunday funday cassidy server absolutely amazing best waitress friendly fast meals refills',\n",
       " 'fabulous food great dive bar gotta try suicide fries rock star pizza fabulous beer ice cold really gotta try suicide fries writing beads sweat bald head great stuff',\n",
       " 'one favorite spots scottsdale love baba ganoush roasted red pepper humas stuffed grape leaves falafel course baklava place super inexpensive give lot food thing eat fast food comes kitchen lightening speed order appetizer wait order',\n",
       " 'love place pasta always al dente dishes always pleasing eye palette consider place one favorites continue come back',\n",
       " 'food amazing accommodations food allergies best ever seen great setting back time',\n",
       " 'love love love truck prompt arriving employer courteous time delicious cheese fries carne asada tacos burgers breakfast anything ordered good guess keep going back everything affordable think breakfast eggs potatoes meat toast like',\n",
       " 'every time go subway always receive excellent customer service veggies always fresh store also always extremely clean love subway',\n",
       " 'place bee knees took wife birthday picked place pics food looked good experimenting upscale dining apprehensive first know expensive joints must say pleasantly surprised ambiance welcoming food reasonably priced tasty duck meatloaf yum',\n",
       " 'place awesome hidden gem sure staff service great hit sure go back right',\n",
       " 'complain one gal looks like hates job served candy candy great professional personable super attentive considering busy place restaurant clean food great good price glad came thanks smiles guys',\n",
       " 'nice atmosphere lots different characteristics depending sitting seems place impress potential business week great place stun special someone enjoyed service food',\n",
       " 'wow place made love indian food three entrees husband good wait go lunch buffet try different things staff friendly place clean well pressed',\n",
       " 'long time chuy fan try remake food step prickly pear margaritas fantastic ask wife back nice atmosphere high ceilings good food great beer selection',\n",
       " 'maybe best person write review place know nyc know famous bagels bagel cream cheese delicious tried boyfriend corned beef pastrami sandwich instantly transferred deli heart nyc good place looking go good nyc deli minus nyc atmosphere',\n",
       " 'urbane manner great good amazing tried huevos rancheros chicken fried chicken small stack pancakes everything made house scratch pancakes amazing also mimosa bloody mary bar make way lucky sample french toast well loved like great made scratch food lots flavor definitely place need try',\n",
       " 'love place food good atmosphere nice folks working friendly price affordable',\n",
       " 'eat moe time one opened simply go still let although could giving tortilla chips went filled inches burrito beans',\n",
       " 'place amazing breakfast hogs chick steel cutt oats pancakes far favorites get everytime go get pancakes',\n",
       " 'uschhhhh chicken best expect long wait worth chicken juicy dry seasoned right eating please dont forget fried sweet potato pie klawd',\n",
       " 'place best wings place ever actually end crazing wings fun place go relax music loud obnoxious people karaoke saturdays keeps coming wings food food fooooood',\n",
       " 'every single thing experience el dorado amazing impressed service despite busy visit employees work well together great see tacos absolutely delicious loved margarita homemade flan best ever oh salsa good',\n",
       " 'downtown phoenix work wanted get good breakfast place fantastic good portions fresh ingredients great service ever back phoenix would absolutely come breakfast',\n",
       " 'two slices cheese medium soda including tax beat delish lunch special slices free medium soda place yummy',\n",
       " 'love place latte amazing egg dishes perfect recommend goat cheese scramble asparagus wonderful lovely clean environment well',\n",
       " 'husband town ces went restaurant last night asked write review since yelp account received amazing service owner said food spectacular next time town eating sure',\n",
       " 'came seeing full tacos el gordo ordered chicken torta delicious lots avocado loved aguas good thing tacos come cheese sour cream thought bit different',\n",
       " 'start finish place great seared big eye tuna choice evening right service top notch great wine list must area',\n",
       " 'love restaurant great service freshest food west valley pho quite possibly best ever try spring rolls sorry go',\n",
       " 'place awsome rice bowls die give enough want leave hungry',\n",
       " 'awsome service wait staff friendly groupe went fairly quickly food fresh good portions right prices reasonable well ambiance good music bit loud dont think would go parents since wouldnt able hear fine keeping bookmarked',\n",
       " 'went breakfast buffet week great buffet main breakfast staples',\n",
       " 'best pizza looong time reminds pizza italy craving every day since delicious',\n",
       " 'breakfast lunch regularly months still jazzed food service get busy around noon chef mrs chef keep together pretty well',\n",
       " 'could anything star review losers appreciate small menu know shove yo mamma wanna see green burrito amazing try chimi green mix better yet try chimi green mix enchilada style taste buds orgasms serious',\n",
       " 'first brunch montreal lucky enough get rush lots vegetarian vegan options affordable filling amazing coffee friendly service regret ordering vegan poutine',\n",
       " 'san diego kinda stickler good mexican food el poblano par taco shop sd means incredibly good definitely best mexican food since moving wisconsin',\n",
       " 'met friend works nearby munch sub lunch friendly counter service food quality good freshest bread generous portions feeling wanted something special would accommodate cravings providing ingredients many thanks friend ray invite turning classic sub shop offers much ordered yelp using eat',\n",
       " 'dad brother enjoyed ale boston loger great food biscuits different good w cinnamon sugar tri tip mac cheese bbq burger yummy awesome server joe love spaciousness art walls',\n",
       " 'far favorite mexican food place tacos amazing creative margarita ideas would recommend anything menu love place',\n",
       " 'went lunch today delicious fresh food tacos crispy burrito large good tacos regular size tiny ones see everywhere choose want meal friendly people work clean place also opening soon centennial area good try rice bowl next visit',\n",
       " 'juicy meaty delicious biggest shrimp siu mai ever seen wonderfully flavourful bbq pork bun also ridiculously good meaty little fat rarity days try bubble tea friend loved overall star',\n",
       " 'place new go neighborhood spot grilled wings absolutely die perfectly crisp outside juicy tender chicken whole carafe wine enjoy low key night pretty cheap try braised spare rib ravioli holy heaven',\n",
       " 'top notch pizza plenty red white options nice charming patio seating area looks like converted house came back italy place good better pizza places',\n",
       " 'great venue friendly staff outstanding service great food best happy hour town draft beer',\n",
       " 'best vegan place ever tried vegan could go time basically makes want vegan huge fan breakfast always get biblical breakfast amazing look design place gorgeous want always lots natural light makes beautiful shots food',\n",
       " 'jets made arizona native michigan makes happy best pizza almost years go deep dish jet bread extra turbo crust even ranch made right like back home michigan stars',\n",
       " 'food service awesome table top guacamole amazing white rice melts mouth sweet savory taste love everything gmo natural chicken enchiladas incredible',\n",
       " 'place awesome boyfriend live blocks away get take least month always chicken gyro bf gets falafel get baklava must looking good greek food',\n",
       " 'wonderful dinner friends food delicious drinks great waiter kind helpful wish one columbus ohio took two small children us welcomed friendly atmosphere',\n",
       " 'place going tough beat bar service drinks scene perfect steak stone crab sides coconut cream pie perfect add waiter looked like yul brenner loved talk place history story stone crab restaurant greatness back next month',\n",
       " 'stopped lunch fantastic steak great price point keep coming back awesome drink selection personable staff',\n",
       " 'veggie roll delicious staying hotel close delivery service speedy polite thank pizza company yummy',\n",
       " 'moved california thrilled discover yo pauly new york pizza delicious must accompany meal garlic knots marinara sauce tonight tried baked ziti portions generous skimp cheese love atmosphere restaurant usually someone pizza delivered really enjoy dining staff friendly definitely two thumbs',\n",
       " 'great restaurant went friends tried brucshetta sampler awesome lobster crab meat ravioli delicious classy place nice decor dress place sure would recommend place special occasion sure',\n",
       " 'love place great food great service teresa great waitress make sure check pastries',\n",
       " 'invited back food fantastic well server amazing try forget previous encounter continue return',\n",
       " 'far best dinner vegas last years hotel new favorite well',\n",
       " 'best experience vegas food amazing wellington delicious sticky toffee pudding great end meal part made experience great friendly service received donnie mouhamaduy',\n",
       " 'enjoyed sinatra experience food top notch even get cd franky leave',\n",
       " 'great doner kebab like reviews said tastes like find germany pocket bread specially ordered fall apart believe place mall food court good',\n",
       " 'good food place service hubby ordered truffle eggs ciabbatta sandwich motule os eggs',\n",
       " 'one favorite places lunch need get early place fills quickly love place',\n",
       " 'love yanagi excellent quality reasonable prices sometimes best',\n",
       " 'discovered sushi sar definitely back eat sushi good selection good quality service ok cheaper many local ayce places including ye sushi chips tasty lamb skewers nice bonus looks nicer inside outside although still casual nothing fancy save bucks competitors try',\n",
       " 'amazing tried everything menu disappointed healthy yummy',\n",
       " 'fish chips today one word delicious shared order years old son devoured almost got another order regret like keep thinking missed connections',\n",
       " 'great pizza great price clean bathrooms nice restaurant would go back good menu',\n",
       " 'want say thank adam bartender providing quick personalized service bar one best think bar would awesome considering location music great food delicious definitely come back often',\n",
       " 'hate shitsburgh place right hands best sandwich planet',\n",
       " 'first time del taco breakfast burrito amazing staff friendly came back dinner great customer service everything ordered great',\n",
       " 'way rated dang place good taste freshness ingredients salsas meats good food steak taco plate steak fajitas plate back',\n",
       " 'absolutely awesome breakfast experience met friends amazed food service want say loud breakfast kicking moms old fashion saturday mornings past close second keep great work',\n",
       " 'delicious ordered tam kha egg rolls really good everyone really chill u wait go next door tell mama pretty cool piano bar',\n",
       " 'omfg love place amazing food service well great place friends chat drinks small eats come back would suggest make reservation advance though',\n",
       " 'brynn bartender made great recommendations food blackened ahi sliders exceptional polite staff customer service really appreciated whole experience',\n",
       " 'make best panang curry lot tofu broccoli much liquid tasty eat almost every day nice service clean place good atmosphere deserve stars',\n",
       " 'needed place eat breakfast near hotel ran across place upset hotel offer breakfast crepes made everything better highly recommend breakfast americana',\n",
       " 'kobe beef burger spicy garlic aioli bacon bloody mary delicious',\n",
       " 'bulgogi dog egg would highly recommend go see want order next time come right come back fries great time dragon kimchi dog without habaneros top hot tasty',\n",
       " 'consistently good food friendly service obsessed fresh hummus baba bf gets meals portions leaving stuffed good bf light eater enjoy nice meal hummus baba pita hand free yummy pita bread pita chips order awesome lot people work also love salem close frequenting place lot',\n",
       " 'matt awesome personable knowledgeable menu matt promptly greeted seated smiles recommend eating patio experience along awesome service seafood geared menu',\n",
       " 'japanese restaurant food great favorite choices unadon sashimi fact everything tastes good service also wonderful warm nice place',\n",
       " 'yyeeessss recently moved pittsburgh craving chinese food found new place got delivery food still steaming got building portions bigger expected tasted great',\n",
       " 'great atmosphere usually sit bar happy hour great orange cocktail pretty yummy ounce pours wine always plus good customer service never wait drink order attentative',\n",
       " 'greens proteins many great things say company general versatile menu full smart clean eating food cook prepare accurately none cooked broccoli dried chicken location rainbow actually favorite bc staff friendly location pretty quick service time think infused water awesome like icing cake lol',\n",
       " 'finally made tonight wanting try past months disappointed entire staff friendly bartender came table say hi chat times annie owner even came table meet us say hello veal marsala delicious boyfriend shrimp scampi loved definitely back try happy hour bar sometime soon happy hour days week p',\n",
       " 'excellent food attentive service enjoyable atmosphere hundreds thousands parochial reviewers yelp could experience restaurants quality bonaparte number desolate greasy spoons getting five star reviews yelp would drop zero',\n",
       " 'amazing much technology everyone nice super cheap incredible experience',\n",
       " 'pulled pork sandwich fantastic barbecue sauce side available counter next room feel confined someone else definition drowned barbecue sauce sauce excellent btw additionally sweet potato fries bomb dot com crispy comfort summer food finest need nap',\n",
       " 'love place crab days juicy perfect server nadia super sweet',\n",
       " 'rule always order miss banh mi bread made fresh tasty pho great good great broth hot last bite meat lover plenty meat yum service also good',\n",
       " 'place incredible might seem expensive first compare prices establishments airport see ordered different salads sandwich food delicious beautiful healthy unique compliments chef staff friendly helpful highly recommend',\n",
       " 'really nice buffet plenty selection quality might plates food kind lost count go grub went bellagio buffet definitely impressed wynn',\n",
       " 'steak really good especially smothered onions think careful eating many delicious rolls cinnamon butter dinner wait staff alway fun upbeat really enjoy dancing negative long waits go friday saturday night expect wait least half hour good news call ahead wait bad',\n",
       " 'like orange chicken personally crab wontons sometimes mix get sweet sour food always delicious people nice looking good asian cuisine would highly recommend checking place',\n",
       " 'need come essence japanese flavor stunning tried raku night hachi hands phenomenal want truly gastro nirvana experience taste buds hachi set new standard japanese izakaya vegas halibut uni carpaccio indescribable pg prompted review hachi got us carpaccio enjoy',\n",
       " 'good sushi queen creek arizona service gotten better first times waitresses seemed bitchy like hated jobs everyone seems like work together new management love coming extra cash',\n",
       " 'wonderful spot theater cultural district pittsburgh spent lovely evening porch drinking really well done unique cocktails eating variety appetizers everything wonderful',\n",
       " 'gem jungle coffee cents actually good usually get egg sandwich must cranberries bread chloe breakfast',\n",
       " 'decide order ordered several items say fantastic tacos salad pear flatbread items superb staff friendly accommodating',\n",
       " 'amazing fresh menu small seven table atmosphere great service still casual literally soup dessert stars type place prepared take time enjoy course well company duck ravioli amazing entrees blew us away dessert sure save room life changing',\n",
       " 'amazing service wait staff top dine lot top restaurants private clubs best food fabulous spectacular presentation great selection',\n",
       " 'place rocks amazing italian food service atmosphere every time',\n",
       " 'delish first time az family brought us farewell meal headed back ca food awesome bbq sampler brisket corn mac cheese potato thing sides big bland bbq good well sauce mixed onions pulled pork added extra sauce delish great way end trip south',\n",
       " 'ordered tortilla espanola first came year ago coworkers loved really want visit try yummy sounding dishes',\n",
       " 'excelente elecci n si te alojas en el hotel aunque seas de fuera cuando te registras en el hotel te dan x en comida cena un precio con bebidas incluidas muy asequible ni en espa te encuentras un buffet libre con bebidas incluidas por euros despu aunque sin oferta sale el doble si entras minutos antes de que termine el almuerzo disfrutas de los dos por menos precio con lo que comes cenas son comidas en una recomendable la reposter la pasta',\n",
       " 'social box new favorite neighborhood bar good beer selection amazing food impeccable service never bad experience even subpar nachos insane definitely recommend sharing friend try daily bruschetta chef comes new combo every day food good',\n",
       " 'ein wundervoller abend wir waren sechs personen und haben und mit vorspeisen und acht hauptg ngen verw hnen lassen drei bedienungen von denen eine dame sehr locker und lustig war ich w rde ihrer schnapsempfehlung aber nicht folgen es lohnt die chinesische karte zu gucken dort wird gut gew rzt besonders hervorzuheben der pilzsalat den f nften stern gibt es wegen der bedienung',\n",
       " 'agreeably surprised restaurant happy find rare gem neighborhood many good dinner spots nice decor fun ambiance byob good service excellent food else could ask moreover quality food get fact bring wine prices extremely reasonable definitely back',\n",
       " 'love pizza love pizza delivery nice touch try meatballs next pizza fact nypd water filtered exactly like eater yonkers',\n",
       " 'came night friend drinking another bar super hungry ordered mac n cheese caprese grilled cheese buffalo wings holy crap everything good even spicy cole slaw amazing washed everything cold definitely returning mention seats really comfortable music good',\n",
       " 'buns buttery delicious absolutely go around buns come hot oven also best bubble tea pittsburgh',\n",
       " 'love rubio every time chandler make sure eat shrimp burritos absolute favorites recommend everyone one',\n",
       " 'extremely friendly staff first location taco bell messed order yet near asu get busy late night u expect',\n",
       " 'well lets say favs ride motorcycle order lg go say enough basil say later last two times great basil soup suck baby get service respect good food hard get theses day us old vegas guys ok upqate got one go screwed basil wef',\n",
       " 'mario one best waiters vegas ford outstanding bere strip nfr rodeo etc one vegas hidden gems sure try',\n",
       " 'husband shared monster lasagna takeout fabulous like homemade general everything phil delish including reuben burgers omelets like old fashioned nyc diner unpretentious great homey food service',\n",
       " 'mom bacon eggs ate french toast great dining experience',\n",
       " 'strawberry sensation strawberrylucious rebel special makes super easy rebel',\n",
       " 'maggie awesome food good benedict beneficial tummy',\n",
       " 'boyfriend took year ago septic ordered nlack green burger sad dint come fries ordered truffle fries share steemed pork buns burger delicious fulll barely ate fries witch good csnt remeber much steamed buns every thing flavorful bit bill totally worth',\n",
       " 'got fried wings well seasoned casino pricing good tasted home made return try things',\n",
       " 'eaten twice customer service best ever staff helpful food choices',\n",
       " 'totally yummy food better subway quiznos reminds place used love dc called pot belly sandwich works',\n",
       " 'still awesome love guacamole make table apple pie table pineapple margarita favorite gone lunch several times love happy hour',\n",
       " 'hard find good asian chinese food valley dragon express definitely become one favorites lo mein flavorful chicken dishes wonderful actually tell eating use white meat veggies always crisp perfectly sauced dissapointed yet',\n",
       " 'food awesome server justin knew exactly beers paired ordered past experiences par best server knew food beers well changed opinion place definitely returning requesting server',\n",
       " 'smoke shop sandwiches delicious great selections european beers go perfect favorite italian combo sandwich bye subway hallo euro market deli',\n",
       " 'amazing food highly recommend best food vegas staff also great got late staff made arrangements could still sat even past closing',\n",
       " 'go always look forward go back enjoy bread bowls soup sandwiches pasta butternut squash garlic lemon penne favorites also like new flavored lemonade iced coffee never like desserts though',\n",
       " 'yes true messing burger hard definitely possible mcdonald living example habit burger hits nail right head burgers pure awesome sad live closer anyways feel habit burger hard describe go try believe dissapointed',\n",
       " 'st time trying pho restaurant delicious fast price great would definitely come back',\n",
       " 'great place great atmosphere bigger amazing ordered medium rare perfect juicy ordered parmesan fries yummy went back next day get staff friendly never kept us waiting must try disappointed',\n",
       " 'favorite spot downtown come grab drink bar dance go outside bar grab another drink play cornhole toss hang fire pits chat come back inside play carnival games corner shoot pool grab another drink bar lounge giant bed end night diner midnight snack come every weekend local',\n",
       " 'employees super nice food amazing definitely worth checking',\n",
       " 'haji baba hands best middle eastern food ever arizona went first time weeks ago already back beat price much food give partial gyro platter also tried chicken shawarma items combo platter dolmades falafel everything amazing back many many times',\n",
       " 'favorite noodle place vegas far miso ramen make sure ask butter corn order tried egg fan ask green onion prepared lot green onion big place wait mid afternoon sunday time line',\n",
       " 'looking delicious meal wanting spend lot money come chili cheese dog cheese fries go never disappoints location great staff always super friendly get food within couple minutes ordering',\n",
       " 'place great dinky pizza joint usually busy pretty affordable get show get slices couple beers great football games usually show college football saturdays pick spot right front one hdtvs kick back friendly staff pretty clean loud obnoxious plan becoming regular recommend everyone',\n",
       " 'people understand customer service food delicious fresh portions large tasty created combination platter street tacos enchiladas let location fool place hidden gem local favorite chips salsa fresh good disappointed',\n",
       " 'outstanding food best pakistani food valley doubt family run place great service recommend highly',\n",
       " 'came lv work trip demanded taken nice dinner surprise boss took us carsons food service atmosphere fantastic greeted felicia bubbly well informed passionate restaurant menu hands favorite item deviled eggs good ordered second round next time town back',\n",
       " 'awesome sandwich shop bread great veggies fresh meat high quality get ton seriously need ordering double meat guy owns waited us really friendly hot pastrami signature grinder excellent local place definitely worth stop know family members regulars',\n",
       " 'one favorite spots go sushi really japanese food ramen delicious place byob makes fun place go group keep mind gets busy group large weekend might wait good thing drink wait yet try anything menu bad forget hit specials always treat',\n",
       " 'best galettes crepes ever thank maggie blessing us deliciousness wait try every single combination love love place',\n",
       " 'stopped craving good banh mi avocado smoothie still delicious fulfilling place clean staff pleasant ordered box daughter favorite cream pastries school tomorrow would eat whole box time comes lees kinda sad lees near house open',\n",
       " 'quick affordable summer menu served daily ice cold drafts everyday',\n",
       " 'soul food best cousin told us come perfect last day vegas server amanda best nice friendly red snapper fried okra mac cheese everything seasoned well omg collord greens ro die cant wait go back vegas come eat',\n",
       " 'fast friendly service sandwich fries hot tasted great bathrooms dining room clean',\n",
       " 'yummy love scallop volcano roll must come sometime eat worth',\n",
       " 'dine life never service food cannot beat food delicious crying tiger favorite highly recommend',\n",
       " 'great place always come least twice month love rib eye stake amazing',\n",
       " 'really liked place great flavors decent pricing tapas amazing service desert beyond yummy creme brulee trio go soon',\n",
       " 'tried place first time hearing year definitely lives hype food amazing',\n",
       " 'really good greek salad cheap prices good portions got turkey gyro grilled made even better nice little spot limited seating',\n",
       " 'amazing late night food every time vegas eat least day turkey sandwich got killer',\n",
       " 'la r putation de la r tisserie romados n est plus faire allez sans h siter pour cet incroyable poulet frites avec un surplus de sauce piquante c est leur sp cialit aussi commandez un poulet entier emporter pour un ap ro de derni minute vos convives vous remercieront je recommande aller chercher vos commandes au comptoir et de ne pas tenter l exp rience de livraison dont l attente est bien trop longue et le plat lui beaucoup moins ultime',\n",
       " 'one best thai places vegas always feel welcomed restaurant great lunch dinmer specials dinner special says feed four us ate leftovers also best green tea ice cream ever eaten',\n",
       " 'place top notch great atmosphere wait staff food fantastic price point compared many restaurants ate last week one top places',\n",
       " 'burchette amazing try also pizza delicious everyone friendly smile face enjoyed much definitely eating',\n",
       " 'good basic chinese take away fancy things menu good',\n",
       " 'going spot regularly since opened food always excellent whether spot slammed friday night check lunch hour pleased quality food service burgers favorite every combination delicious perfectly cooked fish chips great az beer selection massive definitely give place shot disappointed',\n",
       " '',\n",
       " 'best indian food las vegas butter chicken chicken tikka masala garlic naan favorite eating years always consistent food quality',\n",
       " 'best place arizona persian would know since eat persian food often part background delicious always share chef special offers mixture dishes enough share',\n",
       " 'great experience kenny server attentive friendly definitely back sure ask',\n",
       " 'reason mentioning used live brooklyn ny anyone reading knows eaten best pizza world veltres amazing great pizza great service fast delivery love',\n",
       " 'great atmosphere designer shop really creative shop matches perfectly downtown phoenix look vibe get bear hot dog peanut butter bbq sauce gouda bacon kettle corn bomb',\n",
       " 'perfect neighborhood restaurant great sub pizza favorite taco sub must great family good weekly specials also fast delivery',\n",
       " 'wow best beef since visited chicago husband chicago found spot hometown feel try beef dipped hot peppers go wrong',\n",
       " 'place delicious go least week main reasons love place food healthy fresh great prices fast service favorites would breakfast burritos quinoa oatmeal frittatas yummy boyfriends favorite club sandwich super good',\n",
       " 'food reeeeeeeally good service fast figure use computer nice helped us immediately great staff manager',\n",
       " 'favorite mexican restaurant love carnitas wife loves cheese enchiladas beans outstanding great family restaurant',\n",
       " 'place great deal lunch pizza buffet amazing classic cheese basil tomato veggie pizzas great love history oven imported italy made ton pizza since restaurant opened staff friendly good keeping pizza salad fresh full buffet also clean beat',\n",
       " 'easily one favorite meals anywhere oysters pan roast spicy beers negative wait quality food totally understood expected',\n",
       " 'love place many times last years service always great food always high quality comfortable well designed space menu always innovative prices reasonable highly recommend place occasion',\n",
       " 'amazing service food place eas packed one waited food staff helpful come every thanksgiving',\n",
       " 'bmoc mexican benedict nothing short amazing place looks small get people pretty fast thought gonna line door tasting food see hit orange juice coffee morning moonshine fresh come back town',\n",
       " 'today second time come place craving ever since recently became vegetarian place become favorite restaurant food delicious beautiful ingredients local love mostly organic believe forget also try dessert definitely recommend place continue support good',\n",
       " 'loved local dish food fresh local service great much better chain fast enjoy',\n",
       " 'pizza unbelievably good oh gosh far best pizza vegas huge slices yummy gooey cheese ugh good delivery people always nice food comes piping hot favorite pizza ever even delicious reheated next day could eat everyday without getting fat would lol def order yummmmm',\n",
       " 'great caf laptop time join laptop line big central table enjoy best smoothies cold press juices town pet giant lazy bernese dog great cakes muffins vegan gluten free options',\n",
       " 'food really good noticed owners friendly go way customers everytime go busy know low raters talking experienced anything great service food picky',\n",
       " 'went bernard bistro pleased find restaurant still open chef bernard passed away still good menu prices service great saturday night unobtrusive live music made nice shrimp linguine tasty like ambiance decor',\n",
       " 'favorite pizza place son birthday always let pick wants always wants stevie today picked pizzas left super sweet message boxes totally made day thanks yummy pizza making dad special',\n",
       " 'went friend appetizer sampler yummy gave us chance try different flavors big spring roll fan yet favorites friend burger pleased asiago peppercorn steak sauce excellent think could eat anything overall excellent meal',\n",
       " 'omg say cinnamon sugar crepe scoop vanilla gelato lines confusing stand coffee stand dessert stand way piss took crepe go luxury room tamf tasty ass mother fucker',\n",
       " 'really wonderful price eat vegetarian vegan items menu indicated let know contains traces animal products even boyfriend vegan loved sesame fake beef wonderful must try cannot begin explain amazing fried taro balls service always consistant past years nothing complain',\n",
       " 'know possible make fish taco better dan original joint doubt ever anything else expect review anything fish tacos say go get fish tacos needs said good people amazing food kind place locals need spread word wow',\n",
       " 'heard little italian spot friend henderson check decided chicken francese sub penne alla vodka sauce probably best city respect someone takes time make everything homemade cannolis lemony taste amazing making drive across town eat',\n",
       " 'great food great service complain like authentic chinese food area king wah place go roasted duck absolutely amazing oysters roasted pork delicious everything tastes fresh market food reasonably priced service great may speak english well think adds authenticity food straight china definitely coming back',\n",
       " 'favorite place go lunch really great pizzas salads favorites chicken pesto pizza pear gorgonzola salad great prices atmosphere service highly recommend',\n",
       " 'love atom bombs love hot sauce bar online ordering super fast easy sonny great',\n",
       " 'best bar campus looking conversation friends potential dates murphy bartenders friendly food always made order pub cleanest campus',\n",
       " 'went friday night wifes birthday us reservations table ready got service awesome food great cocktails yummy need go back sample cocktails love place',\n",
       " 'outstanding visiting montreal week ate lot great restaurants one best place small chalkboard menu changes every night whatever worth visit plateau du mont royal area make sure put list',\n",
       " 'first time terrible experience get served sitting table twenty minutes ended leaving recently gave second go pleasantly surprised staff helpful attentive atmosphere awesome jambalaya shared friend thanks waitress telling us would better sharing waitress changed whole view place would definitely come back jambalaya',\n",
       " 'place delicious small quaint atmosphere romantic rave food enough tried several different items impressed nice restaurant creative high end menu options area restaurant mine husbands favorite date night recommend make reservations since pearl place fills quickly good reason',\n",
       " 'great lunch squash soup grilled cheese honey sandwich wonderful blue cheese squash lettuce salad outstanding atmosphere give try',\n",
       " 'came top yelp search omg awesome experience three lunch course get two different types cocktail smoke mirrors fig something delicious party everybody raving ambience service food drinks highly recommended',\n",
       " 'came reading several great reviews yelp first time vegas first meal man oh man amazing sat outside watched fountain show bellagio bf chicken liver pate onion soup oz steak fries half chicken mashed potatoes large french sangria drink amazing must try worth wait door servers super nice',\n",
       " 'still super yummy love lunch specials tom kha gai awesome tea coffee specials love place ever go stop',\n",
       " 'love place fanciest looking joint best mexican food ever well done',\n",
       " 'absolutely phenomenal service food chefs wonderful staff incredible best food tasted years thank god hearthstone new spot friends happy hour incredible servers cool',\n",
       " 'good friendly staff patrons everyone always seems regular go plain cheese also pepperoni sausage new yorker boyfriend gave seal approval eating almost whole pizza lol ordering sure call ahead take great busy',\n",
       " 'stood line mins try frozen hot chocolate worth footlong hot dog added bonus good',\n",
       " 'great seating surely plus view conservatory botanical garden bacon cheese burger best burger ever waiter great kept water glasses topped',\n",
       " 'people really nice customer service make sure check get free bomb banana muffin used groupon even better deal potatoes top notch coming back soon',\n",
       " 'frequent flyer harris nothing great things say menu hilariously superb bar items excellent get ceaser salad frequently also macaroni cheese always top line f bomb martini satisfy taste buds always done right arugula steak salad always great choice could go also sure visit sister restaurant shiloh mount washington',\n",
       " 'good vacation wanted get strip eat authentic delicious',\n",
       " 'would totally taken sandwich back home knew would make way back los angeles okay reals place super good got club sandwich turkey dry tasted good little bit dijon mustard friend got hawaiian friend got club well earl back bring everyone know sandwich place probably best sandwich long time',\n",
       " 'green papaya salad must order item one favorite restaurants valley',\n",
       " 'place awesome love concept restaurant wish one near los angeles close one los angeles san diego place awesome love getting big ass burger also love fact menu wall waiters freaking hilarious hats put people awesome place perfect big group guarantee laugh must go visiting vegas',\n",
       " 'got vegan red velvet cake vegan strawberry short cake really good need come back try meal short time thing would recommend printable menus take home big deal online read recommendation definitely coming back',\n",
       " 'awesome delicious fresh food super friendly staff love industrial feel space open place oakland',\n",
       " 'little nervous realized restaurant completely raw eat mostly vegan plant based meals interesting raw experiences restaurants enjoy food case meals awesome environment staff overall vibe restaurant enjoyable highly recommend checking place',\n",
       " 'yummy best vegas buffet far fairly new first tried',\n",
       " 'best mexican food town hands love enchilada plates frank lupe sopapillas good illegal salsa good want drink authentic mexican food americanized taste stick manuel midwest pacific nw east coast access fare definitely come',\n",
       " 'great clean place get food service great food good pho amazing beat',\n",
       " 'another great restaurant aria went early evening course menu food excellent special mention main dish oz filet mignon perfectly cooked medium rare comes five different sauces great',\n",
       " 'great little place happy hour prices awesome good food great relaxed atmosphere',\n",
       " 'food excellent service good sweet owner cares make sure everything meets high standards',\n",
       " 'enjoyed benedict combo brunch place real hole wall know definitely miss great service great food reasonably priced definitely worthy high ratings gotten',\n",
       " 'quinn charming knowledgeable totally set perfect menu us great wine pairing thoroughly enjoyed whole experience upton lovely patio yay ribs fried chicken salmon farro salad great',\n",
       " 'closed remember coming half year ago everything perfect great steak fresh beer great service salad phenominal hands believe great shame hear place closed one good ones',\n",
       " 'place pretty awesome individual gumbo soup dishes made asian lady doubt cajun makes good food yeah place casino definitely worth standing line',\n",
       " 'never given pizza place five stars lovely bride met tim sarah two teenagers pizza bianco thursday night table six required minute wait bar bianco well worth given six us ordered five pies margherita rosa sonny boy biancoverde wise guy okay hate admit best pizzas ever bar none recommend rosa wife likes wise guy place stellar',\n",
       " 'could happier pdq cater year olds birthday party since running time needed help loves chicken tenders year olds figured would hit right kids parents raved food wanted time brought sauces plates napkins utensils easy thank pdq made party excellent',\n",
       " 'always pleasant time sushi koma fish always tastes fresh good wish could get one order sashimi roll favorite servers also really friendly nice know name one servers always says hi boyfriend whenever sees us come often since state still recognizes us good continue coming every time vegas',\n",
       " 'work shopping center come lunch least week food always delicious make fast great lunch break love jumping noodle bowls always polite warm walk important restaurant always clean love place',\n",
       " 'stopped early dinner couple weeks ago everyone friendly loved nachos tacos margaritas definitely back',\n",
       " 'great dinner prompt service great food prices reasonable given quality meal certainly back honey walnut shrimp spicy thai shrimp excellent sushi roll tasty adequate proportion',\n",
       " 'second time must say food excellent tepan place compares steak lovers combo comes new york strip filet minion best kobe beef best steak ever beats high end rest strip u tried know missing',\n",
       " 'second visit many weeks place gets better better need queso service great drinks weekly special great time reasonable price quality always costs little',\n",
       " 'best chicago food las vegas must pizza whether like traditional deep dish thin covered italian beefs homemade giardiniera homemade cannoli great chicago sports fan watch game',\n",
       " 'owner always friendly remembers name food phenomenal husbands chef bit food snob fresh flavor always point excellent healthy choices menu definitely recommend place',\n",
       " 'looking great hawaiian food place love lunch special especially garlic chicken macaroni salad delicious tried menu items garlic chicken also appreciate military discount friendly staff keep outstanding job',\n",
       " 'probably one best sushi place charlotte offer eat sushi top notch quality sushi staffs great friendly place nice environment sushi aesthetic',\n",
       " 'hands best sushi restaurant town extreme premium selections quality flavors point spoiled eating',\n",
       " 'loveliest tea room possibly world great way start new year moment enter surrounded charming british touches owner certainly knows present proper british tea everything delightful wait return',\n",
       " 'walking around comparing restaurants decided try restaurant ordered oxtail fried rice sushi rolls yellow tail salmon tuna combo unagi bowl every dish exceeded expectation asian foodie def suits asian taste buds price ok portions reasonable small bites size would recommend others try',\n",
       " 'favorite sushi spot phoenix fish always super fresh atmosphere super cool great hh',\n",
       " 'friendly staff amazing food enjoyed chicken satay like times going back work shopping center awesome option',\n",
       " 'bar tr charmant tacos tr correct et les boissons chaudes sont tr originales je recommande chaudement',\n",
       " 'came family members enjoyed meals immensely portions generous affordable staff polite friendly chicago gyros definitely one regular restaurant stops',\n",
       " 'recent experience another restaurant motivated review armstrong order work every often huge portions good prices food always good years never bad meal',\n",
       " 'sat bar delicious romaine salad artic char one better meals awhile service top notch',\n",
       " 'love love love love love really casual atmosphere like looking something nicer side however food staff incredible also back one places vegas bring dog lots regulars want good breakfast go',\n",
       " 'recently moved city takes bread making seriously also spent large amounts time europe little bit bread snob thank noble understanding bread supposed made see every saturday',\n",
       " 'one favorite restaurants love teppanyaki sushi really fresh',\n",
       " 'love zabas tell listen chipo place never stop trying zabas burritos die fish tacos even get started good fish tacos oh smart enough stop friday saturday sunday try shrimp ceviche omg',\n",
       " 'beer exceptionally good beer brew premise going run even better bar go hang asu season oh bejesus arizona chicken rolls phenomenal wish give little charge going stop ordering deliciously spicy idea white sauce dip good insert said',\n",
       " 'people tasty juicy fresh chicken ever puts chickfila shame try tenders garlic aioli sauce ridiculously good',\n",
       " 'franco excellent italian fare good gets good better food florence siena rome two weeks ago antipasti plate white anchovies burrata melon proscuitto red peppers excellent veal scallopini great sauce seafood risotto excellent fresh ingredients olive oil surprised ca corto purchased ajs good franco charming great chef',\n",
       " 'pretty much best mexican food quick eats tacos quesadillas love tacos de asada way cooked real ranchera meat best meat cook tacos location strip well also spot want away strip especially locals say awesome taste',\n",
       " 'greek love greek food one awesome without doubt say best greek restaurant clean even menus clean environment reminds greece service fast friendly dishes yummy totally recommend',\n",
       " 'food service atmosphere owner ask anything better enough room tell great place',\n",
       " 'best happy hour half price drinks except shots select appetizers friendly staff',\n",
       " ...]"
      ]
     },
     "execution_count": 129,
     "metadata": {},
     "output_type": "execute_result"
    }
   ],
   "source": [
    "corpus_5stars"
   ]
  },
  {
   "cell_type": "code",
   "execution_count": 130,
   "metadata": {
    "collapsed": true
   },
   "outputs": [],
   "source": [
    "all_5_4_train = np.append(corpus_5stars, corpus_4stars)\n",
    "all_5_4_3_train = np.append(all_5_4_train, corpus_3stars)\n",
    "all_5_4_3_2_train = np.append(all_5_4_3_train, corpus_2stars)\n",
    "all_text_train = np.append(all_5_4_3_2_train, corpus_1stars)"
   ]
  },
  {
   "cell_type": "code",
   "execution_count": 132,
   "metadata": {
    "collapsed": false
   },
   "outputs": [
    {
     "data": {
      "text/plain": [
       "728271"
      ]
     },
     "execution_count": 132,
     "metadata": {},
     "output_type": "execute_result"
    }
   ],
   "source": [
    "len(all_text_train)"
   ]
  },
  {
   "cell_type": "code",
   "execution_count": 135,
   "metadata": {
    "collapsed": false,
    "scrolled": false
   },
   "outputs": [
    {
     "data": {
      "text/plain": [
       "728272.0"
      ]
     },
     "execution_count": 135,
     "metadata": {},
     "output_type": "execute_result"
    }
   ],
   "source": [
    "len(resto_review)*.8"
   ]
  },
  {
   "cell_type": "code",
   "execution_count": 136,
   "metadata": {
    "collapsed": false,
    "scrolled": true
   },
   "outputs": [
    {
     "data": {
      "text/plain": [
       "array([ 'best fish burrito ever good beer selection definitely looking forward coming back trying items',\n",
       "       'discovered place first moved become addicted vegetarian grilled veggie wrap yummy friends told subs delicious well especially get mike way jersey mike favorite though staff always super friendly packer fans always come wrap watch packer game feel home',\n",
       "       'worth wait like everyone else think place fantastic well remember french name want eat everything looks good bring things breakfast great stuff lady says control good also bring coffee beer pretty ideal noon',\n",
       "       ...,\n",
       "       'terrible service server rude took minutes get drink order forget food really wanted try worth wait terrible servicio mesera de mal humor grosera se tardan en atenderte para las bebidas ya ni hablar de la comida vale la pena',\n",
       "       'one servers rude looks like guy blond hair ordering kept interrupting saying would order finishing food one bussed boys tried take vape juice luckily caught bottle',\n",
       "       'food ok u live ca need come definitely better worse give place one star check ur id u use credit card pay though sure store policy policy imposed specific waitress specific person like however either plainly cheap well deserves one star'], \n",
       "      dtype='|S479')"
      ]
     },
     "execution_count": 136,
     "metadata": {},
     "output_type": "execute_result"
    }
   ],
   "source": [
    "all_text_train"
   ]
  },
  {
   "cell_type": "code",
   "execution_count": 144,
   "metadata": {
    "collapsed": true
   },
   "outputs": [],
   "source": [
    "def perform_lda(allReviewsTrain, numTopics):\n",
    "    corpus = []\n",
    "    for review in allReviewsTrain:\n",
    "        # Remove punctuations\n",
    "        review = re.sub(r'[^a-zA-Z]', ' ', review)\n",
    "        # To lowercase\n",
    "        review = review.lower()\n",
    "        # Remove stop words\n",
    "        texts = [word for word in review.lower().split() if word not in stoplist]\n",
    "        try:\n",
    "            corpus.append(texts)\n",
    "        except:\n",
    "            pass\n",
    "\n",
    "    # Build dictionary\n",
    "    dictionary = corpora.Dictionary(corpus)\n",
    "    dictionary.save('restaurant_reviews.dict')\n",
    "        \n",
    "    # Build vectorized corpus\n",
    "    corpus_2 = [dictionary.doc2bow(text) for text in corpus]\n",
    "    #corpora.MmCorpus.serialize('LDA/restaurant_reviews.mm', corpus_2)\n",
    "    print(corpus_2)\n",
    "    \n",
    "    lda = models.LdaModel(corpus_2, num_topics=numTopics, id2word=dictionary)\n",
    "    return lda"
   ]
  },
  {
   "cell_type": "code",
   "execution_count": null,
   "metadata": {
    "collapsed": false
   },
   "outputs": [],
   "source": [
    "%time lda = perform_lda(all_text_train, numTopics)"
   ]
  },
  {
   "cell_type": "code",
   "execution_count": null,
   "metadata": {
    "collapsed": true
   },
   "outputs": [],
   "source": []
  }
 ],
 "metadata": {
  "anaconda-cloud": {},
  "kernelspec": {
   "display_name": "Python [default]",
   "language": "python",
   "name": "python2"
  },
  "language_info": {
   "codemirror_mode": {
    "name": "ipython",
    "version": 2
   },
   "file_extension": ".py",
   "mimetype": "text/x-python",
   "name": "python",
   "nbconvert_exporter": "python",
   "pygments_lexer": "ipython2",
   "version": "2.7.12"
  }
 },
 "nbformat": 4,
 "nbformat_minor": 1
}

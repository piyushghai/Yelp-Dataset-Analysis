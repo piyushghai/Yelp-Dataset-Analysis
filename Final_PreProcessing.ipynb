{
 "cells": [
  {
   "cell_type": "code",
   "execution_count": 1,
   "metadata": {
    "collapsed": false
   },
   "outputs": [
    {
     "name": "stdout",
     "output_type": "stream",
     "text": [
      "Populating the interactive namespace from numpy and matplotlib\n"
     ]
    }
   ],
   "source": [
    "%pylab inline"
   ]
  },
  {
   "cell_type": "markdown",
   "metadata": {},
   "source": [
    "## Converting the relevant JSONs to CSV files to ease their processing later on"
   ]
  },
  {
   "cell_type": "code",
   "execution_count": 2,
   "metadata": {
    "collapsed": true
   },
   "outputs": [],
   "source": [
    "import argparse\n",
    "import collections\n",
    "import csv\n",
    "import json as json\n",
    "import pandas as pd\n",
    "import cPickle as pickle"
   ]
  },
  {
   "cell_type": "code",
   "execution_count": 3,
   "metadata": {
    "collapsed": true
   },
   "outputs": [],
   "source": [
    "## This function is provided by Yelp along with the dataset\n",
    "def read_and_write_file(json_file_path, csv_file_path, column_names):\n",
    "    #Read in the json dataset file and write it out to a csv file, given the column names.#\n",
    "    with open(csv_file_path, 'wb+') as fout:\n",
    "        csv_file = csv.writer(fout)\n",
    "        csv_file.writerow(list(column_names))\n",
    "        with open(json_file_path) as fin:\n",
    "            for line in fin:\n",
    "                line_contents = json.loads(line)\n",
    "                csv_file.writerow(get_row(line_contents, column_names))\n"
   ]
  },
  {
   "cell_type": "code",
   "execution_count": 4,
   "metadata": {
    "collapsed": true
   },
   "outputs": [],
   "source": [
    "## This function is provided by Yelp along with the dataset\n",
    "def get_superset_of_column_names_from_file(json_file_path):\n",
    "    #Read in the json dataset file and return the superset of column names.#\n",
    "    column_names = set()\n",
    "    with open(json_file_path) as fin:\n",
    "        for line in fin:\n",
    "            line_contents = json.loads(line)\n",
    "            column_names.update(\n",
    "                    set(get_column_names(line_contents).keys())\n",
    "                    )\n",
    "    return column_names\n"
   ]
  },
  {
   "cell_type": "code",
   "execution_count": 5,
   "metadata": {
    "collapsed": true
   },
   "outputs": [],
   "source": [
    "## This function is provided by Yelp along with the dataset\n",
    "def get_column_names(line_contents, parent_key=''):\n",
    "    \"\"\"Return a list of flattened key names given a dict.\n",
    "    Example:\n",
    "        line_contents = {\n",
    "            'a': {\n",
    "                'b': 2,\n",
    "                'c': 3,\n",
    "                },\n",
    "        }\n",
    "        will return: ['a.b', 'a.c']\n",
    "    These will be the column names for the eventual csv file.\n",
    "    \"\"\"\n",
    "    column_names = []\n",
    "    for k, v in line_contents.iteritems():\n",
    "        column_name = \"{0}.{1}\".format(parent_key, k) if parent_key else k\n",
    "        if isinstance(v, collections.MutableMapping):\n",
    "            column_names.extend(\n",
    "                    get_column_names(v, column_name).items()\n",
    "                    )\n",
    "        else:\n",
    "            column_names.append((column_name, v))\n",
    "    return dict(column_names)"
   ]
  },
  {
   "cell_type": "code",
   "execution_count": 6,
   "metadata": {
    "collapsed": true
   },
   "outputs": [],
   "source": [
    "## This function is provided by Yelp along with the dataset\n",
    "def get_nested_value(d, key):\n",
    "    \"\"\"Return a dictionary item given a dictionary `d` and a flattened key from `get_column_names`.\n",
    "    \n",
    "    Example:\n",
    "        d = {\n",
    "            'a': {\n",
    "                'b': 2,\n",
    "                'c': 3,\n",
    "                },\n",
    "        }\n",
    "        key = 'a.b'\n",
    "        will return: 2\n",
    "    \n",
    "    \"\"\"\n",
    "    if '.' not in key:\n",
    "        if key not in d:\n",
    "            return None\n",
    "        return d[key]\n",
    "    base_key, sub_key = key.split('.', 1)\n",
    "    if base_key not in d:\n",
    "        return None\n",
    "    sub_dict = d[base_key]\n",
    "    return get_nested_value(sub_dict, sub_key)\n"
   ]
  },
  {
   "cell_type": "code",
   "execution_count": 7,
   "metadata": {
    "collapsed": true
   },
   "outputs": [],
   "source": [
    "## This function is provided by Yelp along with the dataset\n",
    "def get_row(line_contents, column_names):\n",
    "    \"\"\"Return a csv compatible row given column names and a dict.\"\"\"\n",
    "    row = []\n",
    "    for column_name in column_names:\n",
    "        line_value = get_nested_value(\n",
    "                        line_contents,\n",
    "                        column_name,\n",
    "                        )\n",
    "        if isinstance(line_value, unicode):\n",
    "            row.append('{0}'.format(line_value.encode('utf-8')))\n",
    "        elif line_value is not None:\n",
    "            row.append('{0}'.format(line_value))\n",
    "        else:\n",
    "            row.append('')\n",
    "    return row"
   ]
  },
  {
   "cell_type": "code",
   "execution_count": 12,
   "metadata": {
    "collapsed": true
   },
   "outputs": [],
   "source": [
    "def convertToCSV(jsonFile, csvFileName):\n",
    "    column_names = get_superset_of_column_names_from_file(jsonFile)\n",
    "    read_and_write_file(jsonFile, csvFileName, column_names)"
   ]
  },
  {
   "cell_type": "code",
   "execution_count": 14,
   "metadata": {
    "collapsed": false
   },
   "outputs": [],
   "source": [
    "convertToCSV('Data/yelp_academic_dataset_business.json', 'Data/yelp_academic_dataset_business.csv')"
   ]
  },
  {
   "cell_type": "code",
   "execution_count": 16,
   "metadata": {
    "collapsed": true
   },
   "outputs": [],
   "source": [
    "convertToCSV('Data/yelp_academic_dataset_review.json', 'Data/yelp_academic_dataset_review.csv')"
   ]
  },
  {
   "cell_type": "code",
   "execution_count": 19,
   "metadata": {
    "collapsed": true
   },
   "outputs": [],
   "source": [
    "def getReducedDataFrame():\n",
    "    bus_data = pd.read_csv(\"Data/yelp_academic_dataset_business.csv\", dtype=unicode)\n",
    "    rev_data = pd.read_csv(\"Data/yelp_academic_dataset_review.csv\")\n",
    "    len(rev_data)\n",
    "    len(bus_data)\n",
    "    #We are targetting reviews related to restaurants only\n",
    "    resto_business_data = bus_data[bus_data['categories'].str.contains('Restaurants')]\n",
    "    len(rev_data)\n",
    "    #Merging review data along with business data based on business id.\n",
    "    resto_review_data = rev_data.merge(resto_business_data,\n",
    "                                         left_on='business_id',\n",
    "                                         right_on='business_id',\n",
    "                                         suffixes=('_review', '_business'))\n",
    "    #list(resto_review_data)\n",
    "    #Stripping out everything else and just keeping the text of reviews and star rating\n",
    "    resto_review_data = resto_review_data.ix[:,['text','stars_review']]\n",
    "    return resto_review_data"
   ]
  },
  {
   "cell_type": "code",
   "execution_count": 22,
   "metadata": {
    "collapsed": false
   },
   "outputs": [],
   "source": [
    "#Stripping out everything else and just keeping the text of reviews and star rating\n",
    "resto_review_data = getReducedDataFrame()"
   ]
  },
  {
   "cell_type": "code",
   "execution_count": 23,
   "metadata": {
    "collapsed": true
   },
   "outputs": [],
   "source": [
    "# Sampling the reviews based on their lenghts\n",
    "def reduceReviewBasedOnLength(resto_review_data, minReviewLen, maxReviewLen) :\n",
    "    resto_review_reduced = resto_review_data[resto_review_data.text.str.len() > minReviewLen]\n",
    "    len(resto_review_reduced)\n",
    "    resto_review_reduced = resto_review_reduced[resto_review_reduced.text.str.len() < maxReviewLen]\n",
    "    return resto_review_reduced"
   ]
  },
  {
   "cell_type": "code",
   "execution_count": 25,
   "metadata": {
    "collapsed": false
   },
   "outputs": [
    {
     "data": {
      "text/plain": [
       "910340"
      ]
     },
     "execution_count": 25,
     "metadata": {},
     "output_type": "execute_result"
    }
   ],
   "source": [
    "##Before\n",
    "len(resto_review_data) \n",
    "resto_review = reduceReviewBasedOnLength(resto_review_data= resto_review_data, minReviewLen=50, maxReviewLen=500)\n",
    "##After\n",
    "len(resto_review)"
   ]
  },
  {
   "cell_type": "code",
   "execution_count": 27,
   "metadata": {
    "collapsed": true
   },
   "outputs": [],
   "source": [
    "### Optional :  Sampling : In case you want to save your laptop from frying!\n",
    "#resto_review = resto_review.sample(1000)"
   ]
  },
  {
   "cell_type": "code",
   "execution_count": 28,
   "metadata": {
    "collapsed": true
   },
   "outputs": [],
   "source": [
    "## Convert the star rating to float for use later on\n",
    "resto_review.stars_review = resto_review.stars_review.astype(float)"
   ]
  },
  {
   "cell_type": "code",
   "execution_count": 31,
   "metadata": {
    "collapsed": false
   },
   "outputs": [],
   "source": [
    "## Dump the review files so that they can be used for generating test and training data\n",
    "pickle.dump(resto_review, open(\"resto_review.p\", \"wb\"))"
   ]
  }
 ],
 "metadata": {
  "anaconda-cloud": {},
  "kernelspec": {
   "display_name": "Python [default]",
   "language": "python",
   "name": "python2"
  },
  "language_info": {
   "codemirror_mode": {
    "name": "ipython",
    "version": 2
   },
   "file_extension": ".py",
   "mimetype": "text/x-python",
   "name": "python",
   "nbconvert_exporter": "python",
   "pygments_lexer": "ipython2",
   "version": "2.7.12"
  }
 },
 "nbformat": 4,
 "nbformat_minor": 1
}
